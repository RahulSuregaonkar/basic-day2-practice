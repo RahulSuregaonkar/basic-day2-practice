{
 "cells": [
  {
   "cell_type": "markdown",
   "metadata": {},
   "source": [
    "Assignment 1 \n",
    "Rahul Suregaonkar fsds 2.0"
   ]
  },
  {
   "cell_type": "markdown",
   "metadata": {},
   "source": [
    "Question 1\n",
    "\n",
    "in the below elements which of them are values or an expression? \n",
    "eg:- values can be integer or string and expressions will be mathematical operators \n",
    "*\n",
    "'hello'\n",
    "-87.8\n",
    "-\n",
    "/\n",
    "    +\n",
    "6"
   ]
  },
  {
   "cell_type": "markdown",
   "metadata": {},
   "source": [
    "1) * is an expression\n",
    "2) 'hello' is a value \n",
    "3) -87.8 is a value \n",
    "4) / is expreesion \n",
    "5) + is an expression \n",
    "6) 6 is a value "
   ]
  },
  {
   "cell_type": "markdown",
   "metadata": {},
   "source": [
    "question 2 \n",
    "\n",
    "what is the difference between string and variable? "
   ]
  },
  {
   "cell_type": "markdown",
   "metadata": {},
   "source": [
    "variables are symbols that we can use to store data in a program. we ca think of as an empty box that we fill with some data or value . \n",
    "strings are data , so we can use them to fill the variable."
   ]
  },
  {
   "cell_type": "markdown",
   "metadata": {},
   "source": [
    "question 3 \n",
    "\n",
    "describe 3 types of data types "
   ]
  },
  {
   "cell_type": "markdown",
   "metadata": {},
   "source": [
    "numerical data types : int,float,complex\n",
    "\n",
    "string data types : str\n",
    "\n",
    "sequential type : list,tuple,range \n",
    "\n",
    "binary type : bytes, byte array , memory view \n",
    "\n",
    "mapping data type : dict\n",
    "\n",
    "boolean type : bool "
   ]
  },
  {
   "cell_type": "markdown",
   "metadata": {},
   "source": [
    "question 4 \n",
    "\n",
    "what is an expression made up of? what do all expressions do? "
   ]
  },
  {
   "cell_type": "markdown",
   "metadata": {},
   "source": [
    "An expression is combination of operators and operands that are interpreted to produce some other value . \n",
    "an expression is evaluated as per the precedence of its operators.\n",
    " \n",
    "An expression is an instruction that combines values and operators and always evaluates down to a single value. For example, this is an expression: >>> 2 + 2. The 2s are integer values and the + is the mathematical operator. This expression evaluates down to the single integer value 4.\n",
    "\n",
    "An expression is a combination of values, variables, operators, and calls to functions. Expressions need to be evaluated. If you ask Python to print an expression, the interpreter evaluates the expression and displays the result."
   ]
  },
  {
   "cell_type": "markdown",
   "metadata": {},
   "source": [
    "question 5\n",
    "\n",
    "this assignment statements, like spam =10 . what is the difference between an expression and a statement?\n"
   ]
  },
  {
   "cell_type": "markdown",
   "metadata": {},
   "source": [
    "Instructions that a Python interpreter can execute are called statements. For example, spam = 10 is an assignment statement. if statement, for statement, while statement, etc.\n",
    "difference between an expression and a statement\n",
    "\n",
    "expression : Expressions only contain identifiers, literals and operators, where operators include arithmetic and boolean operators, the function call operator () the subscription operator [] and similar, and can be reduced to some kind of \"value\", which can be any Python object.\n",
    "\n",
    "Expressions can also include function calls (including calling classes for object instantiation). Technically these are \"identifiers\" exactly like names bound to values in an = statement ... even though the binding is through the 'def' or 'class' keywords. However, for this answer I would separately spell out function calls to make that clear.\n",
    "\n",
    "a statement :\n",
    "My understanding is print(“hi”) is a statement as it’s a predefined function in python that may return a value whether you choose to use it or not. It could very well be an error code value to make sure the function completed execution.\n",
    "\n",
    "Statements in general are either declarations or things that are executed for their side effects\n",
    "\n",
    "A statement describes an action to be carried out. Typically, a statement does one of the following:\n",
    "• Changes the program state (e.g. opening a file, changing the value of a variable, calling a procedure that does one of these things).\n",
    "• Performs input and/or output\n",
    "• Defines (or forms part of the definition of) a procedure/function/class/variable\n",
    "Defines a control structure (e.g. if statement, for/while loop\n"
   ]
  },
  {
   "cell_type": "markdown",
   "metadata": {},
   "source": [
    "question 6 \n",
    "\n",
    "after running the following code what does the variable bacon conatin ?"
   ]
  },
  {
   "cell_type": "code",
   "execution_count": 1,
   "metadata": {},
   "outputs": [
    {
     "name": "stdout",
     "output_type": "stream",
     "text": [
      "23\n"
     ]
    }
   ],
   "source": [
    "bacon = 22 \n",
    "print(bacon+1)"
   ]
  },
  {
   "cell_type": "markdown",
   "metadata": {},
   "source": [
    "here bacon is a name variable i.e it is equal to 22 \n",
    "type as integer "
   ]
  },
  {
   "cell_type": "markdown",
   "metadata": {},
   "source": [
    "question 7 \n",
    "\n",
    "what should the values of the following two terms be?\n",
    "'spam' + 'spamspam'\n",
    "'spam'*3\n",
    "?"
   ]
  },
  {
   "cell_type": "code",
   "execution_count": 3,
   "metadata": {},
   "outputs": [
    {
     "name": "stdout",
     "output_type": "stream",
     "text": [
      "30\n",
      "30\n"
     ]
    }
   ],
   "source": [
    "spam=10\n",
    "spamspam=20\n",
    "print(spam+spamspam)\n",
    "print(spam*3)"
   ]
  },
  {
   "cell_type": "markdown",
   "metadata": {},
   "source": [
    "question 8 \n",
    "\n",
    "why eggs a valid variable name while 100 is inavlid \n"
   ]
  },
  {
   "cell_type": "markdown",
   "metadata": {},
   "source": [
    "A variable name must start with a letter or the underscore character. A variable name cannot start with a number. A variable name can only contain alpha-numeric characters and underscores (A-z, 0-9, and _ )."
   ]
  },
  {
   "cell_type": "markdown",
   "metadata": {},
   "source": [
    "question 9\n",
    "\n",
    "what 3 functions can be used to get the integer, float-point number, or a string version of a value?\n"
   ]
  },
  {
   "cell_type": "markdown",
   "metadata": {},
   "source": [
    "The int() , float() , and str( ) functions will evaluate to the integer, floating-point number, and string versions of the value passed to them."
   ]
  },
  {
   "cell_type": "markdown",
   "metadata": {},
   "source": [
    "question 10\n",
    "\n",
    "why does an expression cause an error ? how can we fix it?\n"
   ]
  },
  {
   "cell_type": "markdown",
   "metadata": {},
   "source": [
    "The expression causes an error because 99 is an integer, and only strings can be concatenated to other strings with the + operator. The correct way is I have eaten ' + str(99) + ' burritos"
   ]
  },
  {
   "cell_type": "code",
   "execution_count": 5,
   "metadata": {},
   "outputs": [
    {
     "name": "stdout",
     "output_type": "stream",
     "text": [
      "i have eaten 99 burritos\n"
     ]
    }
   ],
   "source": [
    "print(\"i have eaten \"+str(99)+\" burritos\")"
   ]
  }
 ],
 "metadata": {
  "kernelspec": {
   "display_name": "Python 3.9.7 ('base')",
   "language": "python",
   "name": "python3"
  },
  "language_info": {
   "codemirror_mode": {
    "name": "ipython",
    "version": 3
   },
   "file_extension": ".py",
   "mimetype": "text/x-python",
   "name": "python",
   "nbconvert_exporter": "python",
   "pygments_lexer": "ipython3",
   "version": "3.9.7"
  },
  "orig_nbformat": 4,
  "vscode": {
   "interpreter": {
    "hash": "220fae48ee6aa06a15b0a194b915ad59277734e5bd52415b52439bc6d564df3a"
   }
  }
 },
 "nbformat": 4,
 "nbformat_minor": 2
}
