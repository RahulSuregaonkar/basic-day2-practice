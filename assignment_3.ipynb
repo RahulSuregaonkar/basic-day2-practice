{
 "cells": [
  {
   "cell_type": "markdown",
   "metadata": {},
   "source": [
    "assignment 3 \n",
    "fsds \n",
    "rahul suregaonkar\n"
   ]
  },
  {
   "cell_type": "markdown",
   "metadata": {},
   "source": [
    "question 1 \n",
    "\n",
    "1. Why are functions advantageous to have in your programs?\n",
    "\n",
    "answer:\n",
    "\n",
    "Functions reduce the need for duplicate code. This makes programs shorter, easier to read, and easier to update.\n",
    "\n",
    "In Python, a function is a group of related statements that performs a specific task.\n",
    "\n",
    "User-defined functions – These functions are defined by the user to perform a specific task.\n",
    "Built-in functions – These functions are pre-defined functions in Python"
   ]
  },
  {
   "cell_type": "markdown",
   "metadata": {},
   "source": [
    "question 2 \n",
    "\n",
    " 2. When does the code in a function run: when its specified or when its called?\n",
    "\n",
    " answer:\n",
    "\n",
    " The code in a function executes when the function is called, not when the function is defined.\n",
    "\n",
    "\n",
    " if all we do is declare the function, nothing will happen. In order for the program to execute the code that's inside the function, we actually have to \"call\" the function, by writing its name followed by empty parentheses:"
   ]
  },
  {
   "cell_type": "markdown",
   "metadata": {},
   "source": [
    "question 3 \n",
    "\n",
    "3. What statement creates a function?\n",
    "\n",
    "answer:\n",
    "\n",
    "The “def” keyword is a statement for defining a function in Python. You start a function with the def keyword, specify a name followed by a colon (:) sign. The “def” call creates the function object and assigns it to the name given. You can further re-assign the same function object to other names.\n",
    "\n",
    "\n",
    "\n",
    "In Python, you define a function with the def keyword, then write the function identifier (name) followed by parentheses and a colon. The next thing you have to do is make sure you indent with a tab or 4 spaces, and then specify what you want the function to do for you."
   ]
  },
  {
   "cell_type": "markdown",
   "metadata": {},
   "source": [
    "question 4 \n",
    "\n",
    "4. What is the difference between a function and a function call?\n",
    "\n",
    "answer:\n",
    "\n",
    "A function call is an expression containing the function name followed by the function call operator, () . If the function has been defined to receive parameters, the values that are to be sent into the function are listed inside the parentheses of the function call operator.\n",
    "\n",
    "\n",
    "A function is a block of code that does a particular operation and returns a result. It usually accepts inputs as parameters and returns a result. The parameters are not mandatory. A function call is the code used to pass control to a function.\n"
   ]
  },
  {
   "cell_type": "markdown",
   "metadata": {},
   "source": [
    "question 5 \n",
    "\n",
    "5. How many global scopes are there in a Python program? How many local scopes?\n",
    "\n",
    "answer:\n",
    "\n",
    "Global scope: The names that you define in this scope are available to all your code.\n",
    "\n",
    "Local scope: The names that you define in this scope are only available or visible to the code within the scope.\n",
    "\n",
    "There's only one global Python scope per program execution. This scope remains in existence until the program terminates and all its names are forgotten. Otherwise, the next time you were to run the program, the names would remember their values from the previous run.\n",
    "\n",
    "A variable created in the main body of the Python code is a global variable and belongs to the global scope. Global variables are available from within any scope, global and local\n",
    "\n",
    "there are four scopes \n",
    "At any given time during execution, you'll have at most four active Python scopes—local, enclosing, global, and built-in—depending on where you are in the code. On the other hand, you'll always have at least two active scopes, which are the global and built-in scopes.\n"
   ]
  },
  {
   "cell_type": "markdown",
   "metadata": {},
   "source": [
    "question 6\n",
    "\n",
    "\n",
    "6. What happens to variables in a local scope when the function call returns?\n",
    "\n",
    "answer:\n",
    "\n",
    "When the execution of the function terminates (returns), the local variables are destroyed.\n",
    "\n",
    "\n",
    "Yes they will be deleted. Every time you call a function you put a \"stack frame\" on top of the stack where all the local variables live in, and when the function is done, the stack frame will be \"teared down\"."
   ]
  },
  {
   "cell_type": "markdown",
   "metadata": {},
   "source": [
    "question 7 \n",
    "\n",
    "7. What is the concept of a return value? Is it possible to have a return value in an expression?\n",
    "\n",
    "answer:\n",
    "\n",
    "A return statement is used to end the execution of the function call and “returns” the result (value of the expression following the return keyword) to the caller. The statements after the return statements are not executed. If the return statement is without any expression, then the special value None is returned. A return statement is overall used to invoke a function so that the passed statements can be executed.\n",
    "\n",
    "Since return_42() returns a numeric value, you can use that value in a math expression or any other kind of expression in which the value has a logical or coherent meaning. This is how a caller code can take advantage of a function's return value.\n",
    "\n",
    "If the data type of the expression is different from the function return type, conversion of the return value takes place as if the value of the expression were assigned to an object with the same function return type. For a function of return type void , a return statement is not strictly necessary."
   ]
  },
  {
   "cell_type": "markdown",
   "metadata": {},
   "source": [
    "question 8 \n",
    "\n",
    "8. If a function does not have a return statement, what is the return value of a call to that function?\n",
    "\n",
    "answer:\n",
    "\n",
    "If no return statement appears in a function definition, control automatically returns to the calling function after the last statement of the called function is executed. In this case, the return value of the called function is undefined"
   ]
  },
  {
   "cell_type": "markdown",
   "metadata": {},
   "source": [
    "question 9\n",
    "\n",
    "9. How do you make a function variable refer to the global variable?\n",
    "\n",
    "answer\n",
    "\n",
    "Normally, when you create a variable inside a function, that variable is local, and can only be used inside that function. To create a global variable inside a function, you can use the global keyword.\n",
    "\n",
    "If you want to simply access a global variable you just use its name. However to change its value you need to use the global keyword. E.g. This would change the value of the global variable to 55.\n",
    "\n"
   ]
  },
  {
   "cell_type": "markdown",
   "metadata": {},
   "source": [
    "question 10\n",
    "\n",
    "10. What is the data type of None?\n",
    "\n",
    "answer:\n",
    "\n",
    "Definition and Usage. The None keyword is used to define a null value, or no value at all. None is not the same as 0, False, or an empty string. None is a data type of its own (NoneType) and only None can be None"
   ]
  },
  {
   "cell_type": "markdown",
   "metadata": {},
   "source": [
    "question 11 \n",
    "\n",
    "11. What does the sentence import areallyourpetsnamederic do?\n",
    "\n",
    "answer:\n",
    "\n",
    "imports a module named areallyourpetsnamederic. (This isn't a real Python module, by the way.)"
   ]
  },
  {
   "cell_type": "markdown",
   "metadata": {},
   "source": [
    "question 12 \n",
    "\n",
    "12. If you had a bacon() feature in a spam module, what would you call it after importing spam?\n",
    "\n",
    "answer:\n",
    "\n",
    "This function can be called with spam.bacon()"
   ]
  },
  {
   "cell_type": "markdown",
   "metadata": {},
   "source": [
    "question 13\n",
    "\n",
    "13. What can you do to save a programme from crashing if it encounters an error?\n",
    "\n",
    "answer:\n",
    "\n",
    "When it encounters an error, the control is passed to the except block, skipping the code in between. As seen in the above code, we have moved our code inside a try and except statement. Try running the program and it should throw an error message instead of crashing the program."
   ]
  },
  {
   "cell_type": "markdown",
   "metadata": {},
   "source": [
    "question 14 \n",
    "\n",
    "14.  What is the purpose of the try clause? What is the purpose of the except clause?\n",
    "\n",
    "answer:\n",
    "\n",
    "The try block lets you test a block of code for errors. The except block lets you handle the error. The else block lets you execute code when there is no error. The finally block lets you execute code, regardless of the result of the try- and except blocks."
   ]
  }
 ],
 "metadata": {
  "kernelspec": {
   "display_name": "Python 3.9.7 ('base')",
   "language": "python",
   "name": "python3"
  },
  "language_info": {
   "codemirror_mode": {
    "name": "ipython",
    "version": 3
   },
   "file_extension": ".py",
   "mimetype": "text/x-python",
   "name": "python",
   "nbconvert_exporter": "python",
   "pygments_lexer": "ipython3",
   "version": "3.9.7"
  },
  "orig_nbformat": 4,
  "vscode": {
   "interpreter": {
    "hash": "220fae48ee6aa06a15b0a194b915ad59277734e5bd52415b52439bc6d564df3a"
   }
  }
 },
 "nbformat": 4,
 "nbformat_minor": 2
}
