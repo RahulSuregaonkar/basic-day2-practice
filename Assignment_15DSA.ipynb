{
 "cells": [
  {
   "cell_type": "markdown",
   "metadata": {},
   "source": [
    "Assignment DSA  14\n",
    "\n",
    "Rahul Suregaonkar FSDS 2.0"
   ]
  },
  {
   "cell_type": "markdown",
   "metadata": {},
   "source": [
    "<aside>\n",
    "💡 **Question 1**\n",
    "\n",
    "Given an array **arr[ ]** of size **N** having elements, the task is to find the next greater element for each element of the array in order of their appearance in the array.Next greater element of an element in the array is the nearest element on the right which is greater than the current element.If there does not exist next greater of current element, then next greater element for current element is -1. For example, next greater of the last element is always -1.\n",
    "\n",
    "</aside>\n",
    "\n",
    "Example 1:\n",
    "\n",
    "Input:\n",
    "N = 4, arr[] = [1 3 2 4]\n",
    "Output:\n",
    "3 4 4 -1\n",
    "Explanation:\n",
    "In the array, the next larger element\n",
    "to 1 is 3 , 3 is 4 , 2 is 4 and for 4 ?\n",
    "since it doesn't exist, it is -1.\n",
    "\n",
    "Example 2:\n",
    "\n",
    "Input:\n",
    "N = 5, arr[] [6 8 0 1 3]\n",
    "Output:\n",
    "8 -1 1 3 -1\n",
    "Explanation:\n",
    "In the array, the next larger element to\n",
    "6 is 8, for 8 there is no larger elements\n",
    "hence it is -1, for 0 it is 1 , for 1 it\n",
    "is 3 and then for 3 there is no larger\n",
    "element on right and hence -1."
   ]
  },
  {
   "cell_type": "code",
   "execution_count": 1,
   "metadata": {},
   "outputs": [
    {
     "name": "stdout",
     "output_type": "stream",
     "text": [
      "11 -- 13\n",
      "13 -- 21\n",
      "21 -- -1\n",
      "3 -- -1\n"
     ]
    }
   ],
   "source": [
    "def printNGE(arr):\n",
    "     \n",
    "    for i in range(0, len(arr), 1):\n",
    " \n",
    "        next = -1\n",
    "        for j in range(i+1, len(arr), 1):\n",
    "            if arr[i] < arr[j]:\n",
    "                next = arr[j]\n",
    "                break\n",
    " \n",
    "        print(str(arr[i]) + \" -- \" + str(next))\n",
    " \n",
    " \n",
    "# Driver program to test above function\n",
    "arr = [11, 13, 21, 3]\n",
    "printNGE(arr)"
   ]
  },
  {
   "cell_type": "code",
   "execution_count": 2,
   "metadata": {},
   "outputs": [
    {
     "name": "stdout",
     "output_type": "stream",
     "text": [
      "6 -- 8\n",
      "8 -- -1\n",
      "0 -- 1\n",
      "1 -- 3\n",
      "3 -- -1\n"
     ]
    }
   ],
   "source": [
    "arr = [6,8,0,1,3]\n",
    "printNGE(arr)"
   ]
  },
  {
   "cell_type": "code",
   "execution_count": 3,
   "metadata": {},
   "outputs": [
    {
     "name": "stdout",
     "output_type": "stream",
     "text": [
      "1 -- 3\n",
      "3 -- 4\n",
      "2 -- 4\n",
      "4 -- -1\n"
     ]
    }
   ],
   "source": [
    "arr = [1,3,2,4]\n",
    "printNGE(arr)"
   ]
  },
  {
   "cell_type": "markdown",
   "metadata": {},
   "source": [
    "<aside>\n",
    "💡 **Question 2**\n",
    "\n",
    "Given an array **a** of integers of length **n**, find the nearest smaller number for every element such that the smaller element is on left side.If no small element present on the left print -1.\n",
    "\n",
    "**Example 1:**\n",
    "\n",
    "</aside>\n",
    "Input: n = 3\n",
    "a = {1, 6, 2}\n",
    "Output: -1 1 1\n",
    "Explaination: There is no number at the\n",
    "left of 1. Smaller number than 6 and 2 is 1.\n",
    "\n",
    "Example 2:\n",
    "\n",
    "Input: n = 6\n",
    "a = {1, 5, 0, 3, 4, 5}\n",
    "Output: -1 1 -1 0 3 4\n",
    "Explaination: Upto 3 it is easy to see\n",
    "the smaller numbers. But for 4 the smaller\n",
    "numbers are 1, 0 and 3. But among them 3\n",
    "is closest. Similary for 5 it is 4.\n"
   ]
  },
  {
   "cell_type": "code",
   "execution_count": 12,
   "metadata": {},
   "outputs": [
    {
     "name": "stdout",
     "output_type": "stream",
     "text": [
      "-1, 1 , -1, 0 , 3 , 4 , "
     ]
    }
   ],
   "source": [
    "def printPrevSmaller(arr, n):\n",
    "     \n",
    "    # Always print empty or '_' for\n",
    "    # first element\n",
    "    print(\"-1, \", end=\"\")\n",
    " \n",
    "    # Start from second element\n",
    "    for i in range(1, n ):\n",
    "     \n",
    "        # look for smaller element\n",
    "        # on left of 'i'\n",
    "        for j in range(i-1 ,-2 ,-1):\n",
    "         \n",
    "            if (arr[j] < arr[i]):\n",
    "             \n",
    "                print(arr[j] ,\", \",\n",
    "                            end=\"\")\n",
    "                break\n",
    " \n",
    "        # If there is no smaller\n",
    "        # element on left of 'i'\n",
    "        if (j == -1):\n",
    "            print(\"-1, \", end=\"\")\n",
    " \n",
    "# Driver program to test insertion\n",
    "# sort\n",
    "arr = [1, 5, 0, 3, 4,5]\n",
    "n = len(arr)\n",
    "printPrevSmaller(arr, n)"
   ]
  },
  {
   "cell_type": "code",
   "execution_count": 13,
   "metadata": {},
   "outputs": [
    {
     "name": "stdout",
     "output_type": "stream",
     "text": [
      "-1, 1 , 1 , "
     ]
    }
   ],
   "source": [
    "arr = [1, 6, 2]\n",
    "n = len(arr)\n",
    "printPrevSmaller(arr, n)"
   ]
  },
  {
   "cell_type": "markdown",
   "metadata": {},
   "source": [
    "<aside>\n",
    "💡 **Question 3**\n",
    "\n",
    "Implement a Stack using two queues **q1** and **q2**.\n",
    "\n",
    "**Example 1:**\n",
    "\n",
    "</aside>\n",
    "\n",
    "Example 1:\n",
    "Input:\n",
    "push(2)\n",
    "push(3)\n",
    "pop()\n",
    "push(4)\n",
    "pop()\n",
    "Output:3 4\n",
    "Explanation:\n",
    "push(2) the stack will be {2}\n",
    "push(3) the stack will be {2 3}\n",
    "pop()   poped element will be 3 the\n",
    "        stack will be {2}\n",
    "push(4) the stack will be {2 4}\n",
    "pop()   poped element will be 4\n",
    "\n",
    "<aside>\n",
    "💡 **Question 3**\n",
    "\n",
    "Implement a Stack using two queues **q1** and **q2**.\n",
    "\n",
    "**Example 1:**\n",
    "\n",
    "```\n",
    "Input:\n",
    "push(2)\n",
    "push(3)\n",
    "pop()\n",
    "push(4)\n",
    "pop()\n",
    "Output:3 4\n",
    "Explanation:\n",
    "push(2) the stack will be {2}\n",
    "push(3) the stack will be {2 3}\n",
    "pop()   poped element will be 3 the\n",
    "        stack will be {2}\n",
    "push(4) the stack will be {2 4}\n",
    "pop()   poped element will be 4\n",
    "\n",
    "```\n",
    "\n",
    "**Example 2:**\n",
    "\n",
    "</aside>\n",
    "\n",
    "Input:\n",
    "push(2)\n",
    "pop()\n",
    "pop()\n",
    "push(3)\n",
    "Output:2 -1"
   ]
  },
  {
   "cell_type": "code",
   "execution_count": 16,
   "metadata": {},
   "outputs": [
    {
     "name": "stdout",
     "output_type": "stream",
     "text": [
      "current size:  3\n",
      "4\n",
      "3\n",
      "2\n",
      "current size:  1\n"
     ]
    }
   ],
   "source": [
    "from _collections import deque\n",
    " \n",
    " \n",
    "class Stack:\n",
    " \n",
    "    def __init__(self):\n",
    " \n",
    "        # Two inbuilt queues\n",
    "        self.q1 = deque()\n",
    "        self.q2 = deque()\n",
    " \n",
    "    def push(self, x):\n",
    " \n",
    "        # Push x first in empty q2\n",
    "        self.q2.append(x)\n",
    " \n",
    "        # Push all the remaining\n",
    "        # elements in q1 to q2.\n",
    "        while (self.q1):\n",
    "            self.q2.append(self.q1.popleft())\n",
    " \n",
    "        # swap the names of two queues\n",
    "        self.q1, self.q2 = self.q2, self.q1\n",
    " \n",
    "    def pop(self):\n",
    " \n",
    "        # if no elements are there in q1\n",
    "        if self.q1:\n",
    "            self.q1.popleft()\n",
    " \n",
    "    def top(self):\n",
    "        if (self.q1):\n",
    "            return self.q1[0]\n",
    "        return None\n",
    " \n",
    "    def size(self):\n",
    "        return len(self.q1)\n",
    " \n",
    " \n",
    "# Driver Code\n",
    "if __name__ == '__main__':\n",
    "    s = Stack()\n",
    "    s.push(2)\n",
    "    s.push(3)\n",
    "    s.push(4)\n",
    " \n",
    "    print(\"current size: \", s.size())\n",
    "    print(s.top())\n",
    "    s.pop()\n",
    "    \n",
    "    s.pop()\n",
    "    print(s.top())\n",
    " \n",
    "    print(\"current size: \", s.size())"
   ]
  },
  {
   "cell_type": "markdown",
   "metadata": {},
   "source": [
    "<aside>\n",
    "💡 **Question 4**\n",
    "\n",
    "You are given a stack **St**. You have to reverse the stack using recursion.\n",
    "\n",
    "**Example 1:**\n",
    "\n",
    "</aside>\n",
    "Input:St = {3,2,1,7,6}\n",
    "Output:{6,7,1,2,3}\n",
    "\n",
    "Example 2:\n",
    "\n",
    "Input:St = {4,3,9,6}\n",
    "Output:{6,9,3,4}"
   ]
  },
  {
   "cell_type": "code",
   "execution_count": 27,
   "metadata": {},
   "outputs": [
    {
     "name": "stdout",
     "output_type": "stream",
     "text": [
      "Original Stack \n",
      "6 7 1 2 3 \n",
      "Reversed Stack \n",
      "3 2 1 7 6 \n"
     ]
    }
   ],
   "source": [
    "def insertAtBottom(stack, item):\n",
    "    if isEmpty(stack):\n",
    "        push(stack, item)\n",
    "    else:\n",
    "        temp = pop(stack)\n",
    "        insertAtBottom(stack, item)\n",
    "        push(stack, temp)\n",
    " \n",
    "# Below is the function that\n",
    "# reverses the given stack\n",
    "# using insertAtBottom()\n",
    " \n",
    " \n",
    "def reverse(stack):\n",
    "    if not isEmpty(stack):\n",
    "        temp = pop(stack)\n",
    "        reverse(stack)\n",
    "        insertAtBottom(stack, temp)\n",
    " \n",
    "# Below is a complete running\n",
    "# program for testing above\n",
    "# functions.\n",
    " \n",
    "# Function to create a stack.\n",
    "# It initializes size of stack\n",
    "# as 0\n",
    " \n",
    " \n",
    "def createStack():\n",
    "    stack = []\n",
    "    return stack\n",
    " \n",
    "# Function to check if\n",
    "# the stack is empty\n",
    " \n",
    " \n",
    "def isEmpty(stack):\n",
    "    return len(stack) == 0\n",
    " \n",
    "# Function to push an\n",
    "# item to stack\n",
    " \n",
    " \n",
    "def push(stack, item):\n",
    "    stack.append(item)\n",
    " \n",
    "# Function to pop an\n",
    "# item from stack\n",
    " \n",
    " \n",
    "def pop(stack):\n",
    " \n",
    "    # If stack is empty\n",
    "    # then error\n",
    "    if(isEmpty(stack)):\n",
    "        print(\"Stack Underflow \")\n",
    "        exit(1)\n",
    " \n",
    "    return stack.pop()\n",
    " \n",
    "# Function to print the stack\n",
    " \n",
    " \n",
    "def prints(stack):\n",
    "    for i in range(len(stack)-1, -1, -1):\n",
    "        print(stack[i], end=' ')\n",
    "    print()\n",
    " \n",
    "# Driver Code\n",
    " \n",
    " \n",
    "stack = createStack()\n",
    "push(stack, str(3))\n",
    "push(stack, str(2))\n",
    "push(stack, str(1))\n",
    "push(stack, str(7))\n",
    "push(stack, str(6))\n",
    "print(\"Original Stack \")\n",
    "prints(stack)\n",
    " \n",
    "reverse(stack)\n",
    " \n",
    "print(\"Reversed Stack \")\n",
    "prints(stack)"
   ]
  },
  {
   "cell_type": "code",
   "execution_count": 28,
   "metadata": {},
   "outputs": [
    {
     "name": "stdout",
     "output_type": "stream",
     "text": [
      "Original Stack \n",
      "4 6 9 3 4 \n",
      "Reversed Stack \n",
      "4 3 9 6 4 \n"
     ]
    }
   ],
   "source": [
    "stack = createStack()\n",
    "push(stack, str(4))\n",
    "push(stack, str(3))\n",
    "push(stack, str(9))\n",
    "push(stack, str(6))\n",
    "push(stack, str(4))\n",
    "print(\"Original Stack \")\n",
    "prints(stack)\n",
    " \n",
    "reverse(stack)\n",
    " \n",
    "print(\"Reversed Stack \")\n",
    "prints(stack)"
   ]
  },
  {
   "cell_type": "markdown",
   "metadata": {},
   "source": [
    "\n",
    "<aside>\n",
    "💡 **Question 5**\n",
    "\n",
    "You are given a string **S**, the task is to reverse the string using stack.\n",
    "\n",
    "</aside>\n",
    "\n",
    "\n",
    "Example 1:\n",
    "Input: S=\"GeeksforGeeks\"\n",
    "Output: skeeGrofskeeG"
   ]
  },
  {
   "cell_type": "code",
   "execution_count": 30,
   "metadata": {},
   "outputs": [
    {
     "name": "stdout",
     "output_type": "stream",
     "text": [
      "Reversed string is skeeGrofskeeG\n"
     ]
    }
   ],
   "source": [
    "def createStack():\n",
    "    stack = []\n",
    "    return stack\n",
    " \n",
    "# Function to determine the size of the stack\n",
    " \n",
    " \n",
    "def size(stack):\n",
    "    return len(stack)\n",
    " \n",
    "# Stack is empty if the size is 0\n",
    " \n",
    " \n",
    "def isEmpty(stack):\n",
    "    if size(stack) == 0:\n",
    "        return true\n",
    " \n",
    "# Function to add an item to stack .\n",
    "# It increases size by 1\n",
    " \n",
    " \n",
    "def push(stack, item):\n",
    "    stack.append(item)\n",
    " \n",
    "# Function to remove an item from stack.\n",
    "# It decreases size by 1\n",
    " \n",
    " \n",
    "def pop(stack):\n",
    "    if isEmpty(stack):\n",
    "        return\n",
    "    return stack.pop()\n",
    " \n",
    "# A stack based function to reverse a string\n",
    " \n",
    " \n",
    "def reverse(string):\n",
    "    n = len(string)\n",
    " \n",
    "    # Create a empty stack\n",
    "    stack = createStack()\n",
    " \n",
    "    # Push all characters of string to stack\n",
    "    for i in range(0, n, 1):\n",
    "        push(stack, string[i])\n",
    " \n",
    "    # Making the string empty since all\n",
    "    # characters are saved in stack\n",
    "    string = \"\"\n",
    " \n",
    "    # Pop all characters of string and\n",
    "    # put them back to string\n",
    "    for i in range(0, n, 1):\n",
    "        string += pop(stack)\n",
    " \n",
    "    return string\n",
    " \n",
    " \n",
    "# Driver program to test above functions\n",
    "string = \"GeeksforGeeks\"\n",
    "string = reverse(string)\n",
    "print(\"Reversed string is \" + string)"
   ]
  },
  {
   "cell_type": "markdown",
   "metadata": {},
   "source": [
    "<aside>\n",
    "💡 **Question 6**\n",
    "\n",
    "Given string **S** representing a postfix expression, the task is to evaluate the expression and find the final value. Operators will only include the basic arithmetic operators like ***, /, + and -**.\n",
    "\n",
    "</aside>\n",
    "\n",
    "\n",
    "Example 1:\n",
    "\n",
    "Input: S = \"231*+9-\"\n",
    "Output: -4\n",
    "Explanation:\n",
    "After solving the given expression,\n",
    "we have -4 as result.\n",
    "\n",
    "Example 2:\n",
    "\n",
    "Input: S = \"123+*8-\"\n",
    "Output: -3\n",
    "Explanation:\n",
    "After solving the given postfix\n",
    "expression, we have -3 as result.\n",
    "\n",
    "\n"
   ]
  },
  {
   "cell_type": "code",
   "execution_count": 31,
   "metadata": {},
   "outputs": [
    {
     "name": "stdout",
     "output_type": "stream",
     "text": [
      "postfix evaluation: -4\n"
     ]
    }
   ],
   "source": [
    "class Evaluate:\n",
    "     \n",
    "    # Constructor to initialize the class variables\n",
    "    def __init__(self, capacity):\n",
    "        self.top = -1\n",
    "        self.capacity = capacity\n",
    "         \n",
    "        # This array is used a stack\n",
    "        self.array = []\n",
    " \n",
    "    # Check if the stack is empty\n",
    "    def isEmpty(self):\n",
    "        return True if self.top == -1 else False\n",
    " \n",
    "    # Return the value of the top of the stack\n",
    "    def peek(self):\n",
    "        return self.array[-1]\n",
    " \n",
    "    # Pop the element from the stack\n",
    "    def pop(self):\n",
    "        if not self.isEmpty():\n",
    "            self.top -= 1\n",
    "            return self.array.pop()\n",
    "        else:\n",
    "            return \"$\"\n",
    " \n",
    "    # Push the element to the stack\n",
    "    def push(self, op):\n",
    "        self.top += 1\n",
    "        self.array.append(op)\n",
    " \n",
    "    # The main function that converts given infix expression\n",
    "    # to postfix expression\n",
    "    def evaluatePostfix(self, exp):\n",
    " \n",
    "        # Iterate over the expression for conversion\n",
    "        for i in exp:\n",
    " \n",
    "            # If the scanned character is an operand\n",
    "            # (number here) push it to the stack\n",
    "            if i.isdigit():\n",
    "                self.push(i)\n",
    " \n",
    "            # If the scanned character is an operator,\n",
    "            # pop two elements from stack and apply it.\n",
    "            else:\n",
    "                val1 = self.pop()\n",
    "                val2 = self.pop()\n",
    "                self.push(str(eval(val2 + i + val1)))\n",
    " \n",
    "        return int(self.pop())\n",
    " \n",
    " \n",
    " \n",
    "# Driver code\n",
    "if __name__ == '__main__':\n",
    "    exp = \"231*+9-\"\n",
    "    obj = Evaluate(len(exp))\n",
    "     \n",
    "    # Function call\n",
    "    print(\"postfix evaluation: %d\" % (obj.evaluatePostfix(exp)))"
   ]
  },
  {
   "cell_type": "code",
   "execution_count": 32,
   "metadata": {},
   "outputs": [
    {
     "name": "stdout",
     "output_type": "stream",
     "text": [
      "postfix evaluation: -3\n"
     ]
    }
   ],
   "source": [
    "if __name__ == '__main__':\n",
    "    exp = \"123+*8-\"\n",
    "    obj = Evaluate(len(exp))\n",
    "     \n",
    "    # Function call\n",
    "    print(\"postfix evaluation: %d\" % (obj.evaluatePostfix(exp)))"
   ]
  },
  {
   "cell_type": "markdown",
   "metadata": {},
   "source": [
    "<aside>\n",
    "💡 **Question 7**\n",
    "\n",
    "Design a stack that supports push, pop, top, and retrieving the minimum element in constant time.\n",
    "\n",
    "Implement the `MinStack` class:\n",
    "\n",
    "- `MinStack()` initializes the stack object.\n",
    "- `void push(int val)` pushes the element `val` onto the stack.\n",
    "- `void pop()` removes the element on the top of the stack.\n",
    "- `int top()` gets the top element of the stack.\n",
    "- `int getMin()` retrieves the minimum element in the stack.\n",
    "\n",
    "You must implement a solution with `O(1)` time complexity for each function\n",
    "\n",
    "</aside>"
   ]
  },
  {
   "cell_type": "code",
   "execution_count": 54,
   "metadata": {},
   "outputs": [],
   "source": []
  },
  {
   "cell_type": "code",
   "execution_count": 56,
   "metadata": {},
   "outputs": [
    {
     "name": "stdout",
     "output_type": "stream",
     "text": [
      "-4\n",
      "0\n",
      "-4\n",
      "-4\n"
     ]
    }
   ],
   "source": [
    "class MinStack:\n",
    "       \n",
    "    # initialize your data structure here.\n",
    "    def __init__(self):\n",
    "        self.s = []\n",
    " \n",
    "    class Node:\n",
    "        def __init__(self, val, Min):\n",
    "            self.val = val\n",
    "            self.min = Min\n",
    " \n",
    "    def push(self, x):\n",
    "        if not self.s:\n",
    "            self.s.append(self.Node(x, x))\n",
    "        else:\n",
    "            Min = min(self.s[-1].min, x)\n",
    "            self.s.append(self.Node(x, Min))\n",
    " \n",
    "    def pop(self):\n",
    "        return self.s.pop().val\n",
    " \n",
    "    def top(self):\n",
    "        return self.s[-1].val\n",
    " \n",
    "    def getMin(self):\n",
    "        return self.s[-1].min\n",
    " \n",
    "s = MinStack()\n",
    " \n",
    "# Function calls\n",
    "s.push(-1)\n",
    "s.push(10)\n",
    "s.push(-4)\n",
    "s.push(0)\n",
    "print(s.getMin())\n",
    "print(s.pop())\n",
    "print(s.top())\n",
    "print(s.getMin())"
   ]
  },
  {
   "cell_type": "markdown",
   "metadata": {},
   "source": [
    "<aside>\n",
    "💡 **Question 8**\n",
    "\n",
    "Given `n` non-negative integers representing an elevation map where the width of each bar is `1`, compute how much water it can trap after raining.\n",
    "\n",
    "**Example 1:**\n",
    "\n",
    "</aside>\n",
    "Input: height = [0,1,0,2,1,0,1,3,2,1,2,1]\n",
    "Output: 6\n",
    "Explanation: The above elevation map (black section) is represented by array [0,1,0,2,1,0,1,3,2,1,2,1]. In this case, 6 units of rain water (blue section) are being trapped.\n",
    "\n",
    "Example 2:\n",
    "Input: height = [4,2,0,3,2,5]\n",
    "Output: 9c\n"
   ]
  },
  {
   "cell_type": "code",
   "execution_count": 58,
   "metadata": {},
   "outputs": [],
   "source": [
    "class Solution1:\n",
    "    def trap(self, arr: [int]) -> int:\n",
    "        left,right=[],[]\n",
    "        mx,mx1,n=0,0,len(arr)\n",
    "        for i in arr:\n",
    "            mx=max(mx,i)\n",
    "            left.append(mx)\n",
    "        for i in range(n-1,-1,-1):\n",
    "            mx1=max(mx1,arr[i])\n",
    "            right.append(mx1)\n",
    "        right=right[::-1]\n",
    "        list1=[]\n",
    "        for i,j in zip(left,right):\n",
    "            list1.append(min(i,j))\n",
    "        count=0\n",
    "        for i in range(n):\n",
    "            if list1[i]-arr[i]>0:\n",
    "                count+=list1[i]-arr[i]\n",
    "        return count"
   ]
  },
  {
   "cell_type": "code",
   "execution_count": 59,
   "metadata": {},
   "outputs": [
    {
     "data": {
      "text/plain": [
       "6"
      ]
     },
     "execution_count": 59,
     "metadata": {},
     "output_type": "execute_result"
    }
   ],
   "source": [
    "Solution1.trap(0,[0,1,0,2,1,0,1,3,2,1,2,1])"
   ]
  },
  {
   "cell_type": "code",
   "execution_count": 60,
   "metadata": {},
   "outputs": [
    {
     "data": {
      "text/plain": [
       "9"
      ]
     },
     "execution_count": 60,
     "metadata": {},
     "output_type": "execute_result"
    }
   ],
   "source": [
    "Solution1.trap(0,[4,2,0,3,2,5])"
   ]
  }
 ],
 "metadata": {
  "kernelspec": {
   "display_name": "Python 3",
   "language": "python",
   "name": "python3"
  },
  "language_info": {
   "codemirror_mode": {
    "name": "ipython",
    "version": 3
   },
   "file_extension": ".py",
   "mimetype": "text/x-python",
   "name": "python",
   "nbconvert_exporter": "python",
   "pygments_lexer": "ipython3",
   "version": "3.11.1"
  },
  "orig_nbformat": 4
 },
 "nbformat": 4,
 "nbformat_minor": 2
}
