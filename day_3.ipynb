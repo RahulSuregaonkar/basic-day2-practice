{
 "cells": [
  {
   "cell_type": "markdown",
   "metadata": {},
   "source": [
    "logical operators \n",
    "keywords \n",
    "\n",
    "not = unary negation\n",
    "\n",
    "and = conditional AND\n",
    "\n",
    "or = conditional OR"
   ]
  },
  {
   "cell_type": "code",
   "execution_count": 16,
   "metadata": {},
   "outputs": [
    {
     "name": "stdout",
     "output_type": "stream",
     "text": [
      "True\n"
     ]
    }
   ],
   "source": [
    "START = True\n",
    "print(START)\n"
   ]
  },
  {
   "cell_type": "code",
   "execution_count": null,
   "metadata": {},
   "outputs": [],
   "source": []
  },
  {
   "cell_type": "code",
   "execution_count": 17,
   "metadata": {},
   "outputs": [
    {
     "name": "stdout",
     "output_type": "stream",
     "text": [
      "False\n"
     ]
    }
   ],
   "source": [
    "START = True\n",
    "print(not START)\n"
   ]
  },
  {
   "cell_type": "code",
   "execution_count": 18,
   "metadata": {},
   "outputs": [
    {
     "name": "stdout",
     "output_type": "stream",
     "text": [
      "let's concentrate\n"
     ]
    }
   ],
   "source": [
    "class_started = True\n",
    "if class_started :\n",
    "    print(\"let's concentrate\")\n"
   ]
  },
  {
   "cell_type": "code",
   "execution_count": 19,
   "metadata": {},
   "outputs": [
    {
     "name": "stdout",
     "output_type": "stream",
     "text": [
      "lets do work from home\n"
     ]
    }
   ],
   "source": [
    "raining = True\n",
    "if raining:\n",
    "    print(\"lets do work from home\")\n",
    "else:\n",
    "    print(\"lets go to office\")"
   ]
  },
  {
   "cell_type": "code",
   "execution_count": 20,
   "metadata": {},
   "outputs": [
    {
     "name": "stdout",
     "output_type": "stream",
     "text": [
      "lets go t0 office  \n"
     ]
    }
   ],
   "source": [
    "raining = False\n",
    "if raining:\n",
    "    print(\"work from home\")\n",
    "else:\n",
    "    print(\"lets go t0 office  \")"
   ]
  },
  {
   "cell_type": "markdown",
   "metadata": {},
   "source": [
    "use of indentation  is important\n"
   ]
  },
  {
   "cell_type": "code",
   "execution_count": 21,
   "metadata": {},
   "outputs": [
    {
     "name": "stdout",
     "output_type": "stream",
     "text": [
      "<h2>Please log in to access Mount Olympus:</h2\n"
     ]
    }
   ],
   "source": [
    "import requests\n",
    "resp = requests.get(\"http://olympus.realpython.org\")\n",
    "html = resp.text\n",
    "print(html[86:132])"
   ]
  },
  {
   "cell_type": "code",
   "execution_count": 22,
   "metadata": {},
   "outputs": [
    {
     "name": "stdout",
     "output_type": "stream",
     "text": [
      "since its raining...\n",
      "let's do work from home\n"
     ]
    }
   ],
   "source": [
    "raining = True\n",
    "if not raining:\n",
    "    print(\"since its not raining \")\n",
    "    print(\"lets go to office \")\n",
    "else:\n",
    "    print(\"since its raining...\")\n",
    "    print(\"let's do work from home\")"
   ]
  },
  {
   "cell_type": "code",
   "execution_count": 23,
   "metadata": {},
   "outputs": [
    {
     "name": "stdout",
     "output_type": "stream",
     "text": [
      "since its not raining \n",
      "lets go to office \n"
     ]
    }
   ],
   "source": [
    "raining = False\n",
    "if not raining:\n",
    "    print(\"since its not raining \")\n",
    "    print(\"lets go to office \")\n",
    "else:\n",
    "    print(\"since its raining...\")\n",
    "    print(\"let's do work from home\")"
   ]
  },
  {
   "cell_type": "code",
   "execution_count": 24,
   "metadata": {},
   "outputs": [
    {
     "name": "stdout",
     "output_type": "stream",
     "text": [
      "lets concentrate\n"
     ]
    }
   ],
   "source": [
    "class_started = True\n",
    "if class_started:\n",
    "    print(\"lets concentrate\")\n",
    "else:\n",
    "    print(\"lets revise the previous lecture \")"
   ]
  },
  {
   "cell_type": "code",
   "execution_count": 25,
   "metadata": {},
   "outputs": [
    {
     "name": "stdout",
     "output_type": "stream",
     "text": [
      "lets revise \n"
     ]
    }
   ],
   "source": [
    "class_started = False\n",
    "if not class_started:\n",
    "    print(\"lets revise \")\n",
    "else:\n",
    "    print(\"lets concentrate\")"
   ]
  },
  {
   "cell_type": "code",
   "execution_count": 7,
   "metadata": {},
   "outputs": [
    {
     "name": "stdout",
     "output_type": "stream",
     "text": [
      "lets concentrate\n"
     ]
    }
   ],
   "source": [
    "class_started = bool(input(\"is class stated :[0-False/1-True]\"))\n",
    "if class_started:\n",
    "    print(\"lets concentrate\")\n",
    "else:\n",
    "    print(\"lets revise\")\n",
    "\n",
    "\n"
   ]
  },
  {
   "cell_type": "markdown",
   "metadata": {},
   "source": [
    "conditional and\n"
   ]
  },
  {
   "cell_type": "code",
   "execution_count": 34,
   "metadata": {},
   "outputs": [
    {
     "name": "stdout",
     "output_type": "stream",
     "text": [
      "its a bad dish\n",
      "because vegetable present: False\n",
      "because salt present: False\n"
     ]
    }
   ],
   "source": [
    "vegetable_present = False\n",
    "salt_present = False\n",
    "if vegetable_present and salt_present:\n",
    "    print(\"its a good dish \")\n",
    "else:\n",
    "    print(\"its a bad dish\")\n",
    "    print(f\"because vegetable present: {vegetable_present}\")\n",
    "    print(f\"because salt present: {salt_present}\")"
   ]
  },
  {
   "cell_type": "code",
   "execution_count": 35,
   "metadata": {},
   "outputs": [
    {
     "name": "stdout",
     "output_type": "stream",
     "text": [
      "its a good dish \n"
     ]
    }
   ],
   "source": [
    "vegetable_present = True\n",
    "salt_present = True\n",
    "if vegetable_present and salt_present:\n",
    "    print(\"its a good dish \")\n",
    "else:\n",
    "    print(\"its a bad dish\")\n",
    "    print(f\"because vegetable present: {vegetable_present}\")\n",
    "    print(f\"because salt present: {salt_present}\")"
   ]
  },
  {
   "cell_type": "code",
   "execution_count": 36,
   "metadata": {},
   "outputs": [
    {
     "name": "stdout",
     "output_type": "stream",
     "text": [
      "its a bad dish\n",
      "because vegetable present: True\n",
      "because salt present: False\n"
     ]
    }
   ],
   "source": [
    "vegetable_present = True\n",
    "salt_present = False\n",
    "if vegetable_present and salt_present:\n",
    "    print(\"its a good dish \")\n",
    "else:\n",
    "    print(\"its a bad dish\")\n",
    "    print(f\"because vegetable present: {vegetable_present}\")\n",
    "    print(f\"because salt present: {salt_present}\")"
   ]
  },
  {
   "cell_type": "markdown",
   "metadata": {},
   "source": [
    "OR CONDITION\n"
   ]
  },
  {
   "cell_type": "code",
   "execution_count": 38,
   "metadata": {},
   "outputs": [
    {
     "name": "stdout",
     "output_type": "stream",
     "text": [
      "im stuck i dony have car or bike \n"
     ]
    }
   ],
   "source": [
    "car = False\n",
    "bike = False\n",
    "if car or bike:\n",
    "    print(\"i can travel 100 kms a day\")\n",
    "else:\n",
    "    print(\"im stuck i dony have car or bike \")\n"
   ]
  },
  {
   "cell_type": "code",
   "execution_count": 39,
   "metadata": {},
   "outputs": [
    {
     "name": "stdout",
     "output_type": "stream",
     "text": [
      "i can travel 100 kms a day\n"
     ]
    }
   ],
   "source": [
    "car = False\n",
    "bike = True\n",
    "if car or bike:\n",
    "    print(\"i can travel 100 kms a day\")\n",
    "else:\n",
    "    print(\"im stuck i dony have car or bike \")"
   ]
  },
  {
   "cell_type": "markdown",
   "metadata": {},
   "source": [
    "conclusions \n",
    "\n",
    "1. use \"and\" conditions when all the statement conditions should be true \n",
    "if all conditions are true then only pass the results\n",
    "\n",
    "2. use \"or\" operators if any one of the conditions will be true "
   ]
  },
  {
   "cell_type": "code",
   "execution_count": 42,
   "metadata": {},
   "outputs": [
    {
     "name": "stdout",
     "output_type": "stream",
     "text": [
      "this student is not eligible for exams \n"
     ]
    }
   ],
   "source": [
    "attendance = int(input(\"enter ur attendance:\"))\n",
    "assignment_submitted = int(input(\"enter ur assignment submitted:\"))\n",
    "if attendance >= 75 and assignment_submitted >= 70:\n",
    "    print(\"this student is eligible for exams\")\n",
    "else:\n",
    "    print(\"this student is not eligible for exams \")"
   ]
  },
  {
   "cell_type": "code",
   "execution_count": 49,
   "metadata": {},
   "outputs": [
    {
     "name": "stdout",
     "output_type": "stream",
     "text": [
      "this student has no attendance : True\n",
      "this student not submitted the assignment : True\n",
      "this student is not eligible for exams \n"
     ]
    }
   ],
   "source": [
    "attendance = int(input(\"enter ur attendance:\"))\n",
    "assignment_submitted = int(input(\"enter ur assignment submitted:\"))\n",
    "if attendance >= 75 and assignment_submitted >= 70:\n",
    "    print(f\"this student is eligible for exams: {attendance >= 75}\")\n",
    "    print(f\"this student is eligible for exams: {assignment_submitted >= 70}\")\n",
    "else:\n",
    "    print(f\"this student has no attendance : {attendance <= 75}\")\n",
    "    print(f\"this student not submitted the assignment : {assignment_submitted <= 70}\")\n",
    "    print(\"this student is not eligible for exams \")"
   ]
  },
  {
   "cell_type": "code",
   "execution_count": 1,
   "metadata": {},
   "outputs": [
    {
     "name": "stdout",
     "output_type": "stream",
     "text": [
      "ask dad for credit card\n",
      "cash on delivery \n"
     ]
    }
   ],
   "source": [
    "own_credit_card = False\n",
    "own_debit_card = False\n",
    "if own_credit_card or own_debit_card:\n",
    "    print(\"proceed further payment \")\n",
    "else:\n",
    "    print(\"ask dad for credit card\")\n",
    "    print(\"cash on delivery \")"
   ]
  },
  {
   "cell_type": "code",
   "execution_count": 2,
   "metadata": {},
   "outputs": [
    {
     "name": "stdout",
     "output_type": "stream",
     "text": [
      "proceed further payment \n"
     ]
    }
   ],
   "source": [
    "own_credit_card = False\n",
    "own_debit_card = False\n",
    "Net_banking = True\n",
    "if own_credit_card or own_debit_card or Net_banking:\n",
    "    print(\"proceed further payment \")\n",
    "else:\n",
    "    print(\"ask dad for credit card\")\n",
    "    print(\"cash on delivery \")"
   ]
  },
  {
   "cell_type": "markdown",
   "metadata": {},
   "source": [
    "nested if else program "
   ]
  },
  {
   "cell_type": "code",
   "execution_count": 9,
   "metadata": {},
   "outputs": [
    {
     "name": "stdout",
     "output_type": "stream",
     "text": [
      "student is not eligible to appear in the final exam \n"
     ]
    }
   ],
   "source": [
    "attendance = int(input(\"what is ur attendance? : \"))\n",
    "assignment_submitted = int(input(\"how many assignments submitted? :\"))\n",
    "sports_player = bool(input(\"are u a sports player:[1-True/0-False]\" ))\n",
    "if attendance >= 75 and assignment_submitted >= 70:\n",
    "    if sports_player:\n",
    "        print(\"the student is eligible to appear in the final exam \")\n",
    "    else:\n",
    "        print(\"the student is eligible to appear in the final exam \")\n",
    "else:\n",
    "    print(\"student is not eligible to appear in the final exam \")"
   ]
  },
  {
   "cell_type": "markdown",
   "metadata": {},
   "source": [
    "###### if u are a sports person then u will get 10 marks as grace \n"
   ]
  },
  {
   "cell_type": "code",
   "execution_count": 10,
   "metadata": {},
   "outputs": [
    {
     "name": "stdout",
     "output_type": "stream",
     "text": [
      "the student can get grace marks = +10 \n"
     ]
    }
   ],
   "source": [
    "attendance = int(input(\"what is ur attendance? : \"))\n",
    "assignment_submitted = int(input(\"how many assignments submitted? :\"))\n",
    "sports_player = bool(input(\"are u a sports player:[1-True/0-False]\" ))\n",
    "if attendance >= 75 and assignment_submitted >= 70:\n",
    "    if sports_player:\n",
    "        print(\"the student can get grace marks = +10 \")\n",
    "    else:\n",
    "        print(\"the student is eligible to appear in the final exam \")\n",
    "else:\n",
    "    print(\"student is not eligible to appear in the final exam \")"
   ]
  },
  {
   "cell_type": "markdown",
   "metadata": {},
   "source": [
    "Equality operators \n"
   ]
  },
  {
   "cell_type": "markdown",
   "metadata": {},
   "source": [
    "equality operators :\n",
    "1. is  ---- when both a and b points to the same object  \n",
    "2. is  ---- not  when both objects do not point at the same object\n",
    "3. a == b    a is equal to b \n",
    "4. a != b    a is not equal to b"
   ]
  },
  {
   "cell_type": "code",
   "execution_count": 11,
   "metadata": {},
   "outputs": [
    {
     "name": "stdout",
     "output_type": "stream",
     "text": [
      "A and B are same \n"
     ]
    }
   ],
   "source": [
    "A = 1\n",
    "B = 1 \n",
    "if A is B:\n",
    "    print(\"A and B are same \")\n",
    "else:\n",
    "    print(\"A and B are not same \")"
   ]
  },
  {
   "cell_type": "code",
   "execution_count": 12,
   "metadata": {},
   "outputs": [
    {
     "name": "stdout",
     "output_type": "stream",
     "text": [
      "A and B are not same \n"
     ]
    }
   ],
   "source": [
    "A = 1\n",
    "B = 1 \n",
    "if A is not B:\n",
    "    print(\"A and B are same \")\n",
    "else:\n",
    "    print(\"A and B are not same \")"
   ]
  },
  {
   "cell_type": "code",
   "execution_count": 13,
   "metadata": {},
   "outputs": [
    {
     "name": "stdout",
     "output_type": "stream",
     "text": [
      "A and B are same \n"
     ]
    }
   ],
   "source": [
    "A = 1\n",
    "B = 1 \n",
    "if A == B:\n",
    "    print(\"A and B are same \") # check wether the values of  A and B are same \n",
    "else:\n",
    "    print(\"A and B are not same \")"
   ]
  },
  {
   "cell_type": "code",
   "execution_count": 15,
   "metadata": {},
   "outputs": [
    {
     "name": "stdout",
     "output_type": "stream",
     "text": [
      "<class 'int'>\n",
      "<class 'int'>\n",
      "A and B are not same \n",
      "2650387605808 2650387605808\n"
     ]
    }
   ],
   "source": [
    "A = 1\n",
    "B = 1 \n",
    "print(type(A))\n",
    "print(type(B))\n",
    "if A != B:\n",
    "    print(\"A and B are same \") # check wether the values of  A and B are same \n",
    "else:\n",
    "    print(\"A and B are not same \")\n",
    "print(id(A),id(B))"
   ]
  },
  {
   "cell_type": "code",
   "execution_count": 18,
   "metadata": {},
   "outputs": [
    {
     "name": "stdout",
     "output_type": "stream",
     "text": [
      "<class 'str'>\n",
      "<class 'str'>\n",
      "A and B are same \n",
      "2650442921904 2650442921904\n"
     ]
    }
   ],
   "source": [
    "A = \"rahul\" # memory locations are same \n",
    "B = \"rahul\"\n",
    "print(type(A))\n",
    "print(type(B))\n",
    "if A == B:\n",
    "    print(\"A and B are same \") # check wether the values of  A and B are same \n",
    "else:\n",
    "    print(\"A and B are not same \")\n",
    "print(id(A),id(B))"
   ]
  },
  {
   "cell_type": "code",
   "execution_count": 20,
   "metadata": {},
   "outputs": [
    {
     "name": "stdout",
     "output_type": "stream",
     "text": [
      "False\n",
      "2650481809792 2650481853504\n"
     ]
    }
   ],
   "source": [
    "A = [\"sunny\",\"rishav\"] # list of data structures \n",
    "B = [\"sunny\",\"rishav\"] # list of a data structure \n",
    "print(A is B)\n",
    "print(id(A),id(B))"
   ]
  },
  {
   "cell_type": "markdown",
   "metadata": {},
   "source": [
    "== and != is only cheching the value of the variables \n",
    "we use this comparision operators more often \n"
   ]
  },
  {
   "cell_type": "code",
   "execution_count": 21,
   "metadata": {},
   "outputs": [
    {
     "name": "stdout",
     "output_type": "stream",
     "text": [
      "True\n"
     ]
    }
   ],
   "source": [
    "A = int(input(\"enter the value of A: \"))\n",
    "B = int(input(\"enter the value of B: \"))\n",
    "print(A is B)\n"
   ]
  },
  {
   "cell_type": "code",
   "execution_count": 22,
   "metadata": {},
   "outputs": [
    {
     "name": "stdout",
     "output_type": "stream",
     "text": [
      "True\n"
     ]
    }
   ],
   "source": [
    "A = 1\n",
    "B = int(input(\"enter the value of B: \"))\n",
    "print(A is B)"
   ]
  },
  {
   "cell_type": "code",
   "execution_count": 23,
   "metadata": {},
   "outputs": [
    {
     "name": "stdout",
     "output_type": "stream",
     "text": [
      "he is our mentor: sunny Bhaveen Chandra  \n"
     ]
    }
   ],
   "source": [
    "name = \"sunny Bhaveen Chandra \"\n",
    "if name == \"sunny Bhaveen Chandra \":\n",
    "    print(f\"he is our mentor: {name} \")\n",
    "else:\n",
    "    print(f'''its possible that he or she is not our mentor \n",
    "    he or she might be a student: {name} ''')\n"
   ]
  },
  {
   "cell_type": "code",
   "execution_count": 26,
   "metadata": {},
   "outputs": [
    {
     "name": "stdout",
     "output_type": "stream",
     "text": [
      "he is our mentor: sunny Bhaveen Chandra \n"
     ]
    }
   ],
   "source": [
    "name = input(\"enter ur name :\")\n",
    "if name == \"sunny Bhaveen Chandra\":\n",
    "    print(f\"he is our mentor: {name} \")\n",
    "else:\n",
    "    print(f'''its possible that he or she is not our mentor \n",
    "    he or she might be a student: {name} ''')\n"
   ]
  },
  {
   "cell_type": "markdown",
   "metadata": {},
   "source": [
    "comparition operators \n",
    "1. A<=B\n",
    "2. A>=B\n",
    "3. A<B\n",
    "4. A>B\n"
   ]
  },
  {
   "cell_type": "code",
   "execution_count": 28,
   "metadata": {},
   "outputs": [
    {
     "name": "stdout",
     "output_type": "stream",
     "text": [
      "since your score is : 40, u have passed the exams \n"
     ]
    }
   ],
   "source": [
    "your_score = 40 \n",
    "passing_marks = 33.333\n",
    "if your_score >= 33.333:\n",
    "    print(f\"since your score is : {your_score}, u have passed the exams \")\n",
    "else:\n",
    "    print(f\" Dad : u should have taken things seriously\")"
   ]
  },
  {
   "cell_type": "code",
   "execution_count": 29,
   "metadata": {},
   "outputs": [
    {
     "name": "stdout",
     "output_type": "stream",
     "text": [
      " Dad : u should have taken things seriously\n"
     ]
    }
   ],
   "source": [
    "your_score = 30\n",
    "passing_marks = 33.333\n",
    "if your_score >= 33.333:\n",
    "    print(f\"since your score is : {your_score}, u have passed the exams \")\n",
    "else:\n",
    "    print(f\" Dad : u should have taken things seriously\")"
   ]
  },
  {
   "cell_type": "code",
   "execution_count": 30,
   "metadata": {},
   "outputs": [
    {
     "name": "stdout",
     "output_type": "stream",
     "text": [
      " Dad : u should have taken things seriously\n"
     ]
    }
   ],
   "source": [
    "your_score = 33.333\n",
    "passing_marks = 33.333\n",
    "if your_score > 33.333:\n",
    "    print(f\"since your score is : {your_score}, u have passed the exams \")\n",
    "else:\n",
    "    print(f\" Dad : u should have taken things seriously\")"
   ]
  },
  {
   "cell_type": "code",
   "execution_count": 52,
   "metadata": {},
   "outputs": [
    {
     "name": "stdout",
     "output_type": "stream",
     "text": [
      "since your score is : 50.0, u have passed the exams \n"
     ]
    }
   ],
   "source": [
    "your_score = float(input(\"enter your marks :\"))\n",
    "passing_marks = 33.333\n",
    "if your_score >= 33.333:\n",
    "    print(f\"since your score is : {your_score}, u have passed the exams \")\n",
    "    if your_score >= 75:\n",
    "        print(f\"since ur score is {your_score},u have scored distinction \")\n",
    "        \n",
    "        if your_score >= 45 and your_score <= 60:\n",
    "            print(f\"since your score is : {your_score}, u have just pass \")\n",
    "        else:\n",
    "            print(f\"since your score is : {your_score}, u have scored best marks  \")\n",
    "else:\n",
    "    print(f\" Dad : u should have taken things seriously\")"
   ]
  },
  {
   "cell_type": "code",
   "execution_count": 15,
   "metadata": {},
   "outputs": [
    {
     "name": "stdout",
     "output_type": "stream",
     "text": [
      "since ur score is : 75.0, U HAVE PASSED THE EXAM \n",
      "since your score is : 75.0, u have taken distinction \n"
     ]
    }
   ],
   "source": [
    "your_score = float(input(\"enter ur marks: \"))\n",
    "passing_marks = 33.333\n",
    "if your_score >= 33.333:\n",
    "    print(f\"since ur score is : {your_score}, U HAVE PASSED THE EXAM \")\n",
    "    if your_score >= 45 and your_score <= 60:\n",
    "        print(f\"since your score is : {your_score}, u have just pass \")\n",
    "    if your_score >= 75 and your_score >= 33.333:\n",
    "        print(f\"since your score is : {your_score}, u have taken distinction \")\n",
    "else:\n",
    "    print(\"better luck next time \")\n"
   ]
  },
  {
   "cell_type": "code",
   "execution_count": 20,
   "metadata": {},
   "outputs": [
    {
     "name": "stdout",
     "output_type": "stream",
     "text": [
      "5\n",
      "5\n",
      "2143145650608 2143145650608\n"
     ]
    }
   ],
   "source": [
    "a = int(5) \n",
    "b = int(10/2) \n",
    "print(a)\n",
    "print(b)\n",
    "print(id(a),id(b))"
   ]
  },
  {
   "cell_type": "code",
   "execution_count": 21,
   "metadata": {},
   "outputs": [
    {
     "data": {
      "text/plain": [
       "6"
      ]
     },
     "execution_count": 21,
     "metadata": {},
     "output_type": "execute_result"
    }
   ],
   "source": [
    "55//9"
   ]
  }
 ],
 "metadata": {
  "kernelspec": {
   "display_name": "Python 3.9.7 ('base')",
   "language": "python",
   "name": "python3"
  },
  "language_info": {
   "codemirror_mode": {
    "name": "ipython",
    "version": 3
   },
   "file_extension": ".py",
   "mimetype": "text/x-python",
   "name": "python",
   "nbconvert_exporter": "python",
   "pygments_lexer": "ipython3",
   "version": "3.9.7"
  },
  "orig_nbformat": 4,
  "vscode": {
   "interpreter": {
    "hash": "220fae48ee6aa06a15b0a194b915ad59277734e5bd52415b52439bc6d564df3a"
   }
  }
 },
 "nbformat": 4,
 "nbformat_minor": 2
}
