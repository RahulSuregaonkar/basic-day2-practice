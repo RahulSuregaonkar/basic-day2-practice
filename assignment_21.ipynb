{
 "cells": [
  {
   "attachments": {},
   "cell_type": "markdown",
   "metadata": {},
   "source": [
    "Rahul suregaonkar \n",
    "fsds 2.0 \n",
    "\n",
    "ASSIGNMENT 21"
   ]
  },
  {
   "attachments": {},
   "cell_type": "markdown",
   "metadata": {},
   "source": [
    "1. Add the current date to the text file today.txt as a string.\n",
    "\n",
    "Ans "
   ]
  },
  {
   "cell_type": "code",
   "execution_count": 3,
   "metadata": {},
   "outputs": [
    {
     "name": "stdout",
     "output_type": "stream",
     "text": [
      "11-05-2023\n"
     ]
    }
   ],
   "source": [
    "import datetime\n",
    "# Code to Add current date to the today.txt file\n",
    "file = open('today.txt','w')\n",
    "file.write(datetime.datetime.now().strftime(\"%d-%m-%Y\"))\n",
    "file.close()\n",
    "# Code to Read current date from today.txt file\n",
    "file = open('today.txt','r')\n",
    "print(file.read())\n",
    "file.close()"
   ]
  },
  {
   "attachments": {},
   "cell_type": "markdown",
   "metadata": {},
   "source": [
    "2. Read the text file today.txt into the string today_string\n",
    "\n",
    "Ans :"
   ]
  },
  {
   "cell_type": "code",
   "execution_count": 4,
   "metadata": {},
   "outputs": [
    {
     "name": "stdout",
     "output_type": "stream",
     "text": [
      "11-05-2023\n"
     ]
    }
   ],
   "source": [
    "file = open('today.txt','r')\n",
    "today_string = file.read()\n",
    "print(today_string)"
   ]
  },
  {
   "attachments": {},
   "cell_type": "markdown",
   "metadata": {},
   "source": [
    "3. Parse the date from today_string.\n",
    "\n",
    "\n",
    "Ans:"
   ]
  },
  {
   "cell_type": "code",
   "execution_count": 5,
   "metadata": {},
   "outputs": [
    {
     "name": "stdout",
     "output_type": "stream",
     "text": [
      "2023-05-11 00:00:00\n"
     ]
    }
   ],
   "source": [
    "from datetime import datetime\n",
    "parsed_data = datetime.strptime(today_string, '%d-%m-%Y')\n",
    "print(parsed_data)"
   ]
  },
  {
   "attachments": {},
   "cell_type": "markdown",
   "metadata": {},
   "source": [
    "4. List the files in your current directory?\n",
    "\n",
    "Ans :"
   ]
  },
  {
   "cell_type": "code",
   "execution_count": 6,
   "metadata": {},
   "outputs": [
    {
     "name": "stdout",
     "output_type": "stream",
     "text": [
      ".gitattributes\n",
      "abcd.log\n",
      "application_log.txt\n",
      "assignment2.ipynb\n",
      "assignments_12.ipynb\n",
      "assignment_10.ipynb\n",
      "assignment_11.ipynb\n",
      "assignment_12.ipynb\n",
      "assignment_14.ipynb\n",
      "assignment_1_.ipynb\n",
      "assignment_2.ipynb\n",
      "assignment_20.ipynb\n",
      "assignment_21.ipynb\n",
      "assignment_3.ipynb\n",
      "assignment_4.ipynb\n",
      "assignment_5.ipynb\n",
      "assignment_6.ipynb\n",
      "assignment_7.ipynb\n",
      "assignment_8.ipynb\n",
      "assignment_9.ipynb\n",
      "books.csv\n",
      "books.db\n",
      "create_db.py\n",
      "day _2.ipynb\n",
      "day_3.ipynb\n",
      "day_4.ipynb\n",
      "day_5.ipynb\n",
      "day_6.ipynb\n",
      "day_7.ipynb\n",
      "day_8.ipynb\n",
      "day_9.ipynb\n",
      "employee.py\n",
      "example.py\n",
      "generator and iterator.ipynb\n",
      "hey example.py\n",
      "list.py\n",
      "listSample.py\n",
      "main.py\n",
      "mydb.py\n",
      "my_db_2.py\n",
      "my_dict.py\n",
      "new clash.ipynb\n",
      "new example.py\n",
      "new practice list.ipynb\n",
      "new.txt\n",
      "new1.py\n",
      "new3.py\n",
      "oops 2 .ipynb\n",
      "oops calssipynb\n",
      "oops.ipynb\n",
      "practise.ipynb\n",
      "pyhton logging and debuging.ipynb\n",
      "query.py\n",
      "rahul.txt\n",
      "saveToFile.py\n",
      "Screenshot_20221229_180614.png\n",
      "test.txt\n",
      "test.txt3\n",
      "test1.txt\n",
      "testrahul.txt\n",
      "today.txt\n",
      "__init__.py\n",
      "example.cpython-311.pyc\n",
      "my_dict.cpython-311.pyc\n",
      "saveToFile.cpython-311.pyc\n"
     ]
    }
   ],
   "source": [
    "import os\n",
    "for folders, subfolders, files in os.walk(os.getcwd()):\n",
    "    for file in files:\n",
    "        print(file)"
   ]
  },
  {
   "attachments": {},
   "cell_type": "markdown",
   "metadata": {},
   "source": [
    "5. Create a list of all of the files in your parent directory (minimum five files should be available)."
   ]
  },
  {
   "cell_type": "code",
   "execution_count": 7,
   "metadata": {},
   "outputs": [
    {
     "data": {
      "text/plain": [
       "['.gitattributes',\n",
       " 'abcd.log',\n",
       " 'application_log.txt',\n",
       " 'assignment2.ipynb',\n",
       " 'assignments_12.ipynb',\n",
       " 'assignment_10.ipynb',\n",
       " 'assignment_11.ipynb',\n",
       " 'assignment_12.ipynb',\n",
       " 'assignment_14.ipynb',\n",
       " 'assignment_1_.ipynb',\n",
       " 'assignment_2.ipynb',\n",
       " 'assignment_20.ipynb',\n",
       " 'assignment_21.ipynb',\n",
       " 'assignment_3.ipynb',\n",
       " 'assignment_4.ipynb',\n",
       " 'assignment_5.ipynb',\n",
       " 'assignment_6.ipynb',\n",
       " 'assignment_7.ipynb',\n",
       " 'assignment_8.ipynb',\n",
       " 'assignment_9.ipynb',\n",
       " 'books.csv',\n",
       " 'books.db',\n",
       " 'create_db.py',\n",
       " 'day _2.ipynb',\n",
       " 'day_3.ipynb',\n",
       " 'day_4.ipynb',\n",
       " 'day_5.ipynb',\n",
       " 'day_6.ipynb',\n",
       " 'day_7.ipynb',\n",
       " 'day_8.ipynb',\n",
       " 'day_9.ipynb',\n",
       " 'employee.py',\n",
       " 'example.py',\n",
       " 'generator and iterator.ipynb',\n",
       " 'hey example.py',\n",
       " 'list.py',\n",
       " 'listSample.py',\n",
       " 'main.py',\n",
       " 'mydb.py',\n",
       " 'my_db_2.py',\n",
       " 'my_dict.py',\n",
       " 'new clash.ipynb',\n",
       " 'new example.py',\n",
       " 'new practice list.ipynb',\n",
       " 'new.txt',\n",
       " 'new1.py',\n",
       " 'new3.py',\n",
       " 'oops 2 .ipynb',\n",
       " 'oops calssipynb',\n",
       " 'oops.ipynb',\n",
       " 'practise.ipynb',\n",
       " 'pyhton logging and debuging.ipynb',\n",
       " 'query.py',\n",
       " 'rahul.txt',\n",
       " 'saveToFile.py',\n",
       " 'Screenshot_20221229_180614.png',\n",
       " 'test.txt',\n",
       " 'test.txt3',\n",
       " 'test1.txt',\n",
       " 'testrahul.txt',\n",
       " 'today.txt',\n",
       " '__init__.py',\n",
       " '__pycache__']"
      ]
     },
     "execution_count": 7,
     "metadata": {},
     "output_type": "execute_result"
    }
   ],
   "source": [
    "import os \n",
    "os.listdir()"
   ]
  },
  {
   "attachments": {},
   "cell_type": "markdown",
   "metadata": {},
   "source": [
    "6. Use multiprocessing to create three separate processes. Make each one wait a random number of seconds between one and five, print the current time, and then exit."
   ]
  },
  {
   "cell_type": "code",
   "execution_count": 10,
   "metadata": {},
   "outputs": [
    {
     "name": "stdout",
     "output_type": "stream",
     "text": [
      "Collecting multiprocessing\n",
      "  Downloading multiprocessing-2.6.2.1.tar.gz (108 kB)\n",
      "                                              0.0/108.0 kB ? eta -:--:--\n",
      "     -------------------------------------- 108.0/108.0 kB 3.1 MB/s eta 0:00:00\n",
      "  Installing build dependencies: started\n",
      "  Installing build dependencies: finished with status 'done'\n",
      "  Getting requirements to build wheel: started\n",
      "  Getting requirements to build wheel: finished with status 'error'\n"
     ]
    },
    {
     "name": "stderr",
     "output_type": "stream",
     "text": [
      "  error: subprocess-exited-with-error\n",
      "  \n",
      "  × Getting requirements to build wheel did not run successfully.\n",
      "  │ exit code: 1\n",
      "  ╰─> [23 lines of output]\n",
      "      Traceback (most recent call last):\n",
      "        File \"C:\\Users\\rahul\\AppData\\Local\\Programs\\Python\\Python311\\Lib\\site-packages\\pip\\_vendor\\pyproject_hooks\\_in_process\\_in_process.py\", line 353, in <module>\n",
      "          main()\n",
      "        File \"C:\\Users\\rahul\\AppData\\Local\\Programs\\Python\\Python311\\Lib\\site-packages\\pip\\_vendor\\pyproject_hooks\\_in_process\\_in_process.py\", line 335, in main\n",
      "          json_out['return_val'] = hook(**hook_input['kwargs'])\n",
      "                                   ^^^^^^^^^^^^^^^^^^^^^^^^^^^^\n",
      "        File \"C:\\Users\\rahul\\AppData\\Local\\Programs\\Python\\Python311\\Lib\\site-packages\\pip\\_vendor\\pyproject_hooks\\_in_process\\_in_process.py\", line 118, in get_requires_for_build_wheel\n",
      "          return hook(config_settings)\n",
      "                 ^^^^^^^^^^^^^^^^^^^^^\n",
      "        File \"C:\\Users\\rahul\\AppData\\Local\\Temp\\pip-build-env-lreiaffu\\overlay\\Lib\\site-packages\\setuptools\\build_meta.py\", line 341, in get_requires_for_build_wheel\n",
      "          return self._get_build_requires(config_settings, requirements=['wheel'])\n",
      "                 ^^^^^^^^^^^^^^^^^^^^^^^^^^^^^^^^^^^^^^^^^^^^^^^^^^^^^^^^^^^^^^^^^\n",
      "        File \"C:\\Users\\rahul\\AppData\\Local\\Temp\\pip-build-env-lreiaffu\\overlay\\Lib\\site-packages\\setuptools\\build_meta.py\", line 323, in _get_build_requires\n",
      "          self.run_setup()\n",
      "        File \"C:\\Users\\rahul\\AppData\\Local\\Temp\\pip-build-env-lreiaffu\\overlay\\Lib\\site-packages\\setuptools\\build_meta.py\", line 488, in run_setup\n",
      "          self).run_setup(setup_script=setup_script)\n",
      "                ^^^^^^^^^^^^^^^^^^^^^^^^^^^^^^^^^^^^\n",
      "        File \"C:\\Users\\rahul\\AppData\\Local\\Temp\\pip-build-env-lreiaffu\\overlay\\Lib\\site-packages\\setuptools\\build_meta.py\", line 338, in run_setup\n",
      "          exec(code, locals())\n",
      "        File \"<string>\", line 94\n",
      "          print 'Macros:'\n",
      "          ^^^^^^^^^^^^^^^\n",
      "      SyntaxError: Missing parentheses in call to 'print'. Did you mean print(...)?\n",
      "      [end of output]\n",
      "  \n",
      "  note: This error originates from a subprocess, and is likely not a problem with pip.\n",
      "error: subprocess-exited-with-error\n",
      "\n",
      "× Getting requirements to build wheel did not run successfully.\n",
      "│ exit code: 1\n",
      "╰─> See above for output.\n",
      "\n",
      "note: This error originates from a subprocess, and is likely not a problem with pip.\n"
     ]
    }
   ],
   "source": [
    "! pip install multiprocessing"
   ]
  },
  {
   "cell_type": "code",
   "execution_count": 11,
   "metadata": {},
   "outputs": [],
   "source": [
    "import multiprocessing\n",
    "\n",
    "def printsec(seconds):\n",
    "    from datetime import datetime\n",
    "    from time import sleep\n",
    "    sleep(seconds)\n",
    "    print('wait', seconds, 'seconds, time is', datetime.utcnow())\n",
    "    \n",
    "if __name__ == '__main__':\n",
    "    import random    \n",
    "    for n in range(3):\n",
    "        seconds = random.random()\n",
    "        proc = multiprocessing.Process(target=printsec, args=(seconds,))\n",
    "        proc.start()"
   ]
  },
  {
   "attachments": {},
   "cell_type": "markdown",
   "metadata": {},
   "source": [
    "7. Create a date object of your day of birth"
   ]
  },
  {
   "cell_type": "code",
   "execution_count": 13,
   "metadata": {},
   "outputs": [
    {
     "name": "stdout",
     "output_type": "stream",
     "text": [
      "2000-03-10 00:00:00 <class 'datetime.datetime'>\n"
     ]
    }
   ],
   "source": [
    "from datetime import datetime\n",
    "my_dob = datetime.strptime('10/03/2000','%d/%m/%Y')\n",
    "print(my_dob, type(my_dob))"
   ]
  },
  {
   "attachments": {},
   "cell_type": "markdown",
   "metadata": {},
   "source": [
    "8. What day of the week was your day of birth?"
   ]
  },
  {
   "cell_type": "code",
   "execution_count": 15,
   "metadata": {},
   "outputs": [
    {
     "data": {
      "text/plain": [
       "'Friday'"
      ]
     },
     "execution_count": 15,
     "metadata": {},
     "output_type": "execute_result"
    }
   ],
   "source": [
    "from datetime import datetime\n",
    "my_dob = datetime(2000,3,10)\n",
    "my_dob.strftime(\"%A\")"
   ]
  },
  {
   "attachments": {},
   "cell_type": "markdown",
   "metadata": {},
   "source": [
    "9. When will you be (or when were you) 10,000 days old?"
   ]
  },
  {
   "cell_type": "code",
   "execution_count": 16,
   "metadata": {},
   "outputs": [
    {
     "data": {
      "text/plain": [
       "datetime.datetime(1972, 10, 23, 0, 0)"
      ]
     },
     "execution_count": 16,
     "metadata": {},
     "output_type": "execute_result"
    }
   ],
   "source": [
    "from datetime import datetime, timedelta\n",
    "my_dob = datetime.strptime(\"10/03/2000\",'%d/%m/%Y')\n",
    "future_date = my_dob-timedelta(10000)\n",
    "future_date"
   ]
  }
 ],
 "metadata": {
  "kernelspec": {
   "display_name": "Python 3",
   "language": "python",
   "name": "python3"
  },
  "language_info": {
   "codemirror_mode": {
    "name": "ipython",
    "version": 3
   },
   "file_extension": ".py",
   "mimetype": "text/x-python",
   "name": "python",
   "nbconvert_exporter": "python",
   "pygments_lexer": "ipython3",
   "version": "3.11.1"
  },
  "orig_nbformat": 4
 },
 "nbformat": 4,
 "nbformat_minor": 2
}
