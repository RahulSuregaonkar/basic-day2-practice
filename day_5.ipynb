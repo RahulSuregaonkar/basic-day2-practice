{
 "cells": [
  {
   "cell_type": "markdown",
   "metadata": {},
   "source": [
    "1. control flow staements \n",
    "- if else \n",
    "- if elif else\n",
    "- Nested if else \n",
    "- single line if else \n",
    "- loops in python\n",
    "- for \n",
    "- while \n"
   ]
  },
  {
   "cell_type": "code",
   "execution_count": 15,
   "metadata": {},
   "outputs": [
    {
     "name": "stdout",
     "output_type": "stream",
     "text": [
      "cart_total is 10000\n",
      "amount payable will be : 6000.0\n"
     ]
    }
   ],
   "source": [
    "# if elif conditions \n",
    "# online food orders - zomato , swiggy \n",
    "# if u order more than $ 500 , get discount of 20% or 10%\n",
    "# if u order more than $ 1000 , get dicount of 30%\n",
    "# if u order more than $ 1400 , get 40% dicount\n",
    "\n",
    "Total_Amount = int(input(\"enter the price :\"))\n",
    "print(f\"cart_total is {Total_Amount}\")\n",
    "if Total_Amount >= 1400:\n",
    "    price_after_discount = Total_Amount * 0.6\n",
    "    print(f\"amount payable will be : {price_after_discount}\")\n",
    "elif Total_Amount > 1000:\n",
    "    price_after_discount = Total_Amount * 0.7\n",
    "    print(f\" pay amount: {price_after_discount}\")\n",
    "elif Total_Amount <= 1000 and Total_Amount > 500:\n",
    "    price_after_discount = Total_Amount * 0.8\n",
    "    print(f\"pay the amont :{price_after_discount}\")\n",
    "else:\n",
    "    print(f\"pay amount :{Total_Amount}\")\n",
    "\n",
    "\n"
   ]
  },
  {
   "cell_type": "code",
   "execution_count": 22,
   "metadata": {},
   "outputs": [
    {
     "name": "stdout",
     "output_type": "stream",
     "text": [
      "the given number is positive: 5.0\n"
     ]
    }
   ],
   "source": [
    "# nested if else \n",
    "# print if the number is negative or positive \n",
    "\n",
    "\n",
    "num = float(input(\"enter the value : \"))\n",
    "if num >= 0:\n",
    "    if num == 0:\n",
    "        print(f\"the given number is zero : {num}\")\n",
    "    else:\n",
    "        print(f\"the given number is positive: {num}\")\n",
    "else:\n",
    "    print(f\"the given number is negative: {num}\")\n"
   ]
  },
  {
   "cell_type": "code",
   "execution_count": null,
   "metadata": {},
   "outputs": [],
   "source": [
    "print(f\"the given number is positive  : {num}\")"
   ]
  },
  {
   "cell_type": "code",
   "execution_count": 26,
   "metadata": {},
   "outputs": [
    {
     "name": "stdout",
     "output_type": "stream",
     "text": [
      "ur score for this year :100\n",
      " i will attempt next time \n",
      "ur score for this year :200\n",
      " i will attempt next time \n",
      "ur score for this year :300\n",
      " i will attempt next time \n",
      "ur score for this year :399\n",
      " i will attempt next time \n"
     ]
    }
   ],
   "source": [
    "total_marks = 1000\n",
    "cutoff = 400\n",
    "scores = [100, 200, 300, 399, 500]\n",
    "year = 0\n",
    "while scores[year] < cutoff:\n",
    "    print(f\"ur score for this year :{scores[year]}\")\n",
    "    print(\" i will attempt next time \")\n",
    "    year = year + 1"
   ]
  },
  {
   "cell_type": "code",
   "execution_count": 52,
   "metadata": {},
   "outputs": [
    {
     "name": "stdout",
     "output_type": "stream",
     "text": [
      "lets go to school \n",
      "hey\n",
      "hey\n",
      "hey\n",
      "hey\n",
      "lets go to school \n"
     ]
    }
   ],
   "source": [
    "i = 2\n",
    "j = 2\n",
    "while (i <= 5):\n",
    "    print(\"lets go to school \")\n",
    "    i=i+2\n",
    "    while (j <= 5):\n",
    "        print(\"hey\")\n",
    "        j=j+1"
   ]
  },
  {
   "cell_type": "code",
   "execution_count": 4,
   "metadata": {},
   "outputs": [
    {
     "name": "stdout",
     "output_type": "stream",
     "text": [
      "your score is 100,cut_off: 400\n",
      "i will attempt next year :\n",
      "your score is 200,cut_off: 400\n",
      "i will attempt next year :\n",
      "your score is 300,cut_off: 400\n",
      "i will attempt next year :\n"
     ]
    }
   ],
   "source": [
    "total_marks = 1000\n",
    "cut_off = 400\n",
    "scores = [100, 200, 300, 400, 500]\n",
    "year = 0                                                            # it starts with year \n",
    "while scores[year] < cut_off:                                       # condition\n",
    "    print(f\"your score is {scores[year]},cut_off: {cut_off}\")       # print statement given for execution \n",
    "    print(\"i will attempt next year :\")                             # print statement given for execution\n",
    "    year=year+1                                                     # incrementation \n"
   ]
  },
  {
   "cell_type": "code",
   "execution_count": 16,
   "metadata": {},
   "outputs": [
    {
     "name": "stdout",
     "output_type": "stream",
     "text": [
      "say hello\n",
      "lets do nothing \n",
      "lets do nothing \n",
      "lets do nothing \n",
      "say hello\n",
      "say hello\n"
     ]
    }
   ],
   "source": [
    "i=1\n",
    "j=1\n",
    "while i <= 5:\n",
    "    print(\"say hello\")\n",
    "    i=i+2\n",
    "    while j <= 6:\n",
    "        print(\"lets do nothing \")\n",
    "        j=j+2\n"
   ]
  },
  {
   "cell_type": "code",
   "execution_count": 17,
   "metadata": {},
   "outputs": [
    {
     "name": "stdout",
     "output_type": "stream",
     "text": [
      "say hello\n",
      "say hello\n",
      "say hello\n",
      "lets do nothing \n",
      "lets do nothing \n",
      "lets do nothing \n"
     ]
    }
   ],
   "source": [
    "i=1\n",
    "j=1\n",
    "while i <= 5:\n",
    "    print(\"say hello\")\n",
    "    i=i+2\n",
    "while j <= 6:\n",
    "    print(\"lets do nothing \")\n",
    "    j=j+2"
   ]
  },
  {
   "cell_type": "markdown",
   "metadata": {},
   "source": [
    "while loops first check for the conditions which is on its right side and next it goes to next step \n",
    "it will execute those lines until the  condition will get satisfies \n",
    "\n",
    "while repeats executing the below lines until the condition is satisfies \n",
    "\n",
    "infinite loop it goes on on \n",
    "\n",
    "it just exectues the conditions  infinitely"
   ]
  },
  {
   "cell_type": "code",
   "execution_count": 20,
   "metadata": {},
   "outputs": [
    {
     "name": "stdout",
     "output_type": "stream",
     "text": [
      "current sum : 10\n",
      "current sum : 20\n",
      "current sum : 30\n",
      "current sum : 40\n",
      "current sum : 50\n",
      "current sum : 60\n",
      "current sum : 70\n",
      "current sum : 80\n",
      "current sum : 90\n",
      "current sum : 100\n"
     ]
    }
   ],
   "source": [
    "notes = 10\n",
    "i=1 \n",
    "while i <= notes:\n",
    "    print(f\"current sum : {i *10}\")\n",
    "    i=i+1"
   ]
  },
  {
   "cell_type": "code",
   "execution_count": 30,
   "metadata": {},
   "outputs": [
    {
     "name": "stdout",
     "output_type": "stream",
     "text": [
      "sum:1\n",
      "sum:2\n",
      "sum:3\n",
      "sum:4\n",
      "sum:5\n",
      "sum:6\n",
      "sum:7\n",
      "sum:8\n",
      "sum:9\n",
      "sum:10\n"
     ]
    }
   ],
   "source": [
    "i=1\n",
    "j=1\n",
    "while i <= 10 :\n",
    "    print(f\"sum:{i*j}\" )\n",
    "    i=i+1"
   ]
  },
  {
   "cell_type": "code",
   "execution_count": 5,
   "metadata": {},
   "outputs": [
    {
     "name": "stdout",
     "output_type": "stream",
     "text": [
      "current station is : station1\n",
      "my destination is : station3\n",
      "continue the journey i havent reached the destinations \n",
      "next station is : station2\n",
      "current station is : station2\n",
      "my destination is : station3\n",
      "continue the journey i havent reached the destinations \n",
      "next station is : station3\n",
      "i have arrived at :station3\n"
     ]
    }
   ],
   "source": [
    "stations = [\"station1\",\"station2\",\"station3\",\"station4\"]\n",
    "current_station = 0\n",
    "destination_station = \"station3\"\n",
    "\n",
    "while stations[current_station] != destination_station:\n",
    "    print(f\"current station is : {stations[current_station]}\")\n",
    "    print(f\"my destination is : {destination_station}\")\n",
    "    print(\"continue the journey i havent reached the destinations \")\n",
    "    current_station = current_station + 1\n",
    "    print(f\"next station is : {stations[current_station]}\")\n",
    "else:\n",
    "    print(f\"i have arrived at :{stations[current_station]}\")\n",
    "\n"
   ]
  },
  {
   "cell_type": "markdown",
   "metadata": {},
   "source": [
    "while conditions :\n",
    "    staement1\n",
    "else\n",
    "    statement2\n",
    "'''"
   ]
  },
  {
   "cell_type": "code",
   "execution_count": 9,
   "metadata": {},
   "outputs": [
    {
     "name": "stdout",
     "output_type": "stream",
     "text": [
      "Condition : True\n",
      "current sum : 10\n",
      "------\n",
      "Condition : True\n",
      "current sum : 20\n",
      "------\n",
      "Condition : True\n",
      "current sum : 30\n",
      "------\n",
      "Condition : True\n",
      "current sum : 40\n",
      "------\n",
      "Condition : True\n",
      "current sum : 50\n",
      "------\n",
      "Condition : False\n",
      " No more 10 rupees notes left\n"
     ]
    }
   ],
   "source": [
    "notes = 5\n",
    "i = 1 \n",
    "\n",
    "while i <= notes:\n",
    "    print(f\"Condition : {i <= notes}\")\n",
    "    print(f\"current sum : {i*10}\")\n",
    "    i=i+1\n",
    "    print(\"------\")\n",
    "else:\n",
    "    print(f\"Condition : {i <= notes}\")\n",
    "    print(\" No more 10 rupees notes left\")"
   ]
  },
  {
   "cell_type": "markdown",
   "metadata": {},
   "source": [
    "For loop \n",
    "it tries to iterate for the list \n"
   ]
  },
  {
   "cell_type": "code",
   "execution_count": 10,
   "metadata": {},
   "outputs": [
    {
     "name": "stdout",
     "output_type": "stream",
     "text": [
      "0\n",
      "1\n",
      "2\n",
      "3\n",
      "4\n",
      "5\n",
      "6\n",
      "7\n",
      "8\n",
      "9\n"
     ]
    }
   ],
   "source": [
    "for i in range(0 , 10):\n",
    "    print(i)\n"
   ]
  },
  {
   "cell_type": "code",
   "execution_count": 13,
   "metadata": {},
   "outputs": [
    {
     "name": "stdout",
     "output_type": "stream",
     "text": [
      "10 * 2 = 20\n",
      "10 * 3 = 30\n",
      "10 * 4 = 40\n",
      "10 * 5 = 50\n",
      "10 * 6 = 60\n",
      "10 * 7 = 70\n",
      "10 * 8 = 80\n",
      "10 * 9 = 90\n",
      "10 * 10 = 100\n",
      "10 * 11 = 110\n"
     ]
    }
   ],
   "source": [
    "for i in range(0,10): # last number is out of bound \n",
    "    print(f\"10 * {i+2} = {(i+2)*10}\")"
   ]
  },
  {
   "cell_type": "code",
   "execution_count": 14,
   "metadata": {},
   "outputs": [
    {
     "name": "stdout",
     "output_type": "stream",
     "text": [
      "10 * 1 = 10\n",
      "10 * 2 = 20\n",
      "10 * 3 = 30\n",
      "10 * 4 = 40\n",
      "10 * 5 = 50\n",
      "10 * 6 = 60\n",
      "10 * 7 = 70\n",
      "10 * 8 = 80\n",
      "10 * 9 = 90\n",
      "10 * 10 = 100\n"
     ]
    }
   ],
   "source": [
    "for i in range(1,11): # last number is out of bound \n",
    "    print(f\"10 * {i} = {(i)*10}\")"
   ]
  },
  {
   "cell_type": "code",
   "execution_count": 15,
   "metadata": {},
   "outputs": [
    {
     "name": "stdout",
     "output_type": "stream",
     "text": [
      "*\n",
      "**\n",
      "***\n",
      "****\n",
      "*****\n",
      "******\n",
      "*******\n",
      "********\n",
      "*********\n",
      "**********\n"
     ]
    }
   ],
   "source": [
    "for i in range(1,11): # last number is out of bound \n",
    "    print(\"*\"*i)"
   ]
  },
  {
   "cell_type": "code",
   "execution_count": 18,
   "metadata": {},
   "outputs": [
    {
     "name": "stdout",
     "output_type": "stream",
     "text": [
      "\n",
      "sunnysunnysunnysunnysunnysunnysunnysunnysunnysunny\n",
      "\n"
     ]
    }
   ],
   "source": [
    "i = \"sunny\"\n",
    "print(f'''\n",
    "{i*10}\n",
    "''')"
   ]
  },
  {
   "cell_type": "code",
   "execution_count": 27,
   "metadata": {},
   "outputs": [
    {
     "name": "stdout",
     "output_type": "stream",
     "text": [
      "50 = 50 + [100, 200, 129, 456]\n",
      "150\n",
      "-----\n",
      "150 = 150 + [100, 200, 129, 456]\n",
      "350\n",
      "-----\n",
      "350 = 350 + [100, 200, 129, 456]\n",
      "479\n",
      "-----\n",
      "479 = 479 + [100, 200, 129, 456]\n",
      "935\n",
      "-----\n",
      "Total amount to be paid : 935\n"
     ]
    }
   ],
   "source": [
    "cost_of_items = [100,200, 129,456] # index starts from (0,4) i.e 0,1,2,3\n",
    "total_sum = 50\n",
    "for i in range(0,4):\n",
    "    print(f\"{total_sum} = {total_sum} + {cost_of_items}\")\n",
    "    total_sum = total_sum + cost_of_items[i]\n",
    "    print(total_sum)\n",
    "    print(\"-----\")\n",
    "print(f\"Total amount to be paid : {total_sum}\")"
   ]
  },
  {
   "cell_type": "code",
   "execution_count": 30,
   "metadata": {},
   "outputs": [
    {
     "name": "stdout",
     "output_type": "stream",
     "text": [
      "0 = 0 + [100, 200, 129, 456]\n",
      "100\n",
      "-----\n",
      "100 = 100 + [100, 200, 129, 456]\n",
      "300\n",
      "-----\n",
      "300 = 300 + [100, 200, 129, 456]\n",
      "429\n",
      "-----\n",
      "429 = 429 + [100, 200, 129, 456]\n",
      "885\n",
      "-----\n",
      "Total amount to be paid : 885\n"
     ]
    }
   ],
   "source": [
    "cost_of_items = [100,200, 129,456] # index starts from (0,4) i.e 0,1,2,3\n",
    "total_sum = 0\n",
    "N = len(cost_of_items)\n",
    "for i in range(0,N):\n",
    "    print(f\"{total_sum} = {total_sum} + {cost_of_items}\")\n",
    "    total_sum = total_sum + cost_of_items[i]\n",
    "    print(total_sum)\n",
    "    print(\"-----\")\n",
    "print(f\"Total amount to be paid : {total_sum}\")"
   ]
  },
  {
   "cell_type": "code",
   "execution_count": 31,
   "metadata": {},
   "outputs": [
    {
     "name": "stdout",
     "output_type": "stream",
     "text": [
      "0 = 0 + 100\n",
      "100\n",
      "-----\n",
      "100 = 100 + 200\n",
      "300\n",
      "-----\n",
      "300 = 300 + 129\n",
      "429\n",
      "-----\n",
      "429 = 429 + 456\n",
      "885\n",
      "-----\n",
      "Total amount to be paid : 885\n"
     ]
    }
   ],
   "source": [
    "cost_of_items = [100,200, 129,456] # index starts from (0,4) i.e 0,1,2,3\n",
    "total_sum = 0\n",
    "for cost in cost_of_items:\n",
    "    print(f\"{total_sum} = {total_sum} + {cost}\")\n",
    "    total_sum = total_sum + cost\n",
    "    print(total_sum)\n",
    "    print(\"-----\")\n",
    "print(f\"Total amount to be paid : {total_sum}\")"
   ]
  },
  {
   "cell_type": "code",
   "execution_count": 32,
   "metadata": {},
   "outputs": [
    {
     "name": "stdout",
     "output_type": "stream",
     "text": [
      "100\n",
      "200\n",
      "129\n",
      "456\n"
     ]
    }
   ],
   "source": [
    "cost_of_items = [100,200, 129,456] # index starts from (0,4) i.e 0,1,2,3\n",
    "total_sum = 0\n",
    "for cost in cost_of_items:\n",
    "    print(cost)"
   ]
  },
  {
   "cell_type": "code",
   "execution_count": 34,
   "metadata": {},
   "outputs": [
    {
     "name": "stdout",
     "output_type": "stream",
     "text": [
      "100\n",
      "200\n",
      "129\n",
      "456\n"
     ]
    }
   ],
   "source": [
    "cost_of_items = [100,200,129,456]\n",
    "total_sum = 0\n",
    "N = len(cost_of_items)\n",
    "for i in range(0,N):\n",
    "    print(cost_of_items[i])"
   ]
  },
  {
   "cell_type": "code",
   "execution_count": 36,
   "metadata": {},
   "outputs": [
    {
     "name": "stdout",
     "output_type": "stream",
     "text": [
      " my station is : station1\n",
      " my station is : station2\n",
      " my station is : station3\n",
      " my station is : station4\n"
     ]
    }
   ],
   "source": [
    "stations = [\"station1\",\"station2\",\"station3\",\"station4\"]\n",
    "\n",
    "for current_station in stations:\n",
    "    print(f\" my station is : {current_station}\")"
   ]
  },
  {
   "cell_type": "markdown",
   "metadata": {},
   "source": [
    "break and continue statements"
   ]
  },
  {
   "cell_type": "code",
   "execution_count": 19,
   "metadata": {},
   "outputs": [
    {
     "name": "stdout",
     "output_type": "stream",
     "text": [
      "your current total : 100\n",
      "your current total : 300\n",
      "your current total : 429\n",
      "your current total : 885\n",
      "your current total : 1885\n",
      "your current total : 2035\n",
      "plz remove the itemns \n",
      "after the item removed  : 1885\n"
     ]
    }
   ],
   "source": [
    "cost_of_items = [100,200, 129,456,1000,150] # index starts from (0,4) i.e 0,1,2,3\n",
    "total_sum = 0\n",
    "budget = 2000\n",
    "for cost in cost_of_items:\n",
    "    total_sum = total_sum + cost\n",
    "    print(f\"your current total : {total_sum}\")\n",
    "if total_sum < budget:\n",
    "    print(f\"total sum is: {total_sum}\")\n",
    "else:\n",
    "    print(\"plz remove the itemns \")\n",
    "    print(f\"after the item removed  : {total_sum - cost}\")"
   ]
  },
  {
   "cell_type": "code",
   "execution_count": 25,
   "metadata": {},
   "outputs": [
    {
     "name": "stdout",
     "output_type": "stream",
     "text": [
      "1\n",
      "2\n",
      "3\n",
      "4\n",
      "5\n",
      "6\n",
      "7\n",
      "8\n",
      "9\n",
      "10\n",
      "11\n",
      "12\n",
      "13\n",
      "14\n",
      "15\n",
      "16\n",
      "17\n",
      "18\n",
      "19\n",
      "20\n",
      "21\n"
     ]
    }
   ],
   "source": [
    "for i in range(1,100):\n",
    "    print(i)\n",
    "    if i>20:\n",
    "        break"
   ]
  },
  {
   "cell_type": "code",
   "execution_count": 29,
   "metadata": {},
   "outputs": [
    {
     "name": "stdout",
     "output_type": "stream",
     "text": [
      "2\n",
      "4\n",
      "6\n",
      "8\n"
     ]
    }
   ],
   "source": [
    "for i in range(1,10):\n",
    "    if i%2 != 0: # if the number is even then start the loop again\n",
    "        continue\n",
    "    print(i)"
   ]
  },
  {
   "cell_type": "code",
   "execution_count": 34,
   "metadata": {},
   "outputs": [],
   "source": [
    "for i in range(1,10): \n",
    "    if i%2 != 0: # if the number is even then start the loop again\n",
    "        break\n",
    "        print(i) # break means break the code then n there \n",
    "    else:\n",
    "        print(\"let go\")"
   ]
  },
  {
   "cell_type": "code",
   "execution_count": 57,
   "metadata": {},
   "outputs": [
    {
     "name": "stdout",
     "output_type": "stream",
     "text": [
      "current station is : station1\n",
      "current station is : station2\n",
      "current station is : station4\n"
     ]
    }
   ],
   "source": [
    "\n",
    "stations = [\"station1\",\"station2\",\"station3\",\"station4\"]\n",
    "station = 0\n",
    "for station in stations:\n",
    "    if station == \"station3\":\n",
    "        continue\n",
    "    print(f\"current station is : {station}\")\n"
   ]
  },
  {
   "cell_type": "markdown",
   "metadata": {},
   "source": [
    "break : it completely stops the loop \n",
    "continue : it skips the current loop , it skips the statement after 'continue' keyword "
   ]
  },
  {
   "cell_type": "code",
   "execution_count": 58,
   "metadata": {},
   "outputs": [],
   "source": [
    "for i in range(1,10):\n",
    "    pass # I want to write the code later "
   ]
  },
  {
   "cell_type": "code",
   "execution_count": 59,
   "metadata": {},
   "outputs": [
    {
     "name": "stdout",
     "output_type": "stream",
     "text": [
      "the given number  is even:100\n"
     ]
    }
   ],
   "source": [
    "num = 100\n",
    "if num%2 == 0:\n",
    "    print(f\"the given number  is even:{num}\")\n",
    "else:\n",
    "    print(f\"the given number is odd : {num}\")"
   ]
  },
  {
   "cell_type": "code",
   "execution_count": 8,
   "metadata": {},
   "outputs": [
    {
     "name": "stdout",
     "output_type": "stream",
     "text": [
      "the number is greatter than 100 \n"
     ]
    }
   ],
   "source": [
    "num = int(input(\"enter the number: \"))\n",
    "if num > 100:\n",
    "    print(\"the number is greatter than 100 \")\n",
    "elif 80 < num <= 100:\n",
    "    print(\"the number is in the range of 80 to 100 \")\n",
    "elif 60 < num <= 80:\n",
    "    print(\"the number is between 60 to 80\")\n",
    "elif 40 < num <= 60:\n",
    "    print(\"the number is between 40 to 60\")\n",
    "\n",
    "else:\n",
    "    print(\"the number is less than 40 \")\n"
   ]
  },
  {
   "cell_type": "markdown",
   "metadata": {},
   "source": [
    "nested if else:"
   ]
  },
  {
   "cell_type": "code",
   "execution_count": 12,
   "metadata": {},
   "outputs": [
    {
     "name": "stdout",
     "output_type": "stream",
     "text": [
      "b is greater\n"
     ]
    }
   ],
   "source": [
    "a,b,c = 12,17,15\n",
    "if a<b :\n",
    "    if b>c:\n",
    "        print(\"b is greater\")\n",
    "    else:\n",
    "        print(\"NOTHN\")\n",
    "else:\n",
    "    print(\"b is not greater \")"
   ]
  },
  {
   "cell_type": "code",
   "execution_count": 18,
   "metadata": {},
   "outputs": [
    {
     "name": "stdout",
     "output_type": "stream",
     "text": [
      "hey\n"
     ]
    }
   ],
   "source": [
    "score = \"hey\"\n",
    "print(f\"{score[0:3]}\")"
   ]
  }
 ],
 "metadata": {
  "kernelspec": {
   "display_name": "Python 3.9.7 ('base')",
   "language": "python",
   "name": "python3"
  },
  "language_info": {
   "codemirror_mode": {
    "name": "ipython",
    "version": 3
   },
   "file_extension": ".py",
   "mimetype": "text/x-python",
   "name": "python",
   "nbconvert_exporter": "python",
   "pygments_lexer": "ipython3",
   "version": "3.9.7"
  },
  "orig_nbformat": 4,
  "vscode": {
   "interpreter": {
    "hash": "220fae48ee6aa06a15b0a194b915ad59277734e5bd52415b52439bc6d564df3a"
   }
  }
 },
 "nbformat": 4,
 "nbformat_minor": 2
}
