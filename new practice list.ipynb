{
 "cells": [
  {
   "cell_type": "markdown",
   "metadata": {},
   "source": [
    "1. print the first 5 positive integers  in ascending order with one number in each line ."
   ]
  },
  {
   "cell_type": "code",
   "execution_count": 30,
   "metadata": {},
   "outputs": [
    {
     "name": "stdout",
     "output_type": "stream",
     "text": [
      "0\n",
      "1\n",
      "2\n",
      "3\n",
      "4\n",
      "5\n"
     ]
    }
   ],
   "source": [
    "for i in range(6):\n",
    "    print(i)"
   ]
  },
  {
   "cell_type": "markdown",
   "metadata": {},
   "source": [
    "2. print the following pattern\n",
    "no spaces between consecutive stars there are no spaces at the end of each line .\n"
   ]
  },
  {
   "cell_type": "code",
   "execution_count": 31,
   "metadata": {},
   "outputs": [
    {
     "ename": "ValueError",
     "evalue": "invalid literal for int() with base 10: ''",
     "output_type": "error",
     "traceback": [
      "\u001b[1;31m---------------------------------------------------------------------------\u001b[0m",
      "\u001b[1;31mValueError\u001b[0m                                Traceback (most recent call last)",
      "\u001b[1;32m~\\AppData\\Local\\Temp/ipykernel_17608/2899140908.py\u001b[0m in \u001b[0;36m<module>\u001b[1;34m\u001b[0m\n\u001b[1;32m----> 1\u001b[1;33m \u001b[0mh\u001b[0m \u001b[1;33m=\u001b[0m \u001b[0mint\u001b[0m\u001b[1;33m(\u001b[0m\u001b[0minput\u001b[0m\u001b[1;33m(\u001b[0m\u001b[1;34m\"enter the number of stars need \"\u001b[0m\u001b[1;33m)\u001b[0m\u001b[1;33m)\u001b[0m\u001b[1;33m\u001b[0m\u001b[1;33m\u001b[0m\u001b[0m\n\u001b[0m\u001b[0;32m      2\u001b[0m \u001b[0mi\u001b[0m \u001b[1;33m=\u001b[0m\u001b[1;36m0\u001b[0m\u001b[1;33m\u001b[0m\u001b[1;33m\u001b[0m\u001b[0m\n\u001b[0;32m      3\u001b[0m \u001b[1;32mwhile\u001b[0m \u001b[0mi\u001b[0m\u001b[1;33m<=\u001b[0m\u001b[0mh\u001b[0m\u001b[1;33m:\u001b[0m\u001b[1;33m\u001b[0m\u001b[1;33m\u001b[0m\u001b[0m\n\u001b[0;32m      4\u001b[0m     \u001b[1;31m#print(i)\u001b[0m\u001b[1;33m\u001b[0m\u001b[1;33m\u001b[0m\u001b[0m\n\u001b[0;32m      5\u001b[0m     \u001b[0mj\u001b[0m \u001b[1;33m=\u001b[0m \u001b[1;33m(\u001b[0m\u001b[1;33m(\u001b[0m\u001b[1;36m2\u001b[0m\u001b[1;33m*\u001b[0m\u001b[0mi\u001b[0m\u001b[1;33m)\u001b[0m\u001b[1;33m+\u001b[0m\u001b[1;36m1\u001b[0m\u001b[1;33m)\u001b[0m \u001b[1;33m*\u001b[0m \u001b[1;34m\"*\"\u001b[0m\u001b[1;33m\u001b[0m\u001b[1;33m\u001b[0m\u001b[0m\n",
      "\u001b[1;31mValueError\u001b[0m: invalid literal for int() with base 10: ''"
     ]
    }
   ],
   "source": [
    "h = int(input(\"enter the number of stars need \"))\n",
    "i =0 \n",
    "while i<=h:\n",
    "    #print(i)\n",
    "    j = ((2*i)+1) * \"*\"\n",
    "    print(j)\n",
    "    i = i+1"
   ]
  },
  {
   "cell_type": "code",
   "execution_count": null,
   "metadata": {},
   "outputs": [],
   "source": [
    "h = int(input(\"enter the number of stars need \"))\n",
    "i =0 \n",
    "while i<=h:\n",
    "    #print(i)\n",
    "    j = i * \"*\"\n",
    "    print(j)\n",
    "    i = i+1"
   ]
  },
  {
   "cell_type": "code",
   "execution_count": null,
   "metadata": {},
   "outputs": [],
   "source": [
    "h = int(input(\"enter the number of stars need \"))\n",
    "print(h**2)"
   ]
  },
  {
   "cell_type": "code",
   "execution_count": null,
   "metadata": {},
   "outputs": [],
   "source": [
    "A = int(input(\"enter the integer \"))\n",
    "B = int(input(\"enter the integer \"))\n",
    "print((A+B))"
   ]
  },
  {
   "cell_type": "code",
   "execution_count": null,
   "metadata": {},
   "outputs": [],
   "source": [
    "A = input(\"enter the word \")\n",
    "B = input(\"enter the word \")\n",
    "print((A+ \" \" +B))"
   ]
  },
  {
   "cell_type": "code",
   "execution_count": null,
   "metadata": {},
   "outputs": [],
   "source": [
    "h = input(\"enter 5 digit number \")\n",
    "len(h) \n",
    "j = []\n",
    "f = 0 \n",
    "for i in h:\n",
    "    print(int(i))\n",
    "    j.append(int(i))\n",
    "    print(j)\n",
    "for k in j :\n",
    "    f = f+k\n",
    "print(f)"
   ]
  },
  {
   "cell_type": "code",
   "execution_count": null,
   "metadata": {},
   "outputs": [],
   "source": [
    "h = 4\n",
    "i = 0\n",
    "h1=[]\n",
    "while i <= h:\n",
    "    y = input(\"enter the word\")\n",
    "    h1.append(y)\n",
    "    i = i+1\n",
    "    print(h1)\n",
    "for j in h1:\n",
    "    print(j)\n",
    "    \n",
    "\n"
   ]
  },
  {
   "cell_type": "code",
   "execution_count": null,
   "metadata": {},
   "outputs": [],
   "source": [
    "word1 = input()\n",
    "word2 = input()\n",
    "word3 = input()\n",
    "word4 = input()\n",
    "word5 = input()\n",
    "space = \" \"\n",
    "stop = \".\"\n",
    "sentence = word1 + space + word2 + space+ word3+ space+word4+space+word5+space+stop\n",
    "print(sentence)"
   ]
  },
  {
   "cell_type": "code",
   "execution_count": null,
   "metadata": {},
   "outputs": [],
   "source": [
    "x= input(\"enter the number in :DD-MM-YYYY\")\n",
    "print(x[6::])"
   ]
  },
  {
   "cell_type": "code",
   "execution_count": null,
   "metadata": {},
   "outputs": [],
   "source": [
    "y = \"1,2,3,4,5\"\n",
    "j = 1 \n",
    "for i in y:\n",
    "    if i != \",\":\n",
    "        j = int(i) * j\n",
    "print(j)\n",
    "\n",
    "\n",
    "\n",
    "\n",
    "\n",
    "    \n"
   ]
  },
  {
   "cell_type": "code",
   "execution_count": null,
   "metadata": {},
   "outputs": [],
   "source": [
    "y = 5\n",
    "x= 7\n",
    "z=x**y\n",
    "print(z)\n",
    "z = str(z)\n",
    "print(len(z))\n",
    "\n",
    "\n",
    "\n",
    "\n"
   ]
  },
  {
   "cell_type": "code",
   "execution_count": null,
   "metadata": {},
   "outputs": [],
   "source": [
    "x = input()\n",
    "if len(x)%2 == 0 and x[-1] == \".\":\n",
    "    z=x.removesuffix(\".\")\n",
    "    print(z.lower)\n",
    "else :\n",
    "    len(x)%2 == 0 and x[-1] != \".\"\n",
    "    z=x.__add__(\".\")\n",
    "    print(z.lower())\n",
    "n = int((len(z)-1)/2)\n",
    "print(z[n-1:n+2].lower())\n",
    "\n",
    "\n",
    "\n",
    "    \n",
    "    \n",
    "\n",
    "\n",
    "\n",
    "\n",
    "\n"
   ]
  },
  {
   "cell_type": "code",
   "execution_count": null,
   "metadata": {},
   "outputs": [],
   "source": [
    "x = int(input())\n",
    "y = int(input())\n",
    "z = int(input())\n",
    "if  x**2 + y**2 == z**2 or y**2 + z**2 == x**2 or z**2 + x**2 == y**2:\n",
    "    print(\"yes\")\n",
    "else:\n",
    "    print(\"No\")"
   ]
  },
  {
   "cell_type": "code",
   "execution_count": null,
   "metadata": {},
   "outputs": [],
   "source": [
    "x1 = int(input())\n",
    "x2 = int(input())\n",
    "x3 = int(input())\n",
    "x4 = int(input())\n",
    "x5 = int(input())\n",
    "\n",
    "if (x1+x2)%2 == 0 and (x2+x3)%2 == 0 and (x3+x4)%2 == 0 and (x4+x5)%2 == 0 and (x5+x1)%2 == 0:\n",
    "    print(\"yes\")\n",
    "else:\n",
    "    print(\"no\")"
   ]
  },
  {
   "cell_type": "code",
   "execution_count": null,
   "metadata": {},
   "outputs": [],
   "source": [
    "A = input()\n",
    "for i in A:\n",
    "    if i == \"a\":\n",
    "        print(\"a\")\n",
    "    if i == \"e\":\n",
    "        print(\"e\")\n",
    "    if i == \"o\":\n",
    "        print(\"o\")\n",
    "    if i == \"i\":\n",
    "        print(\"i\")\n",
    "    if i == \"u\":\n",
    "        print(\"u\")"
   ]
  },
  {
   "cell_type": "code",
   "execution_count": null,
   "metadata": {},
   "outputs": [],
   "source": [
    "n = input(\"enter the string:\")\n",
    "lst = list(n)\n",
    "print(lst)\n",
    "vols = [\"a\",\"e\",\"i\",\"o\",\"u\"]\n",
    "\n",
    "out= []\n",
    "for each in lst:\n",
    "    if each in vols:\n",
    "        out.append(each)\n",
    "print(\"vowels found are:\")\n",
    "print(set(out))"
   ]
  },
  {
   "cell_type": "code",
   "execution_count": null,
   "metadata": {},
   "outputs": [],
   "source": [
    "y1 = input(\"name\")\n",
    "y2 = input(\"dd-mm-yyyy\")\n",
    "y3 = input(\"name\")\n",
    "y4 = input(\"dd-mm-yyyy\")\n",
    "if y2 == y4:\n",
    "    if y1 < y3:\n",
    "        print(f\"younger is :{y1}\")\n",
    "    else:\n",
    "        print(f\"younger is :{y3}\")\n",
    "\n",
    "if (y2[-4:]<y4[-4:]):\n",
    "    print(f\"younger is {y3}\")\n",
    "else:\n",
    "    print(f\"younger is {y1}\")\n",
    "    \n",
    "\n"
   ]
  },
  {
   "cell_type": "code",
   "execution_count": null,
   "metadata": {},
   "outputs": [],
   "source": [
    "y23 = \"rahul\"\n",
    "y24 = \"rohan\"\n",
    "print(y23<y24)"
   ]
  },
  {
   "cell_type": "code",
   "execution_count": null,
   "metadata": {},
   "outputs": [],
   "source": [
    "y1 = input(\"name :\")\n",
    "y2 = input(\"date of birth in DD-MM-YYYY\")\n",
    "y3 = input(\"name :\")\n",
    "y4 = input(\"date of birth in DD-MM-YYYY\")\n",
    "if y2 == y4:\n",
    "    if y1 < y3:\n",
    "        print(f\"{y1} is younger\")\n",
    "    else:\n",
    "        print(f\"{y3}  is younger\")\n",
    "elif y2[6:] != y4[6:]:\n",
    "    if int(y2[6:]) < int(y4[6:]):\n",
    "        print(f\"{y3} id younger \")\n",
    "    else:\n",
    "        print(f\"{y1} is younger\")\n",
    "elif y2[3:5] != y4[3:5]:\n",
    "    if int(y2[3:5]) < int(y4[3:5]):\n",
    "        print(f\"{y3} is younger\")\n",
    "    else:\n",
    "        print(f\"{y1} id younger\")\n",
    "elif y2[0:2] != y4[0:2]:\n",
    "    if int(y2[0:2]) < int(y4[0:2]):\n",
    "        print(f\"{y3} is younger\")\n",
    "    else:\n",
    "        print(f\"{y1} is younger\")\n",
    "\n"
   ]
  },
  {
   "cell_type": "code",
   "execution_count": null,
   "metadata": {},
   "outputs": [],
   "source": [
    "d1 = list(input(\"enter ur pass \"))\n",
    "d2 = [\"/\",\"=\",\" ' \",\" \"]\n",
    "if len(d1) <= 8 and len(d1) >=32:\n",
    "    print(\"please enter a valid input\")\n",
    "if d1[0].isupper and d1[0].islower:\n",
    "    print(\"yes \")\n",
    "if d1.\n",
    "\n",
    "\n"
   ]
  },
  {
   "cell_type": "code",
   "execution_count": null,
   "metadata": {},
   "outputs": [],
   "source": [
    "p = input()\n",
    "if 8<= len(p) <= 32 and p[0].isalpha() and \"/\" not in p and \"\\\\\" not in p and \"=\" not in p and \" \" not in p and \"\\ '\" not in p and \"\\\"\" not in p and ' \" ' not in p :\n",
    "    print(\"true\")\n",
    "else:\n",
    "    print(\"False\")"
   ]
  },
  {
   "cell_type": "code",
   "execution_count": null,
   "metadata": {},
   "outputs": [],
   "source": [
    "y = int(input(\"number\"))\n",
    "i =0 \n",
    "while i <= y:\n",
    "    print(i)\n",
    "    i = i+1"
   ]
  },
  {
   "cell_type": "code",
   "execution_count": null,
   "metadata": {},
   "outputs": [
    {
     "ename": "SyntaxError",
     "evalue": "invalid syntax (Temp/ipykernel_2500/3191233114.py, line 2)",
     "output_type": "error",
     "traceback": [
      "\u001b[1;36m  File \u001b[1;32m\"C:\\Users\\rahul\\AppData\\Local\\Temp/ipykernel_2500/3191233114.py\"\u001b[1;36m, line \u001b[1;32m2\u001b[0m\n\u001b[1;33m    if y >1\u001b[0m\n\u001b[1;37m           ^\u001b[0m\n\u001b[1;31mSyntaxError\u001b[0m\u001b[1;31m:\u001b[0m invalid syntax\n"
     ]
    }
   ],
   "source": [
    "y = int(input())\n",
    "if y >1\n",
    "\n",
    "\n"
   ]
  },
  {
   "cell_type": "code",
   "execution_count": null,
   "metadata": {},
   "outputs": [
    {
     "name": "stdout",
     "output_type": "stream",
     "text": [
      "5 is not a prime number\n"
     ]
    }
   ],
   "source": [
    "n = int(input())\n",
    "isprime = True\n",
    "if n == 1:\n",
    "    isprime = False\n",
    "else:\n",
    "    for i in range(2,n):\n",
    "        if n%1 == 0:\n",
    "            isprime = False\n",
    "if isprime == True:\n",
    "    print(f\"{n} is a prime number \")\n",
    "else:\n",
    "    print(f\"{n} is not a prime number\")"
   ]
  },
  {
   "cell_type": "code",
   "execution_count": null,
   "metadata": {},
   "outputs": [
    {
     "name": "stdout",
     "output_type": "stream",
     "text": [
      "1 is a prime number \n"
     ]
    }
   ],
   "source": [
    "y = int(input())\n",
    "if y>1:\n",
    "    for i in range(2,y):\n",
    "        if (y%i) == 0:\n",
    "            print(f\"{y}is not a prime \")\n",
    "            break\n",
    "else:\n",
    "    print(f\"{y} is a prime number \")"
   ]
  },
  {
   "cell_type": "code",
   "execution_count": null,
   "metadata": {},
   "outputs": [
    {
     "name": "stdout",
     "output_type": "stream",
     "text": [
      "13  is a prime number.\n"
     ]
    }
   ],
   "source": [
    "flag = 0\n",
    "n = int(input('\\nEnter whole number to check : '))\n",
    "i = 2\n",
    "while i <= (n/2):\n",
    "    if (n%i) == 0:\n",
    "        flag = 1\n",
    "        break\n",
    "    i += 1\n",
    "if n == 1:\n",
    "    print('1 is neither prime nor composite')\n",
    "elif flag == 0:\n",
    "    print(n,' is a prime number.')\n",
    "elif flag == 1:\n",
    "    print(n,' is not a prime number.')"
   ]
  },
  {
   "cell_type": "markdown",
   "metadata": {},
   "source": [
    "prime number \n",
    "\n",
    "Number which is divisible by 1 and itself is called a prime number.\n",
    "\n",
    "if n is a number \n",
    "n should be divided from 2 to n-1\n",
    "if any number is divisible by n  and between 2 to n-1 we can say it is not a prime \n",
    "other wise it is prime\n",
    "\n",
    "example \n",
    "n = 5\n",
    "\n",
    "we need to check \n",
    "\n",
    "5%2 ,5%3, 5%4 -if any one results in 0 \n",
    " \n",
    " then it is not  a prime \n",
    "\n",
    " if it doesnt results 0 \n",
    "\n",
    " then it is prime\n",
    "\n",
    " "
   ]
  },
  {
   "cell_type": "code",
   "execution_count": null,
   "metadata": {},
   "outputs": [
    {
     "name": "stdout",
     "output_type": "stream",
     "text": [
      "17 is prime\n"
     ]
    }
   ],
   "source": [
    "n = int(input())\n",
    "for i in range(2,n):\n",
    "    if n % i == 0:\n",
    "        print(f\"{n} is not a prime\")\n",
    "        break\n",
    "else:\n",
    "    print(f\"{n} is prime\")"
   ]
  },
  {
   "cell_type": "code",
   "execution_count": 4,
   "metadata": {},
   "outputs": [
    {
     "name": "stdout",
     "output_type": "stream",
     "text": [
      "on\n"
     ]
    }
   ],
   "source": [
    "a = input()\n",
    "b = input()\n",
    "for c in a:\n",
    "    if c in b:\n",
    "        b = b.replace(c,\"\")\n",
    "print(b)"
   ]
  },
  {
   "cell_type": "code",
   "execution_count": 11,
   "metadata": {},
   "outputs": [
    {
     "name": "stdout",
     "output_type": "stream",
     "text": [
      "invalid\n"
     ]
    }
   ],
   "source": [
    "n = input()\n",
    "a = False\n",
    "if len(n) == 10 and int(n[0]) > 5 and n.isdigit():\n",
    "    for i in range(10):\n",
    "        if n.count(n[i])<8:\n",
    "            a = True\n",
    "            if n[i]*6 in n:\n",
    "                a = False\n",
    "                break\n",
    "        else:\n",
    "            break\n",
    "if a:\n",
    "    print(\"valid\")\n",
    "else:\n",
    "    print(\"invalid\")"
   ]
  },
  {
   "cell_type": "code",
   "execution_count": 2,
   "metadata": {},
   "outputs": [
    {
     "name": "stdout",
     "output_type": "stream",
     "text": [
      "yes\n",
      "2\n"
     ]
    }
   ],
   "source": [
    "y = input()\n",
    "z = input()\n",
    "if z in y:\n",
    "    print(\"yes\")\n",
    "    x = y.count(z)\n",
    "    print(x)\n",
    "else:\n",
    "    print(f\"{z} is not in the y\")"
   ]
  },
  {
   "cell_type": "code",
   "execution_count": 16,
   "metadata": {},
   "outputs": [
    {
     "name": "stdout",
     "output_type": "stream",
     "text": [
      "1\n",
      "2\n",
      "6\n",
      "24\n",
      "120\n",
      "720\n"
     ]
    }
   ],
   "source": [
    "x = int(input())\n",
    "y = 1\n",
    "for i in range(1,x+1):\n",
    "    y = y*i\n",
    "    print(y)\n",
    "\n",
    "\n",
    "\n",
    "\n"
   ]
  },
  {
   "cell_type": "code",
   "execution_count": null,
   "metadata": {},
   "outputs": [],
   "source": [
    "l = int(input(\"enter the number \"))\n",
    "f =1\n",
    "for i in range(1,l+1):\n",
    "    f = f * i\n",
    "    print (f)"
   ]
  },
  {
   "cell_type": "code",
   "execution_count": 29,
   "metadata": {},
   "outputs": [
    {
     "name": "stdout",
     "output_type": "stream",
     "text": [
      "22 66\n",
      "44\n",
      "[22, 33, 66]\n"
     ]
    }
   ],
   "source": [
    "x=int(input())\n",
    "l1=[]\n",
    "for i in range(x):\n",
    "    l = int(input())\n",
    "    l1.append(l)\n",
    "l1.sort\n",
    "print(l1[0],l1[-1])\n",
    "print(l1[-1]-l1[0])\n",
    "print(l1)"
   ]
  }
 ],
 "metadata": {
  "kernelspec": {
   "display_name": "Python 3.9.7 ('base')",
   "language": "python",
   "name": "python3"
  },
  "language_info": {
   "codemirror_mode": {
    "name": "ipython",
    "version": 3
   },
   "file_extension": ".py",
   "mimetype": "text/x-python",
   "name": "python",
   "nbconvert_exporter": "python",
   "pygments_lexer": "ipython3",
   "version": "3.9.7"
  },
  "orig_nbformat": 4,
  "vscode": {
   "interpreter": {
    "hash": "220fae48ee6aa06a15b0a194b915ad59277734e5bd52415b52439bc6d564df3a"
   }
  }
 },
 "nbformat": 4,
 "nbformat_minor": 2
}
