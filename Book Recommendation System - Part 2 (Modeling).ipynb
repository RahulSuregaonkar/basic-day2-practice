{
 "cells": [
  {
   "cell_type": "markdown",
   "id": "4877e023",
   "metadata": {},
   "source": [
    "# Book Recommendation System - PART 2 (Modeling)"
   ]
  },
  {
   "cell_type": "markdown",
   "id": "4390bf26",
   "metadata": {},
   "source": [
    "by: [Ulya Azmah Khairiah](https://www.linkedin.com/in/ulyazmah/)"
   ]
  },
  {
   "cell_type": "markdown",
   "id": "091e4794",
   "metadata": {},
   "source": [
    "In my first notebook, I tried to explore the data and answer several deep dive questions. From that exploration, we observed that people start to give lower rating if they read more books. We thought that this could be a result of an inappropriate book recommendation system, so that people end up reading books they don't like. \n",
    "\n",
    "Now, it's time for us to to develop recommendation systems. In this notebook, the recommendation systems developed based on several methods: \n",
    "1. Basic Recommender\n",
    "2. Content-based Filtering\n",
    "3. Collaborative Filtering\n",
    "\n",
    "In the end, I will compare the result given by the recommendation systems and explore strengths and weakness of each model."
   ]
  },
  {
   "cell_type": "markdown",
   "id": "0289d4af",
   "metadata": {},
   "source": [
    "## Import Libraries"
   ]
  },
  {
   "cell_type": "code",
   "execution_count": 1,
   "id": "9611fcbf",
   "metadata": {},
   "outputs": [],
   "source": [
    "import warnings\n",
    "warnings.filterwarnings('ignore')\n",
    "\n",
    "import pandas as pd\n",
    "import numpy as np\n",
    "import matplotlib.pyplot as plt\n",
    "import seaborn as sns\n",
    "\n",
    "#for content based filtering\n",
    "from sklearn.metrics.pairwise import linear_kernel\n",
    "from sklearn.feature_extraction.text import TfidfVectorizer\n",
    "\n",
    "#for collaborative filtering\n",
    "import os\n",
    "import math\n",
    "import random\n",
    "\n",
    "from surprise import accuracy, Reader, Dataset, dump\n",
    "from surprise import NormalPredictor, KNNBasic, SVD, SVDpp\n",
    "from surprise.model_selection import cross_validate, GridSearchCV"
   ]
  },
  {
   "cell_type": "markdown",
   "id": "d580a583",
   "metadata": {},
   "source": [
    "## Import Dataset"
   ]
  },
  {
   "cell_type": "code",
   "execution_count": 2,
   "id": "c53c55f9",
   "metadata": {},
   "outputs": [],
   "source": [
    "pd.options.display.float_format = '{:.2f}'.format\n",
    "r = pd.read_csv('data/ratings.csv')\n",
    "b = pd.read_csv('data/books_cleaned.csv')"
   ]
  },
  {
   "cell_type": "markdown",
   "id": "424d7604",
   "metadata": {},
   "source": [
    "## 1. Simple Recommendation"
   ]
  },
  {
   "cell_type": "markdown",
   "id": "801d3621",
   "metadata": {},
   "source": [
    "One of the easiest way to give recommendation is to rank the book based on `average_rating` or `rating_count` (popularity). However, as we mentioned in EDA, we found:\n",
    "1. Book with relatively lower number of `rating_count` (less popular) when we rank book based on `average_rating`.\n",
    "2. Book with relatively lower `average_rating` when we ranked book based on `rating_count`.\n",
    "\n",
    "Therefore, we need to make a weighted rating of `average_rating` and `rating_count`."
   ]
  },
  {
   "cell_type": "markdown",
   "id": "1e026ac1",
   "metadata": {},
   "source": [
    "### a. Recommendation based on Weighted Average of Rating and Popularity"
   ]
  },
  {
   "cell_type": "markdown",
   "id": "1bfecaea",
   "metadata": {},
   "source": [
    "One of the easiest way to give recommendation is to rank the book in metadata based on average_rating or rating_count (popularity). However, as we mentioned in the EDA phase, we found:\n",
    "1. Book with relatively lower number of rating_count (less popular) when we rank book based on average_rating.\n",
    "2. Book with relatively lower average_rating when we ranked book based on rating_count.\n",
    "\n",
    "Therefore, we need to make a new scoring of average_rating and rating_count. In this case, I will use rating formula like the one used in IMDB site to determine the Top Rated 250 Movies.\n",
    "\n",
    "New Rating Score is determined by the following equation:\n",
    "![New Rating Formula](img/new_rating_score.png \"New Rating Score\")"
   ]
  },
  {
   "cell_type": "markdown",
   "id": "31b8164b",
   "metadata": {},
   "source": [
    "where:<br>\n",
    "v = number of ratings (`ratings_count`)<br>\n",
    "m = minimum `ratings_count` required to be recommended<br>\n",
    "R = average of ratings (`average_rating`) <br>\n",
    "C = the mean ratings for all books"
   ]
  },
  {
   "cell_type": "markdown",
   "id": "323146d3",
   "metadata": {},
   "source": [
    "Now let's determine the appropriate value for m, the number of votes needed to be listed in the chart. For this simple recommender, our cutoff will be the 95th percentile. In order for a book to appear in the recommendation, it must receive at least 95% of the other books on the list (around 2100 ratings)."
   ]
  },
  {
   "cell_type": "code",
   "execution_count": 3,
   "id": "ee158878",
   "metadata": {},
   "outputs": [],
   "source": [
    "def simple_recommender(books, n=5):\n",
    "    v = books['ratings_count']\n",
    "    m = books['ratings_count'].quantile(0.95)\n",
    "    R = books['average_rating']\n",
    "    C = books['average_rating'].median()\n",
    "    score = (v/(v+m) * R) + (m/(m+v) * C)   \n",
    "    books['score'] = score\n",
    "    \n",
    "    qualified  = books.sort_values('score', ascending=False)\n",
    "    return qualified[['book_id', 'title', 'authors', 'average_rating', 'ratings_count','score']].head(n)"
   ]
  },
  {
   "cell_type": "code",
   "execution_count": 4,
   "id": "9f81d94e",
   "metadata": {},
   "outputs": [
    {
     "data": {
      "text/html": [
       "<div>\n",
       "<style scoped>\n",
       "    .dataframe tbody tr th:only-of-type {\n",
       "        vertical-align: middle;\n",
       "    }\n",
       "\n",
       "    .dataframe tbody tr th {\n",
       "        vertical-align: top;\n",
       "    }\n",
       "\n",
       "    .dataframe thead th {\n",
       "        text-align: right;\n",
       "    }\n",
       "</style>\n",
       "<table border=\"1\" class=\"dataframe\">\n",
       "  <thead>\n",
       "    <tr style=\"text-align: right;\">\n",
       "      <th></th>\n",
       "      <th>book_id</th>\n",
       "      <th>title</th>\n",
       "      <th>authors</th>\n",
       "      <th>average_rating</th>\n",
       "      <th>ratings_count</th>\n",
       "      <th>score</th>\n",
       "    </tr>\n",
       "  </thead>\n",
       "  <tbody>\n",
       "    <tr>\n",
       "      <th>21</th>\n",
       "      <td>25</td>\n",
       "      <td>Harry Potter and the Deathly Hallows (Harry Po...</td>\n",
       "      <td>J.K. Rowling</td>\n",
       "      <td>4.61</td>\n",
       "      <td>1746574</td>\n",
       "      <td>4.56</td>\n",
       "    </tr>\n",
       "    <tr>\n",
       "      <th>23</th>\n",
       "      <td>27</td>\n",
       "      <td>Harry Potter and the Half-Blood Prince (Harry ...</td>\n",
       "      <td>J.K. Rowling</td>\n",
       "      <td>4.54</td>\n",
       "      <td>1678823</td>\n",
       "      <td>4.49</td>\n",
       "    </tr>\n",
       "    <tr>\n",
       "      <th>15</th>\n",
       "      <td>18</td>\n",
       "      <td>Harry Potter and the Prisoner of Azkaban (Harr...</td>\n",
       "      <td>J.K. Rowling</td>\n",
       "      <td>4.53</td>\n",
       "      <td>1832823</td>\n",
       "      <td>4.49</td>\n",
       "    </tr>\n",
       "    <tr>\n",
       "      <th>20</th>\n",
       "      <td>24</td>\n",
       "      <td>Harry Potter and the Goblet of Fire (Harry Pot...</td>\n",
       "      <td>J.K. Rowling</td>\n",
       "      <td>4.53</td>\n",
       "      <td>1753043</td>\n",
       "      <td>4.48</td>\n",
       "    </tr>\n",
       "    <tr>\n",
       "      <th>1</th>\n",
       "      <td>2</td>\n",
       "      <td>Harry Potter and the Sorcerer's Stone (Harry P...</td>\n",
       "      <td>J.K. Rowling</td>\n",
       "      <td>4.44</td>\n",
       "      <td>4602479</td>\n",
       "      <td>4.43</td>\n",
       "    </tr>\n",
       "  </tbody>\n",
       "</table>\n",
       "</div>"
      ],
      "text/plain": [
       "    book_id                                              title       authors  \\\n",
       "21       25  Harry Potter and the Deathly Hallows (Harry Po...  J.K. Rowling   \n",
       "23       27  Harry Potter and the Half-Blood Prince (Harry ...  J.K. Rowling   \n",
       "15       18  Harry Potter and the Prisoner of Azkaban (Harr...  J.K. Rowling   \n",
       "20       24  Harry Potter and the Goblet of Fire (Harry Pot...  J.K. Rowling   \n",
       "1         2  Harry Potter and the Sorcerer's Stone (Harry P...  J.K. Rowling   \n",
       "\n",
       "    average_rating  ratings_count  score  \n",
       "21            4.61        1746574   4.56  \n",
       "23            4.54        1678823   4.49  \n",
       "15            4.53        1832823   4.49  \n",
       "20            4.53        1753043   4.48  \n",
       "1             4.44        4602479   4.43  "
      ]
     },
     "execution_count": 4,
     "metadata": {},
     "output_type": "execute_result"
    }
   ],
   "source": [
    "simple_recommender(b)"
   ]
  },
  {
   "cell_type": "markdown",
   "id": "ddc2ccc3",
   "metadata": {},
   "source": [
    "### b. Evaluation"
   ]
  },
  {
   "cell_type": "markdown",
   "id": "f266c14c",
   "metadata": {},
   "source": [
    "This system offers generalized recommendations to every user based on popularity and average rating of the book. The recommender some flaws. For example, it makes the same suggestion to everyone, regardless of their own preferences. The top of our chart is full with J.K. Rowling's Harry Potter novels.\n",
    "\n",
    "In order to personalize of our recommendations, we are going to create recommendation system that compares books based on a set of metrics and suggests books that are most similar to a particular book that a user liked."
   ]
  },
  {
   "cell_type": "markdown",
   "id": "12c9a7ae",
   "metadata": {},
   "source": [
    "## 2. Content Based Recommendation System"
   ]
  },
  {
   "cell_type": "markdown",
   "id": "efc586f9",
   "metadata": {},
   "source": [
    "### a. Recommendation based on Cosine Similarity"
   ]
  },
  {
   "cell_type": "markdown",
   "id": "71a79368",
   "metadata": {},
   "source": [
    "To personalise our recommendations, we will measure the cosine similarity between books. The steps are:\n",
    "\n",
    "1. Make new column which consist of authors, title, genres and description of each book. <br>\n",
    "2. Use `TFIDFVectorizer` to convert our data to vector\n",
    "3. Calculate the cosine similarity score for all books\n",
    "4. User will input their favorite book, we will sort book that more similar to the input\n",
    "5. Recommend a user books\n",
    "\n",
    "Since we use `TFIDFVectorizer`, the dot product will directly give us the cosine similarity score. Therefore, we will use `sklearn`'s `linear_kernel` instead of `cosine_similarities` since it is much faster."
   ]
  },
  {
   "cell_type": "code",
   "execution_count": 5,
   "id": "9c8867be",
   "metadata": {},
   "outputs": [],
   "source": [
    "def content(books):\n",
    "    books['content'] = (pd.Series(books[['authors', 'title', 'genres', 'description']]\n",
    "                                  .fillna('')\n",
    "                                  .values.tolist()\n",
    "                                  ).str.join(' '))\n",
    "\n",
    "    tf_content = TfidfVectorizer(analyzer='word', ngram_range=(1, 2), min_df=0, stop_words='english')\n",
    "    tfidf_matrix = tf_content.fit_transform(books['content'])\n",
    "    cosine = linear_kernel(tfidf_matrix, tfidf_matrix)\n",
    "    index = pd.Series(books.index, index=books['title'])\n",
    "\n",
    "    return cosine, index"
   ]
  },
  {
   "cell_type": "code",
   "execution_count": 6,
   "id": "bffbc48b",
   "metadata": {},
   "outputs": [],
   "source": [
    "def content_recommendation(books, title, n=5):\n",
    "    cosine_sim, indices = content(books)\n",
    "    idx = indices[title]\n",
    "    sim_scores = list(enumerate(cosine_sim[idx]))\n",
    "    sim_scores = sorted(sim_scores, key=lambda x: x[1], reverse=True)\n",
    "    sim_scores = sim_scores[1:n + 1]\n",
    "    book_indices = [i[0] for i in sim_scores]\n",
    "    return books[['book_id', 'title', 'authors', 'average_rating', 'ratings_count']].iloc[book_indices]"
   ]
  },
  {
   "cell_type": "code",
   "execution_count": 7,
   "id": "7c96f73f",
   "metadata": {
    "scrolled": false
   },
   "outputs": [
    {
     "data": {
      "text/html": [
       "<div>\n",
       "<style scoped>\n",
       "    .dataframe tbody tr th:only-of-type {\n",
       "        vertical-align: middle;\n",
       "    }\n",
       "\n",
       "    .dataframe tbody tr th {\n",
       "        vertical-align: top;\n",
       "    }\n",
       "\n",
       "    .dataframe thead th {\n",
       "        text-align: right;\n",
       "    }\n",
       "</style>\n",
       "<table border=\"1\" class=\"dataframe\">\n",
       "  <thead>\n",
       "    <tr style=\"text-align: right;\">\n",
       "      <th></th>\n",
       "      <th>book_id</th>\n",
       "      <th>title</th>\n",
       "      <th>authors</th>\n",
       "      <th>average_rating</th>\n",
       "      <th>ratings_count</th>\n",
       "    </tr>\n",
       "  </thead>\n",
       "  <tbody>\n",
       "    <tr>\n",
       "      <th>795</th>\n",
       "      <td>846</td>\n",
       "      <td>Animal Farm / 1984</td>\n",
       "      <td>George Orwell</td>\n",
       "      <td>4.26</td>\n",
       "      <td>116197</td>\n",
       "    </tr>\n",
       "    <tr>\n",
       "      <th>2048</th>\n",
       "      <td>2187</td>\n",
       "      <td>We</td>\n",
       "      <td>Yevgeny Zamyatin</td>\n",
       "      <td>3.95</td>\n",
       "      <td>40020</td>\n",
       "    </tr>\n",
       "    <tr>\n",
       "      <th>3670</th>\n",
       "      <td>4004</td>\n",
       "      <td>Homage to Catalonia</td>\n",
       "      <td>George Orwell</td>\n",
       "      <td>4.14</td>\n",
       "      <td>22227</td>\n",
       "    </tr>\n",
       "    <tr>\n",
       "      <th>6857</th>\n",
       "      <td>8056</td>\n",
       "      <td>1Q84 #1-2 (1Q84, #1-2)</td>\n",
       "      <td>Haruki Murakami</td>\n",
       "      <td>4.07</td>\n",
       "      <td>8342</td>\n",
       "    </tr>\n",
       "    <tr>\n",
       "      <th>4915</th>\n",
       "      <td>5510</td>\n",
       "      <td>The Far Side Gallery</td>\n",
       "      <td>Gary Larson</td>\n",
       "      <td>4.42</td>\n",
       "      <td>20022</td>\n",
       "    </tr>\n",
       "  </tbody>\n",
       "</table>\n",
       "</div>"
      ],
      "text/plain": [
       "      book_id                   title           authors  average_rating  \\\n",
       "795       846      Animal Farm / 1984     George Orwell            4.26   \n",
       "2048     2187                      We  Yevgeny Zamyatin            3.95   \n",
       "3670     4004     Homage to Catalonia     George Orwell            4.14   \n",
       "6857     8056  1Q84 #1-2 (1Q84, #1-2)   Haruki Murakami            4.07   \n",
       "4915     5510    The Far Side Gallery       Gary Larson            4.42   \n",
       "\n",
       "      ratings_count  \n",
       "795          116197  \n",
       "2048          40020  \n",
       "3670          22227  \n",
       "6857           8342  \n",
       "4915          20022  "
      ]
     },
     "execution_count": 7,
     "metadata": {},
     "output_type": "execute_result"
    }
   ],
   "source": [
    "content_recommendation(b, '1984')"
   ]
  },
  {
   "cell_type": "markdown",
   "id": "87d2e466",
   "metadata": {},
   "source": [
    "Notice that the system recommends a book with average_rating (3.95) lower than average and book with low `ratings_count` (8342). We will try to improve our recommendation by adding popularity-rating filter."
   ]
  },
  {
   "cell_type": "markdown",
   "id": "a873ad36",
   "metadata": {},
   "source": [
    "### b. Content Based + Popularity-Rating Filter"
   ]
  },
  {
   "cell_type": "markdown",
   "id": "46e5c001",
   "metadata": {},
   "source": [
    "The mechanism to remove books with low ratings has been added on top of the content based filtering. This system will return books that are similar to your input, are popular and have high ratings. However, in this filter, our cutoff will be the quantile 75. In order for a book to appear in the recommendation, it must be ranked in top 25 similar and receive at least 75% weight score of the other books on the list (around 800 ratings)."
   ]
  },
  {
   "cell_type": "code",
   "execution_count": 8,
   "id": "0079729e",
   "metadata": {},
   "outputs": [],
   "source": [
    "def improved_recommendation(books, title, n=5):\n",
    "    cosine_sim, indices = content(books)\n",
    "    idx = indices[title]\n",
    "    sim_scores = list(enumerate(cosine_sim[idx]))\n",
    "    sim_scores = sorted(sim_scores, key=lambda x: x[1], reverse=True)\n",
    "    sim_scores = sim_scores[1:26]\n",
    "    book_indices = [i[0] for i in sim_scores]\n",
    "    books2 = books.iloc[book_indices][['book_id', 'title', 'authors', 'average_rating', 'ratings_count']]\n",
    "\n",
    "    v = books2['ratings_count']\n",
    "    m = books2['ratings_count'].quantile(0.75) #here the minimum rating is quantile 75\n",
    "    R = books2['average_rating']\n",
    "    C = books2['average_rating'].median()\n",
    "    books2['new_score'] = (v/(v+m) * R) + (m/(m+v) * C)\n",
    "\n",
    "    high_rating = books2[books2['ratings_count'] >= m]\n",
    "    high_rating = high_rating.sort_values('new_score', ascending=False)\n",
    "\n",
    "    return high_rating[['book_id', 'title', 'authors', 'average_rating', 'ratings_count','new_score']].head(n)"
   ]
  },
  {
   "cell_type": "code",
   "execution_count": 9,
   "id": "8743ac17",
   "metadata": {},
   "outputs": [
    {
     "data": {
      "text/html": [
       "<div>\n",
       "<style scoped>\n",
       "    .dataframe tbody tr th:only-of-type {\n",
       "        vertical-align: middle;\n",
       "    }\n",
       "\n",
       "    .dataframe tbody tr th {\n",
       "        vertical-align: top;\n",
       "    }\n",
       "\n",
       "    .dataframe thead th {\n",
       "        text-align: right;\n",
       "    }\n",
       "</style>\n",
       "<table border=\"1\" class=\"dataframe\">\n",
       "  <thead>\n",
       "    <tr style=\"text-align: right;\">\n",
       "      <th></th>\n",
       "      <th>book_id</th>\n",
       "      <th>title</th>\n",
       "      <th>authors</th>\n",
       "      <th>average_rating</th>\n",
       "      <th>ratings_count</th>\n",
       "      <th>new_score</th>\n",
       "    </tr>\n",
       "  </thead>\n",
       "  <tbody>\n",
       "    <tr>\n",
       "      <th>795</th>\n",
       "      <td>846</td>\n",
       "      <td>Animal Farm / 1984</td>\n",
       "      <td>George Orwell</td>\n",
       "      <td>4.26</td>\n",
       "      <td>116197</td>\n",
       "      <td>4.20</td>\n",
       "    </tr>\n",
       "    <tr>\n",
       "      <th>759</th>\n",
       "      <td>809</td>\n",
       "      <td>Brave New World / Brave New World Revisited</td>\n",
       "      <td>Aldous Huxley</td>\n",
       "      <td>4.16</td>\n",
       "      <td>108124</td>\n",
       "      <td>4.13</td>\n",
       "    </tr>\n",
       "    <tr>\n",
       "      <th>1044</th>\n",
       "      <td>1120</td>\n",
       "      <td>Aesop's Fables</td>\n",
       "      <td>Aesop</td>\n",
       "      <td>4.05</td>\n",
       "      <td>88508</td>\n",
       "      <td>4.05</td>\n",
       "    </tr>\n",
       "    <tr>\n",
       "      <th>8316</th>\n",
       "      <td>2375</td>\n",
       "      <td>Tinker, Tailor, Soldier, Spy</td>\n",
       "      <td>John le Carré</td>\n",
       "      <td>4.04</td>\n",
       "      <td>40871</td>\n",
       "      <td>4.04</td>\n",
       "    </tr>\n",
       "    <tr>\n",
       "      <th>604</th>\n",
       "      <td>649</td>\n",
       "      <td>1Q84</td>\n",
       "      <td>Haruki Murakami</td>\n",
       "      <td>3.89</td>\n",
       "      <td>125195</td>\n",
       "      <td>3.93</td>\n",
       "    </tr>\n",
       "  </tbody>\n",
       "</table>\n",
       "</div>"
      ],
      "text/plain": [
       "      book_id                                        title          authors  \\\n",
       "795       846                           Animal Farm / 1984    George Orwell   \n",
       "759       809  Brave New World / Brave New World Revisited    Aldous Huxley   \n",
       "1044     1120                               Aesop's Fables            Aesop   \n",
       "8316     2375                 Tinker, Tailor, Soldier, Spy    John le Carré   \n",
       "604       649                                         1Q84  Haruki Murakami   \n",
       "\n",
       "      average_rating  ratings_count  new_score  \n",
       "795             4.26         116197       4.20  \n",
       "759             4.16         108124       4.13  \n",
       "1044            4.05          88508       4.05  \n",
       "8316            4.04          40871       4.04  \n",
       "604             3.89         125195       3.93  "
      ]
     },
     "execution_count": 9,
     "metadata": {},
     "output_type": "execute_result"
    }
   ],
   "source": [
    "improved_recommendation(b, '1984')"
   ]
  },
  {
   "cell_type": "markdown",
   "id": "4cbd0a0b",
   "metadata": {},
   "source": [
    "### c. Evaluation"
   ]
  },
  {
   "cell_type": "markdown",
   "id": "60c22c3b",
   "metadata": {},
   "source": [
    "This method is suitable for people who are looking for similar books, but this system can not capture tastes and provide recommendations across genres. Therefore, we will try to build a recommendation system using Collaborative filtering."
   ]
  },
  {
   "cell_type": "markdown",
   "id": "462ecba0",
   "metadata": {},
   "source": [
    "## 3. Collaborative Filtering"
   ]
  },
  {
   "cell_type": "markdown",
   "id": "b08732f5",
   "metadata": {},
   "source": [
    "This system suggests book to users based on past reading history and collaboration of other users' preferences. This recommender systems provides personalized recommendation. In this notebook, I will use [Surprise](https://surpriselib.com/) library to make the recommendation system. Surprise is a Python scikit for building and analyzing recommender systems that deal with explicit rating data. I will try to fit into 4 model and evaluate by using RMSE value. The model I use:\n",
    "1. **Normal Predictor**\n",
    "2. **KNN** (Memory-based)\n",
    "3. **SVD** (Model-based)\n",
    "4. **SVD++** (Model-based)\n",
    "\n",
    "Since the calculation is taking to much memory, I dump the calculation file in order to reuse it for comparison. I will also test all the recommendation system to user 12874. This user is one of the user that give many ratings."
   ]
  },
  {
   "cell_type": "code",
   "execution_count": 3,
   "id": "eb478ff3",
   "metadata": {},
   "outputs": [],
   "source": [
    "#to have reproducible experiments\n",
    "my_seed = 0\n",
    "random.seed(my_seed)\n",
    "np.random.seed(my_seed)"
   ]
  },
  {
   "cell_type": "code",
   "execution_count": 4,
   "id": "32f4acef",
   "metadata": {},
   "outputs": [],
   "source": [
    "#Load the full dataset\n",
    "reader = Reader(rating_scale=(1,5))\n",
    "data = Dataset.load_from_df(r, reader)"
   ]
  },
  {
   "cell_type": "code",
   "execution_count": 5,
   "id": "886c103c",
   "metadata": {},
   "outputs": [],
   "source": [
    "#shuffle the ratings for unbiased result\n",
    "all_ratings = data.raw_ratings\n",
    "random.shuffle(all_ratings)"
   ]
  },
  {
   "cell_type": "code",
   "execution_count": 6,
   "id": "58839577",
   "metadata": {},
   "outputs": [],
   "source": [
    "#split data into train and test data with the ratio 70:30\n",
    "threshold = int(0.7 * len(all_ratings))\n",
    "train_ratings = all_ratings[:threshold]\n",
    "test_ratings = all_ratings[threshold:]"
   ]
  },
  {
   "cell_type": "code",
   "execution_count": 7,
   "id": "6f40e9c0",
   "metadata": {},
   "outputs": [],
   "source": [
    "def book_read(user_id):\n",
    "    '''Take user_id and return list of book that user has read'''\n",
    "    books_list = list(b['book_id'])\n",
    "    book_read_list = list(r['book_id'][r['user_id'] == user_id])\n",
    "    return books_list, book_read_list"
   ]
  },
  {
   "cell_type": "markdown",
   "id": "7e1b929b",
   "metadata": {},
   "source": [
    "### a. Normal Predictor"
   ]
  },
  {
   "cell_type": "markdown",
   "id": "2721f332",
   "metadata": {},
   "source": [
    "Algorithm predicting a random rating based on the distribution of the training set, which is assumed to be normal."
   ]
  },
  {
   "cell_type": "code",
   "execution_count": 15,
   "id": "f29e0960",
   "metadata": {},
   "outputs": [],
   "source": [
    "# prepare train data\n",
    "data.raw_ratings = train_ratings\n",
    "\n",
    "#select algorithm\n",
    "npred = NormalPredictor()"
   ]
  },
  {
   "cell_type": "code",
   "execution_count": 16,
   "id": "080c0c3c",
   "metadata": {},
   "outputs": [
    {
     "name": "stdout",
     "output_type": "stream",
     "text": [
      "Evaluating RMSE of algorithm NormalPredictor on 5 split(s).\n",
      "\n",
      "                  Fold 1  Fold 2  Fold 3  Fold 4  Fold 5  Mean    Std     \n",
      "RMSE (testset)    1.3232  1.3233  1.3220  1.3223  1.3243  1.3230  0.0008  \n",
      "Fit time          3.17    4.75    3.14    4.78    3.14    3.80    0.79    \n",
      "Test time         12.99   10.18   12.31   10.26   8.39    10.83   1.65    \n",
      "CPU times: user 1min 32s, sys: 3.55 s, total: 1min 35s\n",
      "Wall time: 1min 56s\n"
     ]
    }
   ],
   "source": [
    "%%time\n",
    "\n",
    "#cross validation for train data\n",
    "np_result = cross_validate(npred, data, measures=['RMSE'], cv=5, verbose=True, n_jobs=2)"
   ]
  },
  {
   "cell_type": "markdown",
   "id": "885ccd9b",
   "metadata": {},
   "source": [
    "In order to make prediction on test data, we have to retrain whole train set first."
   ]
  },
  {
   "cell_type": "code",
   "execution_count": 17,
   "id": "394aa7df",
   "metadata": {},
   "outputs": [
    {
     "name": "stdout",
     "output_type": "stream",
     "text": [
      "Train RMSE:\n",
      "RMSE: 1.3233\n",
      "Test RMSE:\n",
      "RMSE: 1.3236\n",
      "CPU times: user 1min 37s, sys: 1.14 s, total: 1min 38s\n",
      "Wall time: 1min 38s\n"
     ]
    }
   ],
   "source": [
    "%%time\n",
    "#retrain whole train test\n",
    "trainset = data.build_full_trainset()\n",
    "npred.fit(trainset)\n",
    "\n",
    "# Compute RMSE on trainset (without fold)\n",
    "np_train_pred = npred.test(trainset.build_testset())\n",
    "print('Train RMSE:')\n",
    "train_rmse = accuracy.rmse(np_train_pred)\n",
    "\n",
    "#compute RMSE on testset\n",
    "testset = data.construct_testset(test_ratings)\n",
    "np_test_pred = npred.test(testset)\n",
    "print('Test RMSE:')\n",
    "test_rmse = accuracy.rmse(np_test_pred)"
   ]
  },
  {
   "cell_type": "code",
   "execution_count": 18,
   "id": "09c7c21d",
   "metadata": {},
   "outputs": [],
   "source": [
    "# uncomment this code to dump the calculation result for future use\n",
    "# dump.dump('./dump_np', np_test_pred, npred)"
   ]
  },
  {
   "cell_type": "markdown",
   "id": "dffa21bd",
   "metadata": {},
   "source": [
    "Now we can get recommendation for user 12874"
   ]
  },
  {
   "cell_type": "code",
   "execution_count": 19,
   "id": "cc24f3ae",
   "metadata": {},
   "outputs": [
    {
     "name": "stdout",
     "output_type": "stream",
     "text": [
      "CPU times: user 23.6 s, sys: 400 ms, total: 24 s\n",
      "Wall time: 24 s\n"
     ]
    },
    {
     "data": {
      "text/plain": [
       "<surprise.prediction_algorithms.random_pred.NormalPredictor at 0xffff699bda30>"
      ]
     },
     "execution_count": 19,
     "metadata": {},
     "output_type": "execute_result"
    }
   ],
   "source": [
    "%%time\n",
    "\n",
    "data.raw_ratings = all_ratings\n",
    "npred.fit(data.build_full_trainset())"
   ]
  },
  {
   "cell_type": "code",
   "execution_count": 20,
   "id": "50df405f",
   "metadata": {},
   "outputs": [],
   "source": [
    "def get_recommendation_npred(user_id, n=5):\n",
    "    '''Give n recommendation to user_id'''\n",
    "    \n",
    "    all_books, user_books =  book_read(user_id)\n",
    "    next_books = [book for book in all_books if book not in user_books]\n",
    "    \n",
    "    if n <= len(next_books):\n",
    "        ratings = []\n",
    "        for book in next_books:\n",
    "            est = npred.predict(user_id, book).est\n",
    "            ratings.append((book, est))\n",
    "        ratings = sorted(ratings, key=lambda x: x[1], reverse=True)\n",
    "        book_ids = [id for id, rate in ratings[:n]]\n",
    "        return b[b.book_id.isin(book_ids)][['book_id', 'title', 'authors', 'average_rating', 'ratings_count']]\n",
    "    else:\n",
    "        print('Please reduce your recommendation request')\n",
    "        return"
   ]
  },
  {
   "cell_type": "code",
   "execution_count": 21,
   "id": "ae0b9486",
   "metadata": {},
   "outputs": [
    {
     "data": {
      "text/html": [
       "<div>\n",
       "<style scoped>\n",
       "    .dataframe tbody tr th:only-of-type {\n",
       "        vertical-align: middle;\n",
       "    }\n",
       "\n",
       "    .dataframe tbody tr th {\n",
       "        vertical-align: top;\n",
       "    }\n",
       "\n",
       "    .dataframe thead th {\n",
       "        text-align: right;\n",
       "    }\n",
       "</style>\n",
       "<table border=\"1\" class=\"dataframe\">\n",
       "  <thead>\n",
       "    <tr style=\"text-align: right;\">\n",
       "      <th></th>\n",
       "      <th>book_id</th>\n",
       "      <th>title</th>\n",
       "      <th>authors</th>\n",
       "      <th>average_rating</th>\n",
       "      <th>ratings_count</th>\n",
       "    </tr>\n",
       "  </thead>\n",
       "  <tbody>\n",
       "    <tr>\n",
       "      <th>0</th>\n",
       "      <td>1</td>\n",
       "      <td>The Hunger Games (The Hunger Games, #1)</td>\n",
       "      <td>Suzanne Collins</td>\n",
       "      <td>4.34</td>\n",
       "      <td>4780653</td>\n",
       "    </tr>\n",
       "    <tr>\n",
       "      <th>5</th>\n",
       "      <td>6</td>\n",
       "      <td>The Fault in Our Stars</td>\n",
       "      <td>John Green</td>\n",
       "      <td>4.26</td>\n",
       "      <td>2346404</td>\n",
       "    </tr>\n",
       "    <tr>\n",
       "      <th>24</th>\n",
       "      <td>28</td>\n",
       "      <td>Lord of the Flies</td>\n",
       "      <td>William Golding</td>\n",
       "      <td>3.64</td>\n",
       "      <td>1605019</td>\n",
       "    </tr>\n",
       "    <tr>\n",
       "      <th>39</th>\n",
       "      <td>45</td>\n",
       "      <td>Life of Pi</td>\n",
       "      <td>Yann Martel</td>\n",
       "      <td>3.88</td>\n",
       "      <td>1003228</td>\n",
       "    </tr>\n",
       "    <tr>\n",
       "      <th>40</th>\n",
       "      <td>46</td>\n",
       "      <td>Water for Elephants</td>\n",
       "      <td>Sara Gruen</td>\n",
       "      <td>4.07</td>\n",
       "      <td>1068146</td>\n",
       "    </tr>\n",
       "  </tbody>\n",
       "</table>\n",
       "</div>"
      ],
      "text/plain": [
       "    book_id                                    title          authors  \\\n",
       "0         1  The Hunger Games (The Hunger Games, #1)  Suzanne Collins   \n",
       "5         6                   The Fault in Our Stars       John Green   \n",
       "24       28                        Lord of the Flies  William Golding   \n",
       "39       45                               Life of Pi      Yann Martel   \n",
       "40       46                      Water for Elephants       Sara Gruen   \n",
       "\n",
       "    average_rating  ratings_count  \n",
       "0             4.34        4780653  \n",
       "5             4.26        2346404  \n",
       "24            3.64        1605019  \n",
       "39            3.88        1003228  \n",
       "40            4.07        1068146  "
      ]
     },
     "execution_count": 21,
     "metadata": {},
     "output_type": "execute_result"
    }
   ],
   "source": [
    "get_recommendation_npred(12874, 5)"
   ]
  },
  {
   "cell_type": "markdown",
   "id": "91e7c015",
   "metadata": {},
   "source": [
    "### b. K-Nearest Neighbour"
   ]
  },
  {
   "cell_type": "markdown",
   "id": "f2335a6e",
   "metadata": {},
   "source": [
    "These are algorithms that are directly derived from a basic nearest neighbors approach."
   ]
  },
  {
   "cell_type": "code",
   "execution_count": 8,
   "id": "4dc6a192",
   "metadata": {},
   "outputs": [],
   "source": [
    "#change data to trainset\n",
    "data.raw_ratings = train_ratings \n",
    "\n",
    "#select algorithm\n",
    "sim_options = {\"name\": \"cosine\",\n",
    "               \"user_based\": False}\n",
    "knn = KNNBasic(sim_options=sim_options)"
   ]
  },
  {
   "cell_type": "code",
   "execution_count": 9,
   "id": "cd8d7322",
   "metadata": {
    "scrolled": false
   },
   "outputs": [
    {
     "name": "stdout",
     "output_type": "stream",
     "text": [
      "Computing the cosine similarity matrix...\n",
      "Done computing similarity matrix.\n",
      "Computing the cosine similarity matrix...\n",
      "Done computing similarity matrix.\n",
      "Computing the cosine similarity matrix...\n",
      "Done computing similarity matrix.\n",
      "Computing the cosine similarity matrix...\n",
      "Done computing similarity matrix.\n",
      "Computing the cosine similarity matrix...\n",
      "Done computing similarity matrix.\n",
      "Evaluating RMSE of algorithm KNNBasic on 5 split(s).\n",
      "\n",
      "                  Fold 1  Fold 2  Fold 3  Fold 4  Fold 5  Mean    Std     \n",
      "RMSE (testset)    0.8878  0.8876  0.8861  0.8872  0.8890  0.8876  0.0009  \n",
      "Fit time          21.83   23.65   23.47   23.28   23.54   23.16   0.67    \n",
      "Test time         108.82  112.19  113.72  110.50  105.97  110.24  2.69    \n",
      "CPU times: user 11min 54s, sys: 11.4 s, total: 12min 6s\n",
      "Wall time: 12min 6s\n"
     ]
    }
   ],
   "source": [
    "%%time\n",
    "\n",
    "#cross validation for train data\n",
    "knn_result = cross_validate(knn, data, measures=['RMSE'], cv=5, verbose=True, n_jobs = 1)"
   ]
  },
  {
   "cell_type": "code",
   "execution_count": 10,
   "id": "22dcb86f",
   "metadata": {},
   "outputs": [
    {
     "name": "stdout",
     "output_type": "stream",
     "text": [
      "Computing the cosine similarity matrix...\n",
      "Done computing similarity matrix.\n",
      "Train RMSE:\n",
      "RMSE: 0.8001\n",
      "Test RMSE:\n",
      "RMSE: 0.8851\n",
      "CPU times: user 13min, sys: 3.38 s, total: 13min 3s\n",
      "Wall time: 13min 3s\n"
     ]
    }
   ],
   "source": [
    "%%time\n",
    "\n",
    "#retrain whole train test\n",
    "trainset = data.build_full_trainset()\n",
    "knn.fit(trainset)\n",
    "\n",
    "# Compute RMSE on trainset (without fold)\n",
    "knn_train_pred = knn.test(trainset.build_testset())\n",
    "print('Train RMSE:')\n",
    "train_rmse = accuracy.rmse(knn_train_pred)\n",
    "\n",
    "#compute RMSE on testset\n",
    "testset = data.construct_testset(test_ratings)\n",
    "knn_test_pred = knn.test(testset)\n",
    "print('Test RMSE:')\n",
    "test_rmse = accuracy.rmse(knn_test_pred)"
   ]
  },
  {
   "cell_type": "code",
   "execution_count": 11,
   "id": "aa8c23f5",
   "metadata": {},
   "outputs": [],
   "source": [
    "# uncomment this code to dump the calculation result for future use\n",
    "# dump.dump('./dump_knn', knn_test_pred, knn)"
   ]
  },
  {
   "cell_type": "markdown",
   "id": "d905674a",
   "metadata": {},
   "source": [
    "Now we can get recommendation for user 12874"
   ]
  },
  {
   "cell_type": "code",
   "execution_count": 9,
   "id": "644a3208",
   "metadata": {},
   "outputs": [
    {
     "name": "stdout",
     "output_type": "stream",
     "text": [
      "Computing the cosine similarity matrix...\n",
      "Done computing similarity matrix.\n",
      "CPU times: user 1min 12s, sys: 2.25 s, total: 1min 14s\n",
      "Wall time: 1min 14s\n"
     ]
    },
    {
     "data": {
      "text/plain": [
       "<surprise.prediction_algorithms.knns.KNNBasic at 0xffff7d26cee0>"
      ]
     },
     "execution_count": 9,
     "metadata": {},
     "output_type": "execute_result"
    }
   ],
   "source": [
    "%%time\n",
    "\n",
    "data.raw_ratings = all_ratings\n",
    "knn.fit(data.build_full_trainset())"
   ]
  },
  {
   "cell_type": "code",
   "execution_count": 10,
   "id": "0aeebc30",
   "metadata": {},
   "outputs": [],
   "source": [
    "def get_recommendation_knn(user_id, n=5):\n",
    "    '''Give n recommendation to user_id'''\n",
    "    \n",
    "    all_books, user_books =  book_read(user_id)\n",
    "    next_books = [book for book in all_books if book not in user_books]\n",
    "    \n",
    "    if n <= len(next_books):\n",
    "        ratings = []\n",
    "        for book in next_books:\n",
    "            est = knn.predict(user_id, book).est\n",
    "            ratings.append((book, est))\n",
    "        ratings = sorted(ratings, key=lambda x: x[1], reverse=True)\n",
    "        book_ids = [id for id, rate in ratings[:n]]\n",
    "        return b[b.book_id.isin(book_ids)][['book_id', 'title', 'authors', 'average_rating', 'ratings_count']]\n",
    "    else:\n",
    "        print('Please reduce your recommendation request')\n",
    "        return"
   ]
  },
  {
   "cell_type": "code",
   "execution_count": 11,
   "id": "36870521",
   "metadata": {},
   "outputs": [
    {
     "data": {
      "text/html": [
       "<div>\n",
       "<style scoped>\n",
       "    .dataframe tbody tr th:only-of-type {\n",
       "        vertical-align: middle;\n",
       "    }\n",
       "\n",
       "    .dataframe tbody tr th {\n",
       "        vertical-align: top;\n",
       "    }\n",
       "\n",
       "    .dataframe thead th {\n",
       "        text-align: right;\n",
       "    }\n",
       "</style>\n",
       "<table border=\"1\" class=\"dataframe\">\n",
       "  <thead>\n",
       "    <tr style=\"text-align: right;\">\n",
       "      <th></th>\n",
       "      <th>book_id</th>\n",
       "      <th>title</th>\n",
       "      <th>authors</th>\n",
       "      <th>average_rating</th>\n",
       "      <th>ratings_count</th>\n",
       "    </tr>\n",
       "  </thead>\n",
       "  <tbody>\n",
       "    <tr>\n",
       "      <th>27</th>\n",
       "      <td>31</td>\n",
       "      <td>The Help</td>\n",
       "      <td>Kathryn Stockett</td>\n",
       "      <td>4.45</td>\n",
       "      <td>1531753</td>\n",
       "    </tr>\n",
       "    <tr>\n",
       "      <th>89</th>\n",
       "      <td>98</td>\n",
       "      <td>The Girl Who Played with Fire (Millennium, #2)</td>\n",
       "      <td>Stieg Larsson</td>\n",
       "      <td>4.22</td>\n",
       "      <td>563994</td>\n",
       "    </tr>\n",
       "    <tr>\n",
       "      <th>103</th>\n",
       "      <td>114</td>\n",
       "      <td>Tuesdays with Morrie</td>\n",
       "      <td>Mitch Albom</td>\n",
       "      <td>4.06</td>\n",
       "      <td>556518</td>\n",
       "    </tr>\n",
       "    <tr>\n",
       "      <th>118</th>\n",
       "      <td>132</td>\n",
       "      <td>The Five People You Meet in Heaven</td>\n",
       "      <td>Mitch Albom</td>\n",
       "      <td>3.90</td>\n",
       "      <td>449501</td>\n",
       "    </tr>\n",
       "    <tr>\n",
       "      <th>126</th>\n",
       "      <td>140</td>\n",
       "      <td>The Girl Who Kicked the Hornet's Nest (Millenn...</td>\n",
       "      <td>Stieg Larsson</td>\n",
       "      <td>4.20</td>\n",
       "      <td>443951</td>\n",
       "    </tr>\n",
       "  </tbody>\n",
       "</table>\n",
       "</div>"
      ],
      "text/plain": [
       "     book_id                                              title  \\\n",
       "27        31                                           The Help   \n",
       "89        98     The Girl Who Played with Fire (Millennium, #2)   \n",
       "103      114                               Tuesdays with Morrie   \n",
       "118      132                 The Five People You Meet in Heaven   \n",
       "126      140  The Girl Who Kicked the Hornet's Nest (Millenn...   \n",
       "\n",
       "              authors  average_rating  ratings_count  \n",
       "27   Kathryn Stockett            4.45        1531753  \n",
       "89      Stieg Larsson            4.22         563994  \n",
       "103       Mitch Albom            4.06         556518  \n",
       "118       Mitch Albom            3.90         449501  \n",
       "126     Stieg Larsson            4.20         443951  "
      ]
     },
     "execution_count": 11,
     "metadata": {},
     "output_type": "execute_result"
    }
   ],
   "source": [
    "get_recommendation_knn(12874, 5)"
   ]
  },
  {
   "cell_type": "markdown",
   "id": "cc632fb6",
   "metadata": {},
   "source": [
    "### c. Singular Value Decomposition (SVD)"
   ]
  },
  {
   "cell_type": "markdown",
   "id": "d9e8ccb8",
   "metadata": {},
   "source": [
    "The famous SVD algorithm, as popularized by Simon Funk during the Netflix Prize. SVD finds the latent factors associated with some matrix. SVD will decompose user-rating matrix into matrices that represents latent user-user features and item-item features."
   ]
  },
  {
   "cell_type": "code",
   "execution_count": 8,
   "id": "40fc89e3",
   "metadata": {},
   "outputs": [],
   "source": [
    "#change data to trainset\n",
    "data.raw_ratings = train_ratings \n",
    "\n",
    "#select algorithm\n",
    "svd = SVD(random_state=0)"
   ]
  },
  {
   "cell_type": "code",
   "execution_count": 9,
   "id": "5415982f",
   "metadata": {},
   "outputs": [
    {
     "name": "stdout",
     "output_type": "stream",
     "text": [
      "Evaluating RMSE of algorithm SVD on 5 split(s).\n",
      "\n",
      "                  Fold 1  Fold 2  Fold 3  Fold 4  Fold 5  Mean    Std     \n",
      "RMSE (testset)    0.8503  0.8500  0.8484  0.8503  0.8510  0.8500  0.0009  \n",
      "Fit time          46.56   45.32   46.15   41.94   32.70   42.53   5.18    \n",
      "Test time         9.49    12.47   9.49    10.48   9.61    10.30   1.14    \n",
      "CPU times: user 1min 32s, sys: 3.3 s, total: 1min 35s\n",
      "Wall time: 3min 14s\n"
     ]
    }
   ],
   "source": [
    "%%time\n",
    "\n",
    "#cross validation for train data\n",
    "svd_result = cross_validate(svd, data, measures=[\"RMSE\"], cv=5, verbose=True, n_jobs = 2)"
   ]
  },
  {
   "cell_type": "code",
   "execution_count": 10,
   "id": "19a767f5",
   "metadata": {},
   "outputs": [
    {
     "name": "stdout",
     "output_type": "stream",
     "text": [
      "Train RMSE:\n",
      "RMSE: 0.6441\n",
      "Test RMSE:\n",
      "RMSE: 0.8386\n",
      "CPU times: user 2min 48s, sys: 1.35 s, total: 2min 49s\n",
      "Wall time: 2min 49s\n"
     ]
    }
   ],
   "source": [
    "%%time\n",
    "\n",
    "#retrain whole train test\n",
    "trainset = data.build_full_trainset()\n",
    "svd.fit(trainset)\n",
    "\n",
    "# Compute RMSE on trainset (without fold)\n",
    "svd_train_pred = svd.test(trainset.build_testset())\n",
    "print('Train RMSE:')\n",
    "train_rmse = accuracy.rmse(svd_train_pred)\n",
    "\n",
    "#compute RMSE on testset\n",
    "testset = data.construct_testset(test_ratings)\n",
    "svd_test_pred = svd.test(testset)\n",
    "print('Test RMSE:')\n",
    "test_rmse = accuracy.rmse(svd_test_pred)"
   ]
  },
  {
   "cell_type": "code",
   "execution_count": 11,
   "id": "da9eab8d",
   "metadata": {},
   "outputs": [],
   "source": [
    "# uncomment this code to dump the calculation result for future use\n",
    "# dump.dump('./dump_svd', svd_test_pred, svd)"
   ]
  },
  {
   "cell_type": "markdown",
   "id": "9fd72109",
   "metadata": {},
   "source": [
    "Now we can get recommendation for user 12874"
   ]
  },
  {
   "cell_type": "code",
   "execution_count": 12,
   "id": "637406f3",
   "metadata": {},
   "outputs": [
    {
     "name": "stdout",
     "output_type": "stream",
     "text": [
      "CPU times: user 1min 56s, sys: 379 ms, total: 1min 56s\n",
      "Wall time: 1min 56s\n"
     ]
    },
    {
     "data": {
      "text/plain": [
       "<surprise.prediction_algorithms.matrix_factorization.SVD at 0xffffb5631250>"
      ]
     },
     "execution_count": 12,
     "metadata": {},
     "output_type": "execute_result"
    }
   ],
   "source": [
    "%%time\n",
    "\n",
    "data.raw_ratings = all_ratings\n",
    "svd.fit(data.build_full_trainset())"
   ]
  },
  {
   "cell_type": "code",
   "execution_count": 13,
   "id": "66fcc2fe",
   "metadata": {},
   "outputs": [],
   "source": [
    "def get_recommendation_svd(user_id, n=5):\n",
    "    '''Give n recommendation to user_id'''\n",
    "    \n",
    "    all_books, user_books =  book_read(user_id)\n",
    "    next_books = [book for book in all_books if book not in user_books]\n",
    "    \n",
    "    if n <= len(next_books):\n",
    "        ratings = []\n",
    "        for book in next_books:\n",
    "            est = svd.predict(user_id, book).est\n",
    "            ratings.append((book, est))\n",
    "        ratings = sorted(ratings, key=lambda x: x[1], reverse=True)\n",
    "        book_ids = [id for id, rate in ratings[:n]]\n",
    "        return b[b.book_id.isin(book_ids)][['book_id', 'title', 'authors', 'average_rating', 'ratings_count']]\n",
    "    else:\n",
    "        print('Please reduce your recommendation request')\n",
    "        return"
   ]
  },
  {
   "cell_type": "code",
   "execution_count": 14,
   "id": "2a9c37d9",
   "metadata": {},
   "outputs": [
    {
     "data": {
      "text/html": [
       "<div>\n",
       "<style scoped>\n",
       "    .dataframe tbody tr th:only-of-type {\n",
       "        vertical-align: middle;\n",
       "    }\n",
       "\n",
       "    .dataframe tbody tr th {\n",
       "        vertical-align: top;\n",
       "    }\n",
       "\n",
       "    .dataframe thead th {\n",
       "        text-align: right;\n",
       "    }\n",
       "</style>\n",
       "<table border=\"1\" class=\"dataframe\">\n",
       "  <thead>\n",
       "    <tr style=\"text-align: right;\">\n",
       "      <th></th>\n",
       "      <th>book_id</th>\n",
       "      <th>title</th>\n",
       "      <th>authors</th>\n",
       "      <th>average_rating</th>\n",
       "      <th>ratings_count</th>\n",
       "    </tr>\n",
       "  </thead>\n",
       "  <tbody>\n",
       "    <tr>\n",
       "      <th>27</th>\n",
       "      <td>31</td>\n",
       "      <td>The Help</td>\n",
       "      <td>Kathryn Stockett</td>\n",
       "      <td>4.45</td>\n",
       "      <td>1531753</td>\n",
       "    </tr>\n",
       "    <tr>\n",
       "      <th>194</th>\n",
       "      <td>215</td>\n",
       "      <td>Ready Player One</td>\n",
       "      <td>Ernest Cline</td>\n",
       "      <td>4.31</td>\n",
       "      <td>349423</td>\n",
       "    </tr>\n",
       "    <tr>\n",
       "      <th>226</th>\n",
       "      <td>250</td>\n",
       "      <td>Wonder</td>\n",
       "      <td>R.J. Palacio</td>\n",
       "      <td>4.43</td>\n",
       "      <td>228538</td>\n",
       "    </tr>\n",
       "    <tr>\n",
       "      <th>390</th>\n",
       "      <td>425</td>\n",
       "      <td>Go Ask Alice</td>\n",
       "      <td>Beatrice Sparks</td>\n",
       "      <td>3.77</td>\n",
       "      <td>196677</td>\n",
       "    </tr>\n",
       "    <tr>\n",
       "      <th>1698</th>\n",
       "      <td>1808</td>\n",
       "      <td>Morning Star (Red Rising, #3)</td>\n",
       "      <td>Pierce Brown</td>\n",
       "      <td>4.50</td>\n",
       "      <td>47736</td>\n",
       "    </tr>\n",
       "  </tbody>\n",
       "</table>\n",
       "</div>"
      ],
      "text/plain": [
       "      book_id                          title           authors  \\\n",
       "27         31                       The Help  Kathryn Stockett   \n",
       "194       215               Ready Player One      Ernest Cline   \n",
       "226       250                         Wonder      R.J. Palacio   \n",
       "390       425                   Go Ask Alice   Beatrice Sparks   \n",
       "1698     1808  Morning Star (Red Rising, #3)      Pierce Brown   \n",
       "\n",
       "      average_rating  ratings_count  \n",
       "27              4.45        1531753  \n",
       "194             4.31         349423  \n",
       "226             4.43         228538  \n",
       "390             3.77         196677  \n",
       "1698            4.50          47736  "
      ]
     },
     "execution_count": 14,
     "metadata": {},
     "output_type": "execute_result"
    }
   ],
   "source": [
    "get_recommendation_svd(12874, 5)"
   ]
  },
  {
   "cell_type": "markdown",
   "id": "7fca6380",
   "metadata": {},
   "source": [
    "### d. SVD++"
   ]
  },
  {
   "cell_type": "markdown",
   "id": "c78210a4",
   "metadata": {},
   "source": [
    "The singular value decomposition (SVD)++ algorithm is employed as an optimized SVD algorithm to enhance the accuracy of prediction by generating implicit feedback."
   ]
  },
  {
   "cell_type": "code",
   "execution_count": 8,
   "id": "196a79d6",
   "metadata": {},
   "outputs": [],
   "source": [
    "#change data to trainset\n",
    "data.raw_ratings = train_ratings \n",
    "\n",
    "#select algorithm\n",
    "svdpp = SVDpp(random_state=0)"
   ]
  },
  {
   "cell_type": "code",
   "execution_count": 9,
   "id": "0021df42",
   "metadata": {},
   "outputs": [
    {
     "name": "stdout",
     "output_type": "stream",
     "text": [
      "Evaluating RMSE of algorithm SVDpp on 5 split(s).\n",
      "\n",
      "                  Fold 1  Fold 2  Fold 3  Fold 4  Fold 5  Mean    Std     \n",
      "RMSE (testset)    0.8325  0.8315  0.8298  0.8313  0.8326  0.8315  0.0010  \n",
      "Fit time          452.81  450.51  448.53  446.92  438.23  447.40  4.99    \n",
      "Test time         66.38   66.49   66.61   66.60   66.31   66.48   0.12    \n",
      "CPU times: user 1min 33s, sys: 3.76 s, total: 1min 36s\n",
      "Wall time: 26min 19s\n"
     ]
    }
   ],
   "source": [
    "%%time\n",
    "\n",
    "svdpp_result = cross_validate(svdpp, data, measures=[\"RMSE\"], cv=5, verbose=True, n_jobs = 2)"
   ]
  },
  {
   "cell_type": "code",
   "execution_count": 10,
   "id": "5d7ef9ff",
   "metadata": {},
   "outputs": [
    {
     "name": "stdout",
     "output_type": "stream",
     "text": [
      "Train RMSE:\n",
      "RMSE: 0.7085\n",
      "Test RMSE:\n",
      "RMSE: 0.8238\n",
      "CPU times: user 22min 28s, sys: 4.05 s, total: 22min 32s\n",
      "Wall time: 22min 29s\n"
     ]
    }
   ],
   "source": [
    "%%time\n",
    "\n",
    "#retrain whole train test\n",
    "trainset = data.build_full_trainset()\n",
    "svdpp.fit(trainset)\n",
    "\n",
    "# Compute RMSE on trainset (without fold)\n",
    "svdpp_train_pred = svdpp.test(trainset.build_testset())\n",
    "print('Train RMSE:')\n",
    "train_rmse = accuracy.rmse(svdpp_train_pred)\n",
    "\n",
    "#compute RMSE on testset\n",
    "testset = data.construct_testset(test_ratings)\n",
    "svdpp_test_pred = svdpp.test(testset)\n",
    "print('Test RMSE:')\n",
    "test_rmse = accuracy.rmse(svdpp_test_pred)"
   ]
  },
  {
   "cell_type": "code",
   "execution_count": 11,
   "id": "e08b7171",
   "metadata": {},
   "outputs": [],
   "source": [
    "# uncomment this code to dump the calculation result for future use\n",
    "dump.dump('./dump_svdpp', svdpp_test_pred, svdpp)"
   ]
  },
  {
   "cell_type": "markdown",
   "id": "1043cdc3",
   "metadata": {},
   "source": [
    "Now we can get recommendation for user 12874"
   ]
  },
  {
   "cell_type": "code",
   "execution_count": 12,
   "id": "5b15c807",
   "metadata": {},
   "outputs": [
    {
     "name": "stdout",
     "output_type": "stream",
     "text": [
      "CPU times: user 25min 17s, sys: 344 ms, total: 25min 18s\n",
      "Wall time: 25min 18s\n"
     ]
    },
    {
     "data": {
      "text/plain": [
       "<surprise.prediction_algorithms.matrix_factorization.SVDpp at 0xffff77844820>"
      ]
     },
     "execution_count": 12,
     "metadata": {},
     "output_type": "execute_result"
    }
   ],
   "source": [
    "%%time\n",
    "\n",
    "data.raw_ratings = all_ratings\n",
    "svdpp.fit(data.build_full_trainset())"
   ]
  },
  {
   "cell_type": "code",
   "execution_count": 13,
   "id": "92def93f",
   "metadata": {},
   "outputs": [],
   "source": [
    "def get_recommendation_svdpp(user_id, n=5):\n",
    "    '''Give n recommendation to user_id'''\n",
    "    \n",
    "    all_books, user_books =  book_read(user_id)\n",
    "    next_books = [book for book in all_books if book not in user_books]\n",
    "    \n",
    "    if n <= len(next_books):\n",
    "        ratings = []\n",
    "        for book in next_books:\n",
    "            est = svdpp.predict(user_id, book).est\n",
    "            ratings.append((book, est))\n",
    "        ratings = sorted(ratings, key=lambda x: x[1], reverse=True)\n",
    "        book_ids = [id for id, rate in ratings[:n]]\n",
    "        return b[b.book_id.isin(book_ids)][['book_id', 'title', 'authors', 'average_rating', 'ratings_count']]\n",
    "    else:\n",
    "        print('Please reduce your recommendation request')\n",
    "        return"
   ]
  },
  {
   "cell_type": "code",
   "execution_count": 14,
   "id": "1b41a9c3",
   "metadata": {},
   "outputs": [
    {
     "data": {
      "text/html": [
       "<div>\n",
       "<style scoped>\n",
       "    .dataframe tbody tr th:only-of-type {\n",
       "        vertical-align: middle;\n",
       "    }\n",
       "\n",
       "    .dataframe tbody tr th {\n",
       "        vertical-align: top;\n",
       "    }\n",
       "\n",
       "    .dataframe thead th {\n",
       "        text-align: right;\n",
       "    }\n",
       "</style>\n",
       "<table border=\"1\" class=\"dataframe\">\n",
       "  <thead>\n",
       "    <tr style=\"text-align: right;\">\n",
       "      <th></th>\n",
       "      <th>book_id</th>\n",
       "      <th>title</th>\n",
       "      <th>authors</th>\n",
       "      <th>average_rating</th>\n",
       "      <th>ratings_count</th>\n",
       "    </tr>\n",
       "  </thead>\n",
       "  <tbody>\n",
       "    <tr>\n",
       "      <th>27</th>\n",
       "      <td>31</td>\n",
       "      <td>The Help</td>\n",
       "      <td>Kathryn Stockett</td>\n",
       "      <td>4.45</td>\n",
       "      <td>1531753</td>\n",
       "    </tr>\n",
       "    <tr>\n",
       "      <th>597</th>\n",
       "      <td>642</td>\n",
       "      <td>World Without End (The Kingsbridge Series, #2)</td>\n",
       "      <td>Ken Follett</td>\n",
       "      <td>4.23</td>\n",
       "      <td>128715</td>\n",
       "    </tr>\n",
       "    <tr>\n",
       "      <th>1243</th>\n",
       "      <td>1328</td>\n",
       "      <td>I Am Pilgrim (Pilgrim, #1)</td>\n",
       "      <td>Terry Hayes</td>\n",
       "      <td>4.23</td>\n",
       "      <td>49740</td>\n",
       "    </tr>\n",
       "    <tr>\n",
       "      <th>4310</th>\n",
       "      <td>4778</td>\n",
       "      <td>The Holy Bible: English Standard Version</td>\n",
       "      <td>Anonymous</td>\n",
       "      <td>4.66</td>\n",
       "      <td>17863</td>\n",
       "    </tr>\n",
       "    <tr>\n",
       "      <th>5302</th>\n",
       "      <td>5990</td>\n",
       "      <td>الطنطورية</td>\n",
       "      <td>Radwa Ashour</td>\n",
       "      <td>4.32</td>\n",
       "      <td>13931</td>\n",
       "    </tr>\n",
       "  </tbody>\n",
       "</table>\n",
       "</div>"
      ],
      "text/plain": [
       "      book_id                                           title  \\\n",
       "27         31                                        The Help   \n",
       "597       642  World Without End (The Kingsbridge Series, #2)   \n",
       "1243     1328                      I Am Pilgrim (Pilgrim, #1)   \n",
       "4310     4778        The Holy Bible: English Standard Version   \n",
       "5302     5990                                       الطنطورية   \n",
       "\n",
       "               authors  average_rating  ratings_count  \n",
       "27    Kathryn Stockett            4.45        1531753  \n",
       "597        Ken Follett            4.23         128715  \n",
       "1243       Terry Hayes            4.23          49740  \n",
       "4310         Anonymous            4.66          17863  \n",
       "5302      Radwa Ashour            4.32          13931  "
      ]
     },
     "execution_count": 14,
     "metadata": {},
     "output_type": "execute_result"
    }
   ],
   "source": [
    "get_recommendation_svdpp(12874, 5)"
   ]
  },
  {
   "cell_type": "markdown",
   "id": "8b8fe65f",
   "metadata": {},
   "source": [
    "### e. Evaluation"
   ]
  },
  {
   "cell_type": "code",
   "execution_count": 3,
   "id": "51838809",
   "metadata": {},
   "outputs": [],
   "source": [
    "#uncomment this code to load the dump file\n",
    "np_test_pred, npred = dump.load('./dump_np')\n",
    "knn_test_pred, knn = dump.load('./dump_knn')\n",
    "svd_test_pred, svd = dump.load('./dump_svd')\n",
    "svdpp_test_pred, svdpp = dump.load('./dump_svdpp')"
   ]
  },
  {
   "cell_type": "code",
   "execution_count": 4,
   "id": "bc32757e",
   "metadata": {},
   "outputs": [],
   "source": [
    "#making the calculation reult into dataframe\n",
    "df_np = pd.DataFrame(np_test_pred, columns=['uid', 'iid', 'rui', 'est', 'details'])\n",
    "df_knn = pd.DataFrame(knn_test_pred, columns=['uid', 'iid', 'rui', 'est', 'details'])\n",
    "df_svd = pd.DataFrame(svd_test_pred, columns=['uid', 'iid', 'rui', 'est', 'details'])  \n",
    "df_svdpp = pd.DataFrame(svdpp_test_pred, columns=['uid', 'iid', 'rui', 'est', 'details'])"
   ]
  },
  {
   "cell_type": "markdown",
   "id": "9e184cb0",
   "metadata": {},
   "source": [
    "#### Comparing RMSE, Duration and Memory Use"
   ]
  },
  {
   "cell_type": "code",
   "execution_count": 5,
   "id": "2ed7b339",
   "metadata": {},
   "outputs": [
    {
     "data": {
      "text/html": [
       "<div>\n",
       "<style scoped>\n",
       "    .dataframe tbody tr th:only-of-type {\n",
       "        vertical-align: middle;\n",
       "    }\n",
       "\n",
       "    .dataframe tbody tr th {\n",
       "        vertical-align: top;\n",
       "    }\n",
       "\n",
       "    .dataframe thead th {\n",
       "        text-align: right;\n",
       "    }\n",
       "</style>\n",
       "<table border=\"1\" class=\"dataframe\">\n",
       "  <thead>\n",
       "    <tr style=\"text-align: right;\">\n",
       "      <th></th>\n",
       "      <th>Model</th>\n",
       "      <th>RMSE</th>\n",
       "      <th>Duration</th>\n",
       "      <th>Memory Use</th>\n",
       "    </tr>\n",
       "  </thead>\n",
       "  <tbody>\n",
       "    <tr>\n",
       "      <th>0</th>\n",
       "      <td>NP</td>\n",
       "      <td>1.32</td>\n",
       "      <td>3m 40s</td>\n",
       "      <td>8.70</td>\n",
       "    </tr>\n",
       "    <tr>\n",
       "      <th>1</th>\n",
       "      <td>KNN</td>\n",
       "      <td>0.89</td>\n",
       "      <td>24m 45s</td>\n",
       "      <td>16.00</td>\n",
       "    </tr>\n",
       "    <tr>\n",
       "      <th>2</th>\n",
       "      <td>SVD</td>\n",
       "      <td>0.84</td>\n",
       "      <td>7m 5s</td>\n",
       "      <td>8.80</td>\n",
       "    </tr>\n",
       "    <tr>\n",
       "      <th>3</th>\n",
       "      <td>SVD++</td>\n",
       "      <td>0.82</td>\n",
       "      <td>1h 9m 50s</td>\n",
       "      <td>8.40</td>\n",
       "    </tr>\n",
       "  </tbody>\n",
       "</table>\n",
       "</div>"
      ],
      "text/plain": [
       "   Model  RMSE   Duration  Memory Use\n",
       "0     NP  1.32     3m 40s        8.70\n",
       "1    KNN  0.89    24m 45s       16.00\n",
       "2    SVD  0.84      7m 5s        8.80\n",
       "3  SVD++  0.82  1h 9m 50s        8.40"
      ]
     },
     "execution_count": 5,
     "metadata": {},
     "output_type": "execute_result"
    }
   ],
   "source": [
    "data = [['NP', 1.3236, '3m 40s', 8.7], ['KNN', 0.8851, '24m 45s', 16], ['SVD', 0.8386, '7m 5s', 8.8],  ['SVD++', 0.8238, '1h 9m 50s', 8.4]]\n",
    "df = pd.DataFrame(data, columns=['Model', 'RMSE', 'Duration', 'Memory Use'])\n",
    "df"
   ]
  },
  {
   "cell_type": "markdown",
   "id": "1905e180",
   "metadata": {},
   "source": [
    "By comparing the metric evaluation of four model, we get the lowest RMSE in SVD++. However, although SVD++ shows lower RMSE results, it takes a very long time to do the calculations. If we look at the rating predictions, the distribution of ratings on SVD and SVD++ is not much different. \n",
    "\n",
    "**Why KNN took longer time to run?** <br>\n",
    "The singular value decomposition (SVD)++ algorithm enhances the accuracy of prediction by generating implicit feedback so it takes considerably longer time to train, compared to the SVD.\n",
    "\n",
    "**Why KNN requires lot of memory?** <br>\n",
    "K-nearest neighbor (KNN) needs a lot of memory, since the recommendation systems rely on storing a sizable dataset of items and their properties in order to create suggestions. When a new item is added or a recommendation is needed, the KNN method must scan the entire dataset to discover the closest neighbors, which can be computationally intensive and demand a lot of memory."
   ]
  },
  {
   "cell_type": "markdown",
   "id": "de0c29c5",
   "metadata": {},
   "source": [
    "#### Comparing Prediction Distribution"
   ]
  },
  {
   "cell_type": "code",
   "execution_count": 6,
   "id": "6e7c5f28",
   "metadata": {},
   "outputs": [
    {
     "data": {
      "image/png": "[encoded data removed]",
      "text/plain": [
       "<Figure size 1600x500 with 4 Axes>"
      ]
     },
     "metadata": {},
     "output_type": "display_data"
    }
   ],
   "source": [
    "# Count the number of predictions for each rating value\n",
    "figure, (ax1, ax2, ax3, ax4) = plt.subplots(1, 4,  figsize=(16, 5), sharey=True, constrained_layout=True)\n",
    "df_np.est.plot(kind='hist', title='NP', ax=ax1, color='#45818E')\n",
    "df_knn.est.plot(kind='hist', title='KNN', ax=ax2, color='#9D5353')\n",
    "df_svd.est.plot(kind='hist', title='SVD', ax=ax3, color='#92BA92')\n",
    "df_svdpp.est.plot(kind='hist', title='SVDpp', ax=ax4, color='#F3936B')\n",
    "current_values = plt.gca().get_yticks() / 1000\n",
    "plt.gca().set_yticklabels(['{:,.0f}'.format(x) + 'K' for x in current_values])\n",
    "plt.suptitle('Prediction Distribution in Each Model', weight='bold', fontsize=20)\n",
    "plt.show()"
   ]
  },
  {
   "cell_type": "code",
   "execution_count": 7,
   "id": "ce25b0c7",
   "metadata": {
    "scrolled": false
   },
   "outputs": [
    {
     "data": {
      "image/png": "[encoded data removed]",
      "text/plain": [
       "<Figure size 800x600 with 1 Axes>"
      ]
     },
     "metadata": {},
     "output_type": "display_data"
    }
   ],
   "source": [
    "fig, ax = plt.subplots(figsize=(8,6))\n",
    "sns.kdeplot(df_np['est'], shade=False, color='#45818E', label = 'NP', ax=ax)\n",
    "sns.kdeplot(df_knn['est'], shade=False, color='#9D5353', label = 'KNN', ax=ax)\n",
    "sns.kdeplot(df_svd['est'], shade=False, color='#92BA92', label = 'SVD', ax=ax)\n",
    "sns.kdeplot(df_svdpp['est'], shade=False, color='#F3936B', label = 'SVDpp', ax=ax)\n",
    "ax.legend()\n",
    "plt.xlabel('Rating prediction')\n",
    "plt.ylabel('Density')\n",
    "plt.title('Comparison of rating estimation in each model', weight='bold', fontsize=14)\n",
    "plt.show()"
   ]
  },
  {
   "cell_type": "markdown",
   "id": "2413fc76",
   "metadata": {},
   "source": [
    "As we can see, Normal Predictor model predicts higher ratings more often, meanwhile KNN predictions are concentrated around the mean. For SVD and SVD++, the ratings are more fairly distributed."
   ]
  },
  {
   "cell_type": "markdown",
   "id": "7dc8d182",
   "metadata": {},
   "source": [
    "## Hyperparameter Tuning on Best Model"
   ]
  },
  {
   "cell_type": "markdown",
   "id": "cab8858c",
   "metadata": {},
   "source": [
    "Based on our comparison, we choose SVD as the best model. SVD was chosen because it has a relatively low RMSE value, relatively short processing time and the memory used is not too large.<br>\n",
    "To tune the hyperparameter, we can utilize grid search, an optimization technique that explores all possibilities of the provided hyperparameter options. The parameters that will be tuned are:\n",
    "- n_epochs: the number of iterations of the SGD procedure\n",
    "- lr_all: the learning rate for all parameters\n",
    "- reg_all: the regularization term for all parameters"
   ]
  },
  {
   "cell_type": "code",
   "execution_count": 8,
   "id": "485a14eb",
   "metadata": {},
   "outputs": [],
   "source": [
    "# prepare train data\n",
    "data.raw_ratings = train_ratings"
   ]
  },
  {
   "cell_type": "code",
   "execution_count": 9,
   "id": "3d0ab8eb",
   "metadata": {},
   "outputs": [
    {
     "name": "stdout",
     "output_type": "stream",
     "text": [
      "0.8384557922653402\n",
      "{'n_epochs': 30, 'lr_all': 0.005, 'reg_all': 0.04}\n",
      "CPU times: user 4min 4s, sys: 10.7 s, total: 4min 15s\n",
      "Wall time: 17min 33s\n"
     ]
    }
   ],
   "source": [
    "%%time\n",
    "\n",
    "grid = {'n_epochs': [20, 30], \n",
    "        'lr_all': [.005, .001], \n",
    "        'reg_all': [0.02, 0.04]} \n",
    "\n",
    "gs = GridSearchCV(SVD, grid, measures=['RMSE'], cv=5, n_jobs=2)\n",
    "gs.fit(data)\n",
    "\n",
    "print(gs.best_score['rmse'])\n",
    "print(gs.best_params['rmse'])"
   ]
  },
  {
   "cell_type": "code",
   "execution_count": 10,
   "id": "1911c2e6",
   "metadata": {},
   "outputs": [],
   "source": [
    "#select best algorithm\n",
    "svdtuned = gs.best_estimator['rmse']"
   ]
  },
  {
   "cell_type": "code",
   "execution_count": 11,
   "id": "79621499",
   "metadata": {},
   "outputs": [
    {
     "name": "stdout",
     "output_type": "stream",
     "text": [
      "Train RMSE:\n",
      "RMSE: 0.6577\n",
      "Test RMSE:\n",
      "RMSE: 0.8270\n",
      "CPU times: user 3min 21s, sys: 1.61 s, total: 3min 23s\n",
      "Wall time: 3min 23s\n"
     ]
    }
   ],
   "source": [
    "%%time\n",
    "\n",
    "#retrain whole train test (without fold)\n",
    "trainset = data.build_full_trainset()\n",
    "svdtuned.fit(trainset)\n",
    "\n",
    "# Compute RMSE on trainset (without fold)\n",
    "svdtuned_train_pred = svdtuned.test(trainset.build_testset())\n",
    "print('Train RMSE:')\n",
    "train_rmse = accuracy.rmse(svdtuned_train_pred)\n",
    "\n",
    "#compute RMSE on testset\n",
    "testset = data.construct_testset(test_ratings)\n",
    "svdtuned_test_pred = svdtuned.test(testset)\n",
    "print('Test RMSE:')\n",
    "test_rmse = accuracy.rmse(svdtuned_test_pred)"
   ]
  },
  {
   "cell_type": "code",
   "execution_count": 12,
   "id": "780f3770",
   "metadata": {},
   "outputs": [
    {
     "name": "stdout",
     "output_type": "stream",
     "text": [
      "CPU times: user 2min 50s, sys: 254 ms, total: 2min 50s\n",
      "Wall time: 2min 50s\n"
     ]
    },
    {
     "data": {
      "text/plain": [
       "<surprise.prediction_algorithms.matrix_factorization.SVD at 0xfffe8d46e520>"
      ]
     },
     "execution_count": 12,
     "metadata": {},
     "output_type": "execute_result"
    }
   ],
   "source": [
    "%%time\n",
    "\n",
    "data.raw_ratings = all_ratings\n",
    "svdtuned.fit(data.build_full_trainset())"
   ]
  },
  {
   "cell_type": "code",
   "execution_count": 13,
   "id": "8c533079",
   "metadata": {},
   "outputs": [],
   "source": [
    "def get_recommendation(user_id, n=5):\n",
    "    '''Give n recommendation to user_id'''\n",
    "    \n",
    "    all_books, user_books =  book_read(user_id)\n",
    "    next_books = [book for book in all_books if book not in user_books]\n",
    "    \n",
    "    if n <= len(next_books):\n",
    "        ratings = []\n",
    "        for book in next_books:\n",
    "            est = svdtuned.predict(user_id, book).est\n",
    "            ratings.append((book, est))\n",
    "        ratings = sorted(ratings, key=lambda x: x[1], reverse=True)\n",
    "        book_ids = [id for id, rate in ratings[:n]]\n",
    "        return b[b.book_id.isin(book_ids)][['book_id', 'title', 'authors', 'average_rating', 'ratings_count']]\n",
    "    else:\n",
    "        print('Please reduce your recommendation request')\n",
    "        return"
   ]
  },
  {
   "cell_type": "code",
   "execution_count": 14,
   "id": "b5bee8ca",
   "metadata": {},
   "outputs": [
    {
     "data": {
      "text/html": [
       "<div>\n",
       "<style scoped>\n",
       "    .dataframe tbody tr th:only-of-type {\n",
       "        vertical-align: middle;\n",
       "    }\n",
       "\n",
       "    .dataframe tbody tr th {\n",
       "        vertical-align: top;\n",
       "    }\n",
       "\n",
       "    .dataframe thead th {\n",
       "        text-align: right;\n",
       "    }\n",
       "</style>\n",
       "<table border=\"1\" class=\"dataframe\">\n",
       "  <thead>\n",
       "    <tr style=\"text-align: right;\">\n",
       "      <th></th>\n",
       "      <th>book_id</th>\n",
       "      <th>title</th>\n",
       "      <th>authors</th>\n",
       "      <th>average_rating</th>\n",
       "      <th>ratings_count</th>\n",
       "    </tr>\n",
       "  </thead>\n",
       "  <tbody>\n",
       "    <tr>\n",
       "      <th>27</th>\n",
       "      <td>31</td>\n",
       "      <td>The Help</td>\n",
       "      <td>Kathryn Stockett</td>\n",
       "      <td>4.45</td>\n",
       "      <td>1531753</td>\n",
       "    </tr>\n",
       "    <tr>\n",
       "      <th>241</th>\n",
       "      <td>267</td>\n",
       "      <td>The Nightingale</td>\n",
       "      <td>Kristin Hannah</td>\n",
       "      <td>4.54</td>\n",
       "      <td>253606</td>\n",
       "    </tr>\n",
       "    <tr>\n",
       "      <th>3457</th>\n",
       "      <td>3753</td>\n",
       "      <td>Harry Potter Collection (Harry Potter, #1-6)</td>\n",
       "      <td>J.K. Rowling</td>\n",
       "      <td>4.73</td>\n",
       "      <td>24618</td>\n",
       "    </tr>\n",
       "    <tr>\n",
       "      <th>6024</th>\n",
       "      <td>6920</td>\n",
       "      <td>The Indispensable Calvin and Hobbes</td>\n",
       "      <td>Bill Watterson</td>\n",
       "      <td>4.73</td>\n",
       "      <td>14597</td>\n",
       "    </tr>\n",
       "    <tr>\n",
       "      <th>7466</th>\n",
       "      <td>8946</td>\n",
       "      <td>The Divan</td>\n",
       "      <td>Hafez</td>\n",
       "      <td>4.63</td>\n",
       "      <td>2773</td>\n",
       "    </tr>\n",
       "  </tbody>\n",
       "</table>\n",
       "</div>"
      ],
      "text/plain": [
       "      book_id                                         title           authors  \\\n",
       "27         31                                      The Help  Kathryn Stockett   \n",
       "241       267                               The Nightingale    Kristin Hannah   \n",
       "3457     3753  Harry Potter Collection (Harry Potter, #1-6)      J.K. Rowling   \n",
       "6024     6920           The Indispensable Calvin and Hobbes    Bill Watterson   \n",
       "7466     8946                                     The Divan             Hafez   \n",
       "\n",
       "      average_rating  ratings_count  \n",
       "27              4.45        1531753  \n",
       "241             4.54         253606  \n",
       "3457            4.73          24618  \n",
       "6024            4.73          14597  \n",
       "7466            4.63           2773  "
      ]
     },
     "execution_count": 14,
     "metadata": {},
     "output_type": "execute_result"
    }
   ],
   "source": [
    "get_recommendation(12874, 5)"
   ]
  },
  {
   "cell_type": "code",
   "execution_count": 15,
   "id": "389f0fb9",
   "metadata": {},
   "outputs": [],
   "source": [
    "# uncomment this code to dump the calculation result for future use\n",
    "dump.dump('./dump_tuning', svdtuned_test_pred, svdtuned)"
   ]
  },
  {
   "cell_type": "code",
   "execution_count": 3,
   "id": "423286cb",
   "metadata": {},
   "outputs": [],
   "source": [
    "# uncomment this code to load the dump file\n",
    "svd_test_pred, svd = dump.load('./dump_svd')\n",
    "svdtuned_test_pred, svdtuned = dump.load('./dump_tuning')"
   ]
  },
  {
   "cell_type": "code",
   "execution_count": 4,
   "id": "57191450",
   "metadata": {},
   "outputs": [],
   "source": [
    "df_svd = pd.DataFrame(svd_test_pred, columns=['uid', 'iid', 'rui', 'est', 'details'])\n",
    "df_svdtuned = pd.DataFrame(svdtuned_test_pred, columns=['uid', 'iid', 'rui', 'est', 'details'])"
   ]
  },
  {
   "cell_type": "code",
   "execution_count": 5,
   "id": "748c4286",
   "metadata": {},
   "outputs": [
    {
     "data": {
      "image/png": "[encoded data removed]",
      "text/plain": [
       "<Figure size 800x600 with 1 Axes>"
      ]
     },
     "metadata": {},
     "output_type": "display_data"
    }
   ],
   "source": [
    "fig, ax = plt.subplots(figsize=(8,6))\n",
    "sns.kdeplot(df_svd['est'], shade=False, color='#92BA92', label = 'SVD', ax=ax)\n",
    "sns.kdeplot(df_svdtuned['est'], shade=False, color='#DEBA9D', label = 'Tuned SVD', ax=ax)\n",
    "ax.legend()\n",
    "plt.xlabel('Rating prediction')\n",
    "plt.ylabel('Density')\n",
    "plt.title('Comparison of rating estimation in SVD and Tuned SVD')\n",
    "plt.show()"
   ]
  },
  {
   "cell_type": "markdown",
   "id": "3fe3ab95",
   "metadata": {},
   "source": [
    "Rating prediction around the mean is higher in tuned SVD. This is probably as a result of higher `reg_all`, so the parameter are regularized."
   ]
  },
  {
   "cell_type": "markdown",
   "id": "a60eb841",
   "metadata": {},
   "source": [
    "## Conclusion"
   ]
  },
  {
   "cell_type": "markdown",
   "id": "409b2516",
   "metadata": {},
   "source": [
    "1. **Simple Recommender** <br>\n",
    "Like the name suggests, this model offers the simple recommendation.  This model does not provide user-spesific recommendations but suitable for new user (have no cold-start problem). Cold problem refers to a problem when the system is unable to draw any conclusions about users or objects because it has not yet acquired enough data.\n",
    "\n",
    "\n",
    "2. **Content based filtering** <br>\n",
    "Recommendations based on title, authors, description, and genre using cosine similarity have been made. To provide a balance of book recommendations, an additional popularity-rating filter has been added. This method is suitable for people who are looking for books that are similar to their favorite books, but this system cannot capture tastes and provide recommendations across genres.\n",
    "By applying a content based model, instead of having to rate 30 books to start the recommendation engine, users can just pick one book they liked for Goodreads to provide good recommendations for new users, making the process easier.\n",
    "\n",
    "\n",
    "3. **Collaborative Filtering**<br>\n",
    "By using Surprise library, I tried building a recommender with 4 algorithms: Normal Predictor, KNN, SVD, and SVD++. SVD is suitable for making a recommendation system in Goodreads because of its lower RMSE, faster calculation and lower memory requirement unlike KNN. I think the RMSE value of 0.8 is still quite reasonable for a Goodreads rating.<br>\n",
    "Notice that Collaborative filtering doesn’t require features about the items or users to be known. We can only use rating data. However, this recommendation system need prior data and suffers cold start problem, for example when new user or new book added to the list. "
   ]
  }
 ],
 "metadata": {
  "kernelspec": {
   "display_name": "Python 3 (ipykernel)",
   "language": "python",
   "name": "python3"
  },
  "language_info": {
   "codemirror_mode": {
    "name": "ipython",
    "version": 3
   },
   "file_extension": ".py",
   "mimetype": "text/x-python",
   "name": "python",
   "nbconvert_exporter": "python",
   "pygments_lexer": "ipython3",
   "version": "3.9.12"
  }
 },
 "nbformat": 4,
 "nbformat_minor": 5
}
