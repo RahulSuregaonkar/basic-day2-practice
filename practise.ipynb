{
 "cells": [
  {
   "cell_type": "code",
   "execution_count": 1,
   "metadata": {},
   "outputs": [
    {
     "name": "stdout",
     "output_type": "stream",
     "text": [
      "22\n",
      "22\n",
      "333\n",
      "355\n",
      "444\n",
      "799\n",
      "799\n"
     ]
    }
   ],
   "source": [
    "l = int(input(\"enter the number of iterations :\"))\n",
    "i =0\n",
    "while i <= l:\n",
    "    number = list(input\n",
    "    j = 0\n",
    "    for i in l:\n",
    "        if type(i) == int:\n",
    "            print(i)\n",
    "            j = j+i\n",
    "        print(j)\n",
    "\n",
    " \n",
    "    "
   ]
  },
  {
   "cell_type": "code",
   "execution_count": 70,
   "metadata": {},
   "outputs": [
    {
     "name": "stdout",
     "output_type": "stream",
     "text": [
      "['hey']\n",
      "['hey', 'rash']\n",
      "['hey', 'rash', '3']\n",
      "['hey', 'rash', '3', '5']\n",
      "['hey', 'rash', '3', '5', '8']\n",
      "exception\n",
      "exception\n",
      "16\n"
     ]
    }
   ],
   "source": [
    "l = int(input(\"enter the number of items :\"))\n",
    "sum = 0\n",
    "i =0\n",
    "l2 =[]\n",
    "while i <=l-1 :\n",
    "    l1 = (input(\"enter the items \"))\n",
    "    i = i+1\n",
    "    #print(l1)\n",
    "\n",
    "    l2.append(l1)\n",
    "    print(l2)\n",
    "l2 \n",
    "for i in l2:\n",
    "    try:\n",
    "        if(int(i)):\n",
    "            #print(int(i))\n",
    "            sum += int(i)\n",
    "    except:\n",
    "        print('exception')\n",
    "\n",
    "print(sum)\n"
   ]
  },
  {
   "cell_type": "code",
   "execution_count": null,
   "metadata": {},
   "outputs": [],
   "source": [
    "l2"
   ]
  }
 ],
 "metadata": {
  "kernelspec": {
   "display_name": "Python 3.9.7 ('base')",
   "language": "python",
   "name": "python3"
  },
  "language_info": {
   "codemirror_mode": {
    "name": "ipython",
    "version": 3
   },
   "file_extension": ".py",
   "mimetype": "text/x-python",
   "name": "python",
   "nbconvert_exporter": "python",
   "pygments_lexer": "ipython3",
   "version": "3.9.7"
  },
  "orig_nbformat": 4,
  "vscode": {
   "interpreter": {
    "hash": "220fae48ee6aa06a15b0a194b915ad59277734e5bd52415b52439bc6d564df3a"
   }
  }
 },
 "nbformat": 4,
 "nbformat_minor": 2
}
