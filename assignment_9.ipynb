{
 "cells": [
  {
   "attachments": {},
   "cell_type": "markdown",
   "metadata": {},
   "source": [
    "fsds 2.0 Assignment 9\n",
    "\n",
    "Rahul suregaonkar"
   ]
  },
  {
   "attachments": {},
   "cell_type": "markdown",
   "metadata": {},
   "source": [
    "question 1 \n",
    "\n",
    "1. To what does a relative path refer ?\n",
    "\n",
    "answer:\n",
    "The relative path is the path to some file with respect to your current working directory (PWD).\n",
    "\n",
    "\n",
    "if Absolute path to a file called stuff.txt is: C:/users/admin/docs/test1.txt If my PWD is C:/users/admin/ , then the relative path to test1.txt would be: docs/test1.txt\n",
    "\n",
    "Note: \n",
    "PWD + relative path = absolute path\n",
    "\n",
    "\n"
   ]
  },
  {
   "attachments": {},
   "cell_type": "markdown",
   "metadata": {},
   "source": [
    "question 2 \n",
    "\n",
    "2. Where does an absolute path start with your Operating System ?\n",
    "\n",
    "\n",
    "Answer:\n",
    "\n",
    "\n",
    "In Linux based systems the absolute path starts with /. Where as in Windows based systems absolute path starts with C:\n",
    "\n",
    "An absolute path is defined as the specifying the location of a file or directory from the root directory(/). In other words we can say absolute path is a complete path from start of actual filesystem from / directory.\n",
    "\n",
    "\n",
    "An absolute path is a path that contains the entire path to the file or directory that you need to access. This path will begin at the home directory of your computer and will end with the file or directory that you wish to access. Absolute paths ensure that Python can find the exact file on your compute\n"
   ]
  },
  {
   "attachments": {},
   "cell_type": "markdown",
   "metadata": {},
   "source": [
    "question 3 \n",
    "\n",
    "3. What does the functions os.getcwd() and os.chdir() do ?\n",
    "\n",
    "answer:\n",
    "os.getcwd() method tells us the location of current working directory (CWD). Whereas os.chdir() method in Python used to change the current working directory to specified path. These functions are similar to linux commands pwd and cd\n",
    "\n",
    "\n"
   ]
  },
  {
   "cell_type": "code",
   "execution_count": 1,
   "metadata": {},
   "outputs": [
    {
     "name": "stdout",
     "output_type": "stream",
     "text": [
      "c:\\Users\\rahul\\OneDrive\\Desktop\\basic-day2-practice-main\\basic-day2-practice-main\n",
      "C:\\Users\\rahul\\OneDrive\\Desktop\\django sample 1\n"
     ]
    }
   ],
   "source": [
    "import os\n",
    "print(os.getcwd()) # Prints the current Working Directory\n",
    "path = r'C:\\Users\\rahul\\OneDrive\\Desktop\\django sample 1'\n",
    "os.chdir(path)\n",
    "print(os.getcwd())"
   ]
  },
  {
   "attachments": {},
   "cell_type": "markdown",
   "metadata": {},
   "source": [
    "question 4 \n",
    "\n",
    "4. What are . and .. folders ?\n",
    "\n",
    "answer:\n",
    "\n",
    ". Represents the Current Directory Whereas .. Represents the Parent Directory of the Current Directory\n",
    "\n",
    "example:\n",
    "\n",
    " then . represents  C:\\Users\\rahul\\OneDrive\\Desktop\\basic-day2-practice-main\\basic-day2-practice-main   \n",
    " then  .. represents  C:\\Users\\rahul\\OneDrive\\Desktop\\basic-day2-practice-main     "
   ]
  },
  {
   "attachments": {},
   "cell_type": "markdown",
   "metadata": {},
   "source": [
    "question 5 \n",
    "\n",
    "5. In C:\\bacon\\eggs\\spam.txt which part is the dir name and which part is the base name ?\n",
    "\n",
    "answer:\n",
    " For C:\\bacon\\eggs\\spam.txt\n",
    "The dir name is C:\\\\bacon\\\\eggs\n",
    "The Base name is spam.txt\n",
    "\n"
   ]
  },
  {
   "cell_type": "code",
   "execution_count": 2,
   "metadata": {},
   "outputs": [
    {
     "name": "stdout",
     "output_type": "stream",
     "text": [
      "C:\\bacon\\eggs\n",
      "spam.txt\n"
     ]
    }
   ],
   "source": [
    "import os\n",
    "path = r'C:\\bacon\\eggs\\spam.txt'\n",
    "print(os.path.dirname(path))\n",
    "print(os.path.basename(path))\n"
   ]
  },
  {
   "attachments": {},
   "cell_type": "markdown",
   "metadata": {},
   "source": [
    "question 6 \n",
    "\n",
    "\n",
    "6. What are the three mode arguments that can be passed to the open() function ?\n",
    "\n",
    "answer:\n",
    "\n",
    "A file can be Accessed in python using open() function. open function takes two arguments filename and mode of operation (optional). if mode is not provided the default mode of opening is read mode\n",
    "So, the syntax being: open(filename, mode)\n",
    "\n",
    "‘r’ – Read Mode: This is the default mode for open(). The file is opened and a pointer is positioned at the beginning of the file’s content.\n",
    "‘w’ – Write Mode: Using this mode will overwrite any existing content in a file. If the given file does not exist, a new one will be created.\n",
    "‘r+’ – Read/Write Mode: Use this mode if you need to simultaneously read and write to a file.\n",
    "‘a’ – Append Mode: With this mode the user can append the data without overwriting any already existing data in the file.\n",
    "‘a+’ – Append and Read Mode: In this mode you can read and append the data without overwriting the original file.\n",
    "‘x’ – Exclusive Creating Mode: This mode is for the sole purpose of creating new files. Use this mode if you know the file to be written doesn’t exist beforehand."
   ]
  },
  {
   "attachments": {},
   "cell_type": "markdown",
   "metadata": {},
   "source": [
    "question 7 \n",
    "\n",
    "7. What happens if an existing file is opened in write mode ?\n",
    "\n",
    "answer:\n",
    "\n",
    "Using this mode will overwrite any existing content in a file. If the given file does not exist, a new one will be created.\n",
    "\n"
   ]
  },
  {
   "attachments": {},
   "cell_type": "markdown",
   "metadata": {},
   "source": [
    "question 8 \n",
    "\n",
    "8. How do you tell the difference between read() and readlines() ?\n",
    "\n",
    "answer:\n",
    "\n",
    "The main difference is that read() will read the whole file at once and then print out the first characters that take up as many bytes as you specify in the parenthesis\n",
    "\n",
    "Whereas the readline() that will read and print out only the first characters that take up as many bytes as you specify in the parenthesis. You may want to use readline() when you're reading files that are too big for your RAM.\n",
    "The read() would treat each character in the file separately, meaning that the iteration would happen for every character.\n",
    "The readline() function, on the other hand, only reads a single line of the file. This means that if the first line of the file were three lines long, the readline() function would only parse (or iterate/operate) on the first line of the file.\n"
   ]
  },
  {
   "attachments": {},
   "cell_type": "markdown",
   "metadata": {},
   "source": [
    "question 9 \n",
    "\n",
    "9.What data structure does a shelf value resemble ?\n",
    "\n",
    "answer:\n",
    "\n",
    " it contains key and values it represents dictionary."
   ]
  }
 ],
 "metadata": {
  "kernelspec": {
   "display_name": "Python 3",
   "language": "python",
   "name": "python3"
  },
  "language_info": {
   "codemirror_mode": {
    "name": "ipython",
    "version": 3
   },
   "file_extension": ".py",
   "mimetype": "text/x-python",
   "name": "python",
   "nbconvert_exporter": "python",
   "pygments_lexer": "ipython3",
   "version": "3.11.1"
  },
  "orig_nbformat": 4,
  "vscode": {
   "interpreter": {
    "hash": "1541a75496dc353dd60d2f656c7f359c8f58f7fd047796a5f580808f3980f1f2"
   }
  }
 },
 "nbformat": 4,
 "nbformat_minor": 2
}
