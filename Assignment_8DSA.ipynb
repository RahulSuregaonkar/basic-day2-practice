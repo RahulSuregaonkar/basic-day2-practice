{
 "cells": [
  {
   "cell_type": "markdown",
   "metadata": {},
   "source": [
    "Assignment DSA  8\n",
    "\n",
    "Rahul Suregaonkar FSDS 2.0\n"
   ]
  },
  {
   "cell_type": "markdown",
   "metadata": {},
   "source": [
    "<aside>\n",
    "💡 **Question 1**\n",
    "\n",
    "Given two strings s1 and s2, return *the lowest **ASCII** sum of deleted characters to make two strings equal*.\n",
    "\n",
    "**Example 1:**\n",
    "\n",
    "**Input:** s1 = \"sea\", s2 = \"eat\"\n",
    "\n",
    "**Output:** 231\n",
    "\n",
    "**Explanation:** Deleting \"s\" from \"sea\" adds the ASCII value of \"s\" (115) to the sum.\n",
    "\n",
    "Deleting \"t\" from \"eat\" adds 116 to the sum.\n",
    "\n",
    "At the end, both strings are equal, and 115 + 116 = 231 is the minimum sum possible to achieve this.\n",
    "\n",
    "</aside>"
   ]
  },
  {
   "cell_type": "markdown",
   "metadata": {},
   "source": [
    "We will find a longest common subsequence, calcluate its ord value and subtract 2 times this value from the sum of ord of both given strings s1 and s2.\n",
    "Why do we subtact twice?\n",
    "Imagine that we found the longest common subsequence for sea and eat. This is ea.\n",
    "We need to remove it from sea and then from eat, and we do it exactly twice! Thus, we're left with s and t. As a result, we need to return ord(s) + ord(t).\n",
    "\n",
    "We can copy-paste a dp solution from 1143. The only difference is when two letters are the same:"
   ]
  },
  {
   "cell_type": "code",
   "execution_count": 1,
   "metadata": {},
   "outputs": [],
   "source": [
    "def minimumDeleteSum(s1, s2):  # O(mn) both, where m and n are lengths \n",
    "    dp = [[0] * (len(s2) + 1) for _ in range(len(s1) + 1)]\n",
    "    for r in range(1, len(s1) + 1):\n",
    "        for c in range(1, len(s2) + 1):\n",
    "            if s2[c - 1] == s1[r - 1]:\n",
    "                dp[r][c] = dp[r - 1][c - 1] + ord(s1[r - 1])\n",
    "            else:\n",
    "                dp[r][c] = max(dp[r - 1][c], dp[r][c - 1])\n",
    "    return sum(ord(ch) for ch in s1) + sum(ord(ch) for ch in s2) - 2 * dp[-1][-1]\n",
    "\n",
    "\n",
    "def minimumDeleteSum_space_efficient(s1, s2):  # O(mn) and O(2n)\n",
    "    dp = [[0 for _ in range(len(s2) + 1)] for _ in range(2)]\n",
    "    res = 0\n",
    "    for row in range(1, len(s1) + 1):\n",
    "        for col in range(1, len(s2) + 1):\n",
    "            if s1[row - 1] == s2[col - 1]:\n",
    "                dp[row % 2][col] = ord(s1[row - 1]) + dp[(row - 1) % 2][col - 1]\n",
    "            else:\n",
    "                dp[row % 2][col] = max(dp[(row - 1) % 2][col], dp[row % 2][col - 1])\n",
    "            res = max(res, dp[row % 2][col])\n",
    "    return sum(ord(ch) for ch in s1) + sum(ord(ch) for ch in s2) - 2 * res"
   ]
  },
  {
   "cell_type": "code",
   "execution_count": 2,
   "metadata": {},
   "outputs": [
    {
     "data": {
      "text/plain": [
       "231"
      ]
     },
     "execution_count": 2,
     "metadata": {},
     "output_type": "execute_result"
    }
   ],
   "source": [
    "minimumDeleteSum(\"sea\",\"eat\")"
   ]
  },
  {
   "cell_type": "code",
   "execution_count": 3,
   "metadata": {},
   "outputs": [
    {
     "data": {
      "text/plain": [
       "231"
      ]
     },
     "execution_count": 3,
     "metadata": {},
     "output_type": "execute_result"
    }
   ],
   "source": [
    "minimumDeleteSum_space_efficient(\"sea\",\"eat\")"
   ]
  },
  {
   "cell_type": "code",
   "execution_count": 4,
   "metadata": {},
   "outputs": [
    {
     "data": {
      "text/plain": [
       "403"
      ]
     },
     "execution_count": 4,
     "metadata": {},
     "output_type": "execute_result"
    }
   ],
   "source": [
    "minimumDeleteSum_space_efficient(\"delete\",\"leet\")"
   ]
  },
  {
   "cell_type": "code",
   "execution_count": 5,
   "metadata": {},
   "outputs": [
    {
     "data": {
      "text/plain": [
       "231"
      ]
     },
     "execution_count": 5,
     "metadata": {},
     "output_type": "execute_result"
    }
   ],
   "source": [
    "minimumDeleteSum(\"sea\",\"eat\")"
   ]
  },
  {
   "cell_type": "markdown",
   "metadata": {},
   "source": [
    "<aside>\n",
    "💡 **Question 2**\n",
    "\n",
    "Given a string s containing only three types of characters: '(', ')' and '*', return true *if* s *is **valid***.\n",
    "\n",
    "The following rules define a **valid** string:\n",
    "\n",
    "- Any left parenthesis '(' must have a corresponding right parenthesis ')'.\n",
    "- Any right parenthesis ')' must have a corresponding left parenthesis '('.\n",
    "- Left parenthesis '(' must go before the corresponding right parenthesis ')'.\n",
    "- '*' could be treated as a single right parenthesis ')' or a single left parenthesis '(' or an empty string \"\".\n",
    "\n",
    "**Example 1:**\n",
    "\n",
    "**Input:** s = \"()\"\n",
    "\n",
    "**Output:**\n",
    "\n",
    "true\n",
    "\n",
    "</aside>"
   ]
  },
  {
   "cell_type": "markdown",
   "metadata": {},
   "source": [
    "Steps to approach:\n",
    "1. Create two stacks:\n",
    "- open_stack(i.e for open parenthesis)\n",
    "- start_stack(i.e. for Asterix symbol)\n",
    "2. transverse character-by-character to the input string\n",
    "3. then all the condition statements will be clear if you see the code.\n",
    "4. After traversing through till the last, I have used the while loop, if any open parenthesis is left out and also we have left with Asterix symbol then we can validate the parenthesis by making supposing Asterix as a close parenthesis.\n",
    "\n",
    "Note: I have the added index number into the stack because as the condition says open parenthesis comes before the close parenthesis. So, when we use the while loop to check if we left out with open parenthesis and Asterix or not and if yes, then we check if open parenthesis comes before Asterix then we make it validate otherwise it is invalid(i.e. False)"
   ]
  },
  {
   "cell_type": "code",
   "execution_count": 6,
   "metadata": {},
   "outputs": [],
   "source": [
    "def checkValidString(self, s: str) -> bool:\n",
    "        open_stack = []\n",
    "        star_stack = []\n",
    "        for i in range(len(s)):\n",
    "            if s[i] == '(':\n",
    "                open_stack.append(i)\n",
    "            elif s[i] == \"*\":\n",
    "                star_stack.append(i)\n",
    "            else:\n",
    "                if len(open_stack) != 0:\n",
    "                    open_stack.pop()\n",
    "                elif len(star_stack) != 0:\n",
    "                    star_stack.pop()\n",
    "                else:\n",
    "                    return False\n",
    "        while len(open_stack) != 0:\n",
    "            if len(star_stack) == 0:\n",
    "                return False\n",
    "            elif open_stack[-1] < star_stack[-1]:\n",
    "                open_stack.pop()\n",
    "                star_stack.pop()\n",
    "            else:\n",
    "                return False\n",
    "        return True"
   ]
  },
  {
   "cell_type": "code",
   "execution_count": 7,
   "metadata": {},
   "outputs": [
    {
     "data": {
      "text/plain": [
       "True"
      ]
     },
     "execution_count": 7,
     "metadata": {},
     "output_type": "execute_result"
    }
   ],
   "source": [
    "checkValidString(0,\"()\")"
   ]
  },
  {
   "cell_type": "code",
   "execution_count": 8,
   "metadata": {},
   "outputs": [
    {
     "data": {
      "text/plain": [
       "True"
      ]
     },
     "execution_count": 8,
     "metadata": {},
     "output_type": "execute_result"
    }
   ],
   "source": [
    "checkValidString(0,\"(*)\")"
   ]
  },
  {
   "cell_type": "code",
   "execution_count": 9,
   "metadata": {},
   "outputs": [
    {
     "data": {
      "text/plain": [
       "True"
      ]
     },
     "execution_count": 9,
     "metadata": {},
     "output_type": "execute_result"
    }
   ],
   "source": [
    "checkValidString(0,\"(*))\")"
   ]
  },
  {
   "cell_type": "markdown",
   "metadata": {},
   "source": [
    "<aside>\n",
    "💡 **Question 3**\n",
    "\n",
    "Given two strings word1 and word2, return *the minimum number of **steps** required to make* word1 *and* word2 *the same*.\n",
    "\n",
    "In one **step**, you can delete exactly one character in either string.\n",
    "\n",
    "**Example 1:**\n",
    "\n",
    "**Input:** word1 = \"sea\", word2 = \"eat\"\n",
    "\n",
    "**Output:** 2\n",
    "\n",
    "**Explanation:** You need one step to make \"sea\" to \"ea\" and another step to make \"eat\" to \"ea\".\n",
    "\n",
    "</aside>"
   ]
  },
  {
   "cell_type": "markdown",
   "metadata": {},
   "source": [
    "From both strings word1 and word2 only those haracter will be deleted which are not present in the other string.\n",
    "\n",
    "For this we find LCS i.e. Longest Common Subsequence.\n",
    "\n",
    "We create a matrix of size (m+1)*(n+1) and make first row and column equal to zero.\n",
    "\n",
    "If i element of word1 is equal to j element of word2 we make the index of matrix[ i + 1 ][ j + 1 ] equal to 1 + diagonally previous element\n",
    "If they are n0t equal equal then matrix value at that index will be maximum of element above or to the left of that matrix."
   ]
  },
  {
   "cell_type": "code",
   "execution_count": 10,
   "metadata": {},
   "outputs": [],
   "source": [
    "class Solution3:\n",
    "    def minDistance(self, word1: str, word2: str) -> int:\n",
    "        m = len(word1)\n",
    "        n = len(word2)\n",
    "        a = []\n",
    "        for i in range(m+1):\n",
    "            a.append([])\n",
    "            for j in range(n+1):\n",
    "                a[-1].append(0)\n",
    "        \n",
    "        for i in range(m):\n",
    "            for j in range(n):\n",
    "                if word1[i]==word2[j]:\n",
    "                    a[i+1][j+1] = 1 + a[i][j]\n",
    "                else:\n",
    "                    a[i+1][j+1] = max( a[i][j+1], a[i+1][j])\n",
    "\t\t\t\t\t\n",
    "        return m + n - ( 2 * a [-1][-1] )"
   ]
  },
  {
   "cell_type": "code",
   "execution_count": 11,
   "metadata": {},
   "outputs": [
    {
     "data": {
      "text/plain": [
       "2"
      ]
     },
     "execution_count": 11,
     "metadata": {},
     "output_type": "execute_result"
    }
   ],
   "source": [
    "Solution3.minDistance(0,\"sea\",\"eat\")"
   ]
  },
  {
   "cell_type": "markdown",
   "metadata": {},
   "source": [
    "<aside>\n",
    "💡 **Question 4**\n",
    "\n",
    "You need to construct a binary tree from a string consisting of parenthesis and integers.\n",
    "\n",
    "The whole input represents a binary tree. It contains an integer followed by zero, one or two pairs of parenthesis. The integer represents the root's value and a pair of parenthesis contains a child binary tree with the same structure.\n",
    "You always start to construct the **left** child node of the parent first if it exists.\n",
    "\n",
    "</aside>\n",
    "\n",
    "**Input:** s = \"4(2(3)(1))(6(5))\"\n",
    "\n",
    "**Output:** [4,2,6,3,1,5]"
   ]
  },
  {
   "cell_type": "code",
   "execution_count": 12,
   "metadata": {},
   "outputs": [
    {
     "name": "stdout",
     "output_type": "stream",
     "text": [
      "10\n"
     ]
    }
   ],
   "source": [
    "class Node:\n",
    "    def __init__(self, data):\n",
    "        self.left = None\n",
    "        self.right = None\n",
    "        self.data = data\n",
    "    def PrintTree(self):\n",
    "        print(self.data)\n",
    "\n",
    "root = Node(10)\n",
    "root.PrintTree()"
   ]
  },
  {
   "cell_type": "code",
   "execution_count": 13,
   "metadata": {},
   "outputs": [
    {
     "name": "stdout",
     "output_type": "stream",
     "text": [
      "Requirement already satisfied: binarytree in c:\\users\\rahul\\appdata\\local\\programs\\python\\python311\\lib\\site-packages (6.5.1)\n",
      "Requirement already satisfied: graphviz in c:\\users\\rahul\\appdata\\local\\programs\\python\\python311\\lib\\site-packages (from binarytree) (0.20.1)\n",
      "Requirement already satisfied: setuptools>=60.8.2 in c:\\users\\rahul\\appdata\\local\\programs\\python\\python311\\lib\\site-packages (from binarytree) (65.5.0)\n",
      "Requirement already satisfied: setuptools-scm[toml]>=5.0.1 in c:\\users\\rahul\\appdata\\local\\programs\\python\\python311\\lib\\site-packages (from binarytree) (7.1.0)\n",
      "Requirement already satisfied: packaging>=20.0 in c:\\users\\rahul\\appdata\\roaming\\python\\python311\\site-packages (from setuptools-scm[toml]>=5.0.1->binarytree) (22.0)\n",
      "Requirement already satisfied: typing-extensions in c:\\users\\rahul\\appdata\\local\\programs\\python\\python311\\lib\\site-packages (from setuptools-scm[toml]>=5.0.1->binarytree) (4.5.0)\n",
      "Note: you may need to restart the kernel to use updated packages.\n"
     ]
    }
   ],
   "source": [
    "pip install binarytree "
   ]
  },
  {
   "cell_type": "code",
   "execution_count": 14,
   "metadata": {},
   "outputs": [
    {
     "name": "stdout",
     "output_type": "stream",
     "text": [
      "Binary tree : \n",
      "  3\n",
      " / \\\n",
      "6   8\n",
      "\n",
      "List of nodes : [Node(3), Node(6), Node(8)]\n",
      "Inorder of nodes : [Node(6), Node(3), Node(8)]\n",
      "Size of tree : 3\n",
      "Height of tree : 1\n",
      "Properties of tree : \n",
      " {'height': 1, 'size': 3, 'is_max_heap': False, 'is_min_heap': True, 'is_perfect': True, 'is_strict': True, 'is_complete': True, 'leaf_count': 2, 'min_node_value': 3, 'max_node_value': 8, 'min_leaf_depth': 1, 'max_leaf_depth': 1, 'is_balanced': True, 'is_bst': False, 'is_symmetric': False}\n"
     ]
    }
   ],
   "source": [
    "from binarytree import Node\n",
    "root = Node(3)\n",
    "root.left = Node(6)\n",
    "root.right = Node(8)\n",
    "  \n",
    "# Getting binary tree\n",
    "print('Binary tree :', root)\n",
    "  \n",
    "# Getting list of nodes\n",
    "print('List of nodes :', list(root))\n",
    "  \n",
    "# Getting inorder of nodes\n",
    "print('Inorder of nodes :', root.inorder)\n",
    "  \n",
    "# Checking tree properties\n",
    "print('Size of tree :', root.size)\n",
    "print('Height of tree :', root.height)\n",
    "  \n",
    "# Get all properties at once\n",
    "print('Properties of tree : \\n', root.properties)"
   ]
  },
  {
   "cell_type": "code",
   "execution_count": 26,
   "metadata": {},
   "outputs": [],
   "source": [
    "class TreeNode(object):\n",
    "    def __init__(self, x):\n",
    "        self.val = x\n",
    "        self.left = None\n",
    "        self.right = None\n",
    "\n",
    "\n",
    "class Solution4(object):\n",
    "    def str2tree(self, s):\n",
    "        \"\"\"\n",
    "        :type s: str\n",
    "        :rtype: TreeNode\n",
    "        \"\"\"\n",
    "        def str2treeHelper(s, i):\n",
    "            start = i\n",
    "            if s[i] == '-': i += 1\n",
    "            while i < len(s) and s[i].isdigit(): i += 1\n",
    "            node = TreeNode(int(s[start:i]))\n",
    "            if i < len(s) and s[i] == '(':\n",
    "                i += 1\n",
    "                node.left, i = str2treeHelper(s, i)\n",
    "                i += 1\n",
    "            if i < len(s) and s[i] == '(':\n",
    "                i += 1\n",
    "                node.right, i = str2treeHelper(s, i)\n",
    "                i += 1\n",
    "            return node, i\n",
    "\n",
    "        return str2treeHelper(s, 0)[0] if s else None"
   ]
  },
  {
   "cell_type": "code",
   "execution_count": 27,
   "metadata": {},
   "outputs": [
    {
     "data": {
      "text/plain": [
       "<__main__.TreeNode at 0x1d3340443d0>"
      ]
     },
     "execution_count": 27,
     "metadata": {},
     "output_type": "execute_result"
    }
   ],
   "source": [
    "Solution4.str2tree(0,\"4(2(3)(1))(6(5))\")"
   ]
  },
  {
   "cell_type": "code",
   "execution_count": 33,
   "metadata": {},
   "outputs": [],
   "source": [
    "class TreeNode(object):\n",
    "    def __init__(self, val=0, left=None, right=None):\n",
    "        self.val = val\n",
    "        self.left = left\n",
    "        self.right = right\n",
    "\n",
    "\n",
    "class Solution:\n",
    "    def str2tree(self, s: str) -> TreeNode:\n",
    "        def dfs(s):\n",
    "            if not s:\n",
    "                return None\n",
    "            p = s.find('(')\n",
    "            if p == -1:\n",
    "                return TreeNode(int(s))\n",
    "            root = TreeNode(int(s[:p]))\n",
    "            start = p\n",
    "            cnt = 0\n",
    "            for i in range(p, len(s)):\n",
    "                if s[i] == '(':\n",
    "                    cnt += 1\n",
    "                elif s[i] == ')':\n",
    "                    cnt -= 1\n",
    "                if cnt == 0:\n",
    "                    if start == p:\n",
    "                        root.left = dfs(s[start + 1 : i])\n",
    "                        start = i + 1\n",
    "                    else:\n",
    "                        root.right = dfs(s[start + 1 : i])\n",
    "            return root\n",
    "\n",
    "        return dfs(s)"
   ]
  },
  {
   "cell_type": "code",
   "execution_count": 34,
   "metadata": {},
   "outputs": [
    {
     "data": {
      "text/plain": [
       "<__main__.TreeNode at 0x1d3340656d0>"
      ]
     },
     "execution_count": 34,
     "metadata": {},
     "output_type": "execute_result"
    }
   ],
   "source": [
    "Solution.str2tree(0,\"4(2(3)(1))(6(5))\")"
   ]
  },
  {
   "cell_type": "code",
   "execution_count": 35,
   "metadata": {},
   "outputs": [
    {
     "name": "stdout",
     "output_type": "stream",
     "text": [
      "4 2 3 1 6 5 "
     ]
    }
   ],
   "source": [
    "class newNode:\n",
    "    def __init__(self, data):\n",
    "        self.data = data\n",
    "        self.left = self.right = None\n",
    " \n",
    "# This function is here just to test\n",
    " \n",
    " \n",
    "def preOrder(node):\n",
    "    if (node == None):\n",
    "        return\n",
    "    print(node.data, end=' ')\n",
    "    preOrder(node.left)\n",
    "    preOrder(node.right)\n",
    " \n",
    "# function to return the index of\n",
    "# close parenthesis\n",
    " \n",
    " \n",
    "def findIndex(Str, si, ei):\n",
    "    if (si > ei):\n",
    "        return -1\n",
    " \n",
    "    # Inbuilt stack\n",
    "    s = []\n",
    "    for i in range(si, ei + 1):\n",
    " \n",
    "        # if open parenthesis, push it\n",
    "        if (Str[i] == '('):\n",
    "            s.append(Str[i])\n",
    " \n",
    "        # if close parenthesis\n",
    "        elif (Str[i] == ')'):\n",
    "            if (s[-1] == '('):\n",
    "                s.pop(-1)\n",
    " \n",
    "                # if stack is empty, this is\n",
    "                # the required index\n",
    "                if len(s) == 0:\n",
    "                    return i\n",
    "    # if not found return -1\n",
    "    return -1\n",
    " \n",
    "# function to conStruct tree from String\n",
    " \n",
    " \n",
    "def treeFromString(Str, si, ei):\n",
    " \n",
    "    # Base case\n",
    "    if (si > ei):\n",
    "        return None\n",
    " \n",
    "    # new root\n",
    "    root = newNode(ord(Str[si]) - ord('0'))\n",
    "    index = -1\n",
    " \n",
    "    # if next char is '(' find the\n",
    "    # index of its complement ')'\n",
    "    if (si + 1 <= ei and Str[si + 1] == '('):\n",
    "        index = findIndex(Str, si + 1, ei)\n",
    " \n",
    "    # if index found\n",
    "    if (index != -1):\n",
    " \n",
    "        # call for left subtree\n",
    "        root.left = treeFromString(Str, si + 2,\n",
    "                                   index - 1)\n",
    " \n",
    "        # call for right subtree\n",
    "        root.right = treeFromString(Str, index + 2,\n",
    "                                    ei - 1)\n",
    "    return root\n",
    " \n",
    " \n",
    "# Driver Code\n",
    "if __name__ == '__main__':\n",
    "    Str = \"4(2(3)(1))(6(5))\"\n",
    "    root = treeFromString(Str, 0, len(Str) - 1)\n",
    "    preOrder(root)"
   ]
  },
  {
   "cell_type": "markdown",
   "metadata": {},
   "source": []
  },
  {
   "cell_type": "markdown",
   "metadata": {},
   "source": [
    "<aside>\n",
    "💡 **Question 5**\n",
    "\n",
    "Given an array of characters chars, compress it using the following algorithm:\n",
    "\n",
    "Begin with an empty string s. For each group of **consecutive repeating characters** in chars:\n",
    "\n",
    "- If the group's length is 1, append the character to s.\n",
    "- Otherwise, append the character followed by the group's length.\n",
    "\n",
    "The compressed string s **should not be returned separately**, but instead, be stored **in the input character array chars**. Note that group lengths that are 10 or longer will be split into multiple characters in chars.\n",
    "\n",
    "After you are done **modifying the input array,** return *the new length of the array*.\n",
    "\n",
    "You must write an algorithm that uses only constant extra space.\n",
    "\n",
    "**Example 1:**\n",
    "\n",
    "**Input:** chars = [\"a\",\"a\",\"b\",\"b\",\"c\",\"c\",\"c\"]\n",
    "\n",
    "**Output:** Return 6, and the first 6 characters of the input array should be: [\"a\",\"2\",\"b\",\"2\",\"c\",\"3\"]\n",
    "\n",
    "**Explanation:**\n",
    "\n",
    "The groups are \"aa\", \"bb\", and \"ccc\". This compresses to \"a2b2c3\".\n",
    "\n",
    "</aside>"
   ]
  },
  {
   "cell_type": "code",
   "execution_count": 2,
   "metadata": {},
   "outputs": [],
   "source": [
    "class Solution6:\n",
    "    def compress(self, chars: [str]) -> int:\n",
    "        d=[]\n",
    "        c=1\n",
    "        for i in range(1,len(chars)):\n",
    "            if chars[i]==chars[i-1]:\n",
    "                c+=1\n",
    "            else:\n",
    "                d.append([chars[i-1],c])\n",
    "                c=1\n",
    "        d.append([chars[-1],c]) \n",
    "        i=0\n",
    "        for k,v in d:\n",
    "            chars[i]=k\n",
    "            i+=1\n",
    "            if v>1:\n",
    "                for item in str(v):\n",
    "                    chars[i]=str(item)\n",
    "                    i+=1\n",
    "        return i"
   ]
  },
  {
   "cell_type": "code",
   "execution_count": 3,
   "metadata": {},
   "outputs": [
    {
     "data": {
      "text/plain": [
       "6"
      ]
     },
     "execution_count": 3,
     "metadata": {},
     "output_type": "execute_result"
    }
   ],
   "source": [
    "Solution6.compress(0, [\"a\",\"a\",\"b\",\"b\",\"c\",\"c\",\"c\"])"
   ]
  },
  {
   "cell_type": "markdown",
   "metadata": {},
   "source": [
    "<aside>\n",
    "💡 **Question 6**\n",
    "\n",
    "Given two strings s and p, return *an array of all the start indices of* p*'s anagrams in* s. You may return the answer in **any order**.\n",
    "\n",
    "An **Anagram** is a word or phrase formed by rearranging the letters of a different word or phrase, typically using all the original letters exactly once.\n",
    "\n",
    "**Example 1:**\n",
    "\n",
    "**Input:** s = \"cbaebabacd\", p = \"abc\"\n",
    "\n",
    "**Output:** [0,6]\n",
    "\n",
    "**Explanation:**\n",
    "\n",
    "The substring with start index = 0 is \"cba\", which is an anagram of \"abc\".\n",
    "\n",
    "The substring with start index = 6 is \"bac\", which is an anagram of \"abc\".\n",
    "\n",
    "</aside>"
   ]
  },
  {
   "cell_type": "markdown",
   "metadata": {},
   "source": [
    "make hashmap(dictionary)hashmap(dictionary)hashmap(dictionary) of string(p)string(p)string(p) and frequency of characters in it.\n",
    "iterate over lengthlengthlength of string(s)string(s)string(s).\n",
    "deductdeductdeduct frequency of characterscharacterscharacters foundfoundfound in window and in string(p)string(p)string(p).\n",
    "if valuevaluevalue of current−keycurrent-keycurrent−key of map−is−0map-is-0map−is−0 then removeremoveremove it from map indicating that this character is fully traversed.\n",
    "if hashmap is empty then move window towards right and increse end of window, because we found anagram and push start of current window in ans−listans-listans−list.\n",
    "increment start pointer till start==endstart == endstart==end, because map is empty then regain original frequency to match further.\n",
    "at last when start > lenght(string(s)) then we stop and return−ansreturn-ansreturn−ans.\n",
    "\n",
    "Time complexity:O(n)\n",
    "Space complexity:O(n)"
   ]
  },
  {
   "cell_type": "code",
   "execution_count": 5,
   "metadata": {},
   "outputs": [],
   "source": [
    "class Solution7:\n",
    "    def findAnagrams(self, s: str, p: str) -> [int]:\n",
    "        window = len(p)\n",
    "        mapper = {}\n",
    "        def __mapper():\n",
    "            nonlocal mapper\n",
    "            for i in p:\n",
    "                if i in mapper.keys(): mapper[i] += 1\n",
    "                else: mapper[i] = 1\n",
    "        __mapper()\n",
    "        ans = []\n",
    "        st = 0\n",
    "        ed = 0\n",
    "        while ed < len(s):\n",
    "            if s[ed] in mapper.keys():\n",
    "                mapper[s[ed]] -= 1\n",
    "                if mapper[s[ed]] == 0:\n",
    "                    del mapper[s[ed]]\n",
    "                if not bool(mapper):\n",
    "                    ans.append(st)\n",
    "                    mapper[s[st]] = 1\n",
    "                    st += 1\n",
    "                ed += 1\n",
    "            else:\n",
    "                if st == ed:\n",
    "                    st = ed = ed + 1\n",
    "                else:\n",
    "                    if s[st] in mapper.keys():\n",
    "                        mapper[s[st]] += 1\n",
    "                    else:\n",
    "                        mapper[s[st]] = 1\n",
    "                    st += 1\n",
    "        return ans    "
   ]
  },
  {
   "cell_type": "code",
   "execution_count": 6,
   "metadata": {},
   "outputs": [
    {
     "data": {
      "text/plain": [
       "[0, 6]"
      ]
     },
     "execution_count": 6,
     "metadata": {},
     "output_type": "execute_result"
    }
   ],
   "source": [
    "Solution7.findAnagrams(0,\"cbaebabacd\",\"abc\")"
   ]
  },
  {
   "cell_type": "code",
   "execution_count": 7,
   "metadata": {},
   "outputs": [],
   "source": [
    "class Solution8:\n",
    "    def decodeString(self, s: str) -> str:\n",
    "        # Initialize the stack and the current string\n",
    "        stack = []\n",
    "        curr_str = \"\"\n",
    "        # Initialize the current number to 0\n",
    "        curr_num = 0\n",
    "        \n",
    "        # Iterate through each character of the string\n",
    "        for c in s:\n",
    "            # If the character is a digit, update the current number\n",
    "            if c.isdigit():\n",
    "                curr_num = curr_num * 10 + int(c)\n",
    "            # If the character is an opening bracket, push the current number and current string onto the stack\n",
    "            elif c == \"[\":\n",
    "                stack.append(curr_num)\n",
    "                stack.append(curr_str)\n",
    "                # Reset the current number and current string\n",
    "                curr_num = 0\n",
    "                curr_str = \"\"\n",
    "            # If the character is a closing bracket, repeat the popped characters and push the result back onto the stack\n",
    "            elif c == \"]\":\n",
    "                prev_str = stack.pop()\n",
    "                prev_num = stack.pop()\n",
    "                curr_str = prev_str + curr_str * prev_num\n",
    "            # If the character is a letter, append it to the current string\n",
    "            else:\n",
    "                curr_str += c\n",
    "        \n",
    "        # Pop any remaining characters from the stack and concatenate them to the final result\n",
    "        while stack:\n",
    "            curr_str = stack.pop() + curr_str\n",
    "        \n",
    "        return curr_str"
   ]
  },
  {
   "cell_type": "code",
   "execution_count": 8,
   "metadata": {},
   "outputs": [
    {
     "data": {
      "text/plain": [
       "'aaabcbc'"
      ]
     },
     "execution_count": 8,
     "metadata": {},
     "output_type": "execute_result"
    }
   ],
   "source": [
    "Solution8.decodeString(0,\"3[a]2[bc]\")"
   ]
  },
  {
   "cell_type": "markdown",
   "metadata": {},
   "source": [
    "<aside>\n",
    "💡 **Question 8**\n",
    "\n",
    "Given two strings s and goal, return true *if you can swap two letters in* s *so the result is equal to* goal*, otherwise, return* false*.*\n",
    "\n",
    "Swapping letters is defined as taking two indices i and j (0-indexed) such that i != j and swapping the characters at s[i] and s[j].\n",
    "\n",
    "- For example, swapping at indices 0 and 2 in \"abcd\" results in \"cbad\".\n",
    "\n",
    "**Example 1:**\n",
    "\n",
    "**Input:** s = \"ab\", goal = \"ba\"\n",
    "\n",
    "**Output:** true\n",
    "\n",
    "**Explanation:** You can swap s[0] = 'a' and s[1] = 'b' to get \"ba\", which is equal to goal.\n",
    "\n",
    "</aside>"
   ]
  },
  {
   "cell_type": "markdown",
   "metadata": {},
   "source": [
    "This problem may appear simple at first, but it is more complex than a textbook example. It involves handling several edge cases and considering various scenarios. There are multiple cases that need to be carefully checked.\n",
    "\n",
    "check the lengths of both s & goal\n",
    "Set some variables: diff denotes the number of different places. The array freq is the table for the frequency of 26 alphabets in word s. hasDuplicates denotes whether s has duplicates for any character and needSwap is the array for the indexes need swap\n",
    "Proceed the iteration and check\n",
    "According to each different case to determine whether s is convertible to goal or not."
   ]
  },
  {
   "cell_type": "code",
   "execution_count": 11,
   "metadata": {},
   "outputs": [],
   "source": [
    "class Solution9:\n",
    "    def buddyStrings(self, s: str, goal: str) -> bool:\n",
    "        l=len(s)\n",
    "        glen=len(goal)\n",
    "        if l!=glen: return 0\n",
    "        diff=0\n",
    "        freq=[0]*26\n",
    "        hasDuplicates=False\n",
    "        needSwap=[]\n",
    "        for i in range(l):\n",
    "            if s[i]!=goal[i]:\n",
    "                diff+=1\n",
    "                needSwap.append(i)\n",
    "            freq[ord(s[i])-ord('a')]+=1\n",
    "            if hasDuplicates==False and freq[ord(s[i])-ord('a')]>=2:\n",
    "                hasDuplicates=True\n",
    "        if s==goal and hasDuplicates: return True\n",
    "        if s!=goal and diff==2:\n",
    "            slist = list(s)\n",
    "            # Swap the characters at the indices stored in needSwap\n",
    "            slist[needSwap[0]], slist[needSwap[1]]=slist[needSwap[1]], slist[needSwap[0]]\n",
    "            # Convert s_list back to a string\n",
    "            s = \"\".join(slist)\n",
    "\n",
    "            if s==goal: return True\n",
    "            else: return 0\n",
    "        return 0"
   ]
  },
  {
   "cell_type": "code",
   "execution_count": 12,
   "metadata": {},
   "outputs": [
    {
     "data": {
      "text/plain": [
       "True"
      ]
     },
     "execution_count": 12,
     "metadata": {},
     "output_type": "execute_result"
    }
   ],
   "source": [
    "Solution9.buddyStrings(0,\"ab\",\"ba\")"
   ]
  }
 ],
 "metadata": {
  "kernelspec": {
   "display_name": "Python 3",
   "language": "python",
   "name": "python3"
  },
  "language_info": {
   "codemirror_mode": {
    "name": "ipython",
    "version": 3
   },
   "file_extension": ".py",
   "mimetype": "text/x-python",
   "name": "python",
   "nbconvert_exporter": "python",
   "pygments_lexer": "ipython3",
   "version": "3.11.1"
  },
  "orig_nbformat": 4
 },
 "nbformat": 4,
 "nbformat_minor": 2
}
