{
 "cells": [
  {
   "cell_type": "markdown",
   "metadata": {},
   "source": [
    "Assignment DSA 3\n",
    "\n",
    "Rahul Suregaonkar FSDS 2.0"
   ]
  },
  {
   "cell_type": "markdown",
   "metadata": {},
   "source": [
    "Question 1\n",
    "Given an integer array nums of length n and an integer target, find three integers\n",
    "in nums such that the sum is closest to the target.\n",
    "Return the sum of the three integers.\n",
    "\n",
    "You may assume that each input would have exactly one solution.\n",
    "\n",
    "Example 1:\n",
    "Input: nums = [-1,2,1,-4], target = 1\n",
    "Output: 2\n",
    "\n",
    "Explanation: The sum that is closest to the target is 2. (-1 + 2 + 1 = 2)."
   ]
  },
  {
   "cell_type": "code",
   "execution_count": 1,
   "metadata": {},
   "outputs": [],
   "source": [
    "List = []\n",
    "list=[]\n",
    "class Solution1:\n",
    "    def threeSumClosest(self, nums: List, target: int) -> int:\n",
    "        closet = float('inf')\n",
    "        nums.sort()\n",
    "        for i in range(len(nums) - 2):\n",
    "            l, r = i + 1, len(nums) - 1\n",
    "            while l < r:\n",
    "                sum3 = nums[i] + nums[l] + nums[r]\n",
    "                print(sum3)\n",
    "                if sum3 < target:\n",
    "                    l += 1\n",
    "                else:\n",
    "                    r -=1\n",
    "                if abs(sum3 - target) < abs(closet - target):\n",
    "                    closet = sum3\n",
    "        return closet"
   ]
  },
  {
   "cell_type": "code",
   "execution_count": 2,
   "metadata": {},
   "outputs": [
    {
     "name": "stdout",
     "output_type": "stream",
     "text": [
      "-3\n",
      "-1\n",
      "2\n"
     ]
    },
    {
     "data": {
      "text/plain": [
       "2"
      ]
     },
     "execution_count": 2,
     "metadata": {},
     "output_type": "execute_result"
    }
   ],
   "source": [
    "Solution1.threeSumClosest(Solution1, [-1,2,1,-4], 1)"
   ]
  },
  {
   "cell_type": "markdown",
   "metadata": {},
   "source": [
    "Question 2\n",
    "Given an array nums of n integers, return an array of all the unique quadruplets\n",
    "[nums[a], nums[b], nums[c], nums[d]] such that:\n",
    "           ● 0 <= a, b, c, d < n\n",
    "           ● a, b, c, and d are distinct.\n",
    "           ● nums[a] + nums[b] + nums[c] + nums[d] == target\n",
    "\n",
    "You may return the answer in any order.\n",
    "\n",
    "Example 1:\n",
    "Input: nums = [1,0,-1,0,-2,2], target = 0\n",
    "Output: [[-2,-1,1,2],[-2,0,0,2],[-1,0,0,1]]"
   ]
  },
  {
   "cell_type": "code",
   "execution_count": 3,
   "metadata": {},
   "outputs": [],
   "source": [
    "\n",
    "class Solution:\n",
    "    def fourSum(self, nums: ([int]), target: int) -> [([int])]:\n",
    "        res,quad=[],[]\n",
    "        nums.sort()\n",
    "        def ksum(k,start,target):\n",
    "            if k!=2:\n",
    "                for i in range(start,len(nums)-k+1):\n",
    "                    if i>start and nums[i]==nums[i-1]:\n",
    "                        continue\n",
    "                    quad.append(nums[i])\n",
    "                    ksum(k-1,i+1,target-nums[i])\n",
    "                    quad.pop()\n",
    "                return\n",
    "\n",
    "\n",
    "            l,r=start,len(nums)-1\n",
    "            while l<r:\n",
    "                if nums[l]+nums[r]<target:\n",
    "                    l+=1\n",
    "                elif nums[l]+nums[r]>target:\n",
    "                    r-=1\n",
    "                else:\n",
    "                    res.append(quad+[nums[l],nums[r]])\n",
    "                    l+=1\n",
    "                    while l<r and nums[l]==nums[l-1]:\n",
    "                        l+=1\n",
    "        ksum(4,0,target)\n",
    "        return res"
   ]
  },
  {
   "cell_type": "code",
   "execution_count": 4,
   "metadata": {},
   "outputs": [
    {
     "data": {
      "text/plain": [
       "[[-2, -1, 1, 2], [-2, 0, 0, 2], [-1, 0, 0, 1]]"
      ]
     },
     "execution_count": 4,
     "metadata": {},
     "output_type": "execute_result"
    }
   ],
   "source": [
    "Solution.fourSum(Solution,[1,0,-1,0,-2,2],0)"
   ]
  },
  {
   "cell_type": "markdown",
   "metadata": {},
   "source": [
    "<aside>\n",
    "💡 **Question 3**\n",
    "A permutation of an array of integers is an arrangement of its members into a\n",
    "sequence or linear order.\n",
    "\n",
    "For example, for arr = [1,2,3], the following are all the permutations of arr:\n",
    "[1,2,3], [1,3,2], [2, 1, 3], [2, 3, 1], [3,1,2], [3,2,1].\n",
    "\n",
    "The next permutation of an array of integers is the next lexicographically greater\n",
    "permutation of its integer. More formally, if all the permutations of the array are\n",
    "sorted in one container according to their lexicographical order, then the next\n",
    "permutation of that array is the permutation that follows it in the sorted container.\n",
    "\n",
    "If such an arrangement is not possible, the array must be rearranged as the\n",
    "lowest possible order (i.e., sorted in ascending order).\n",
    "\n",
    "● For example, the next permutation of arr = [1,2,3] is [1,3,2].\n",
    "● Similarly, the next permutation of arr = [2,3,1] is [3,1,2].\n",
    "● While the next permutation of arr = [3,2,1] is [1,2,3] because [3,2,1] does not\n",
    "have a lexicographical larger rearrangement.\n",
    "\n",
    "Given an array of integers nums, find the next permutation of nums.\n",
    "The replacement must be in place and use only constant extra memory.\n",
    "\n",
    "**Example 1:**\n",
    "Input: nums = [1,2,3]\n",
    "Output: [1,3,2]\n",
    "\n",
    "</aside>"
   ]
  },
  {
   "cell_type": "code",
   "execution_count": 5,
   "metadata": {},
   "outputs": [],
   "source": [
    "class Solution2:\n",
    "    def nextPermutation(self, nums: List) -> None:\n",
    "        \"\"\"\n",
    "        Do not return anything, modify nums in-place instead.\n",
    "        \"\"\"\n",
    "        # Base case\n",
    "        if nums == sorted(nums, key=lambda x: -x):\n",
    "            nums.sort()\n",
    "            return\n",
    "\n",
    "        for i in range(len(nums) - 1, 0, -1):\n",
    "            if nums[i - 1] < nums[i]:\n",
    "                # Find the first value that is less than the current value\n",
    "                min_idx, min_val = len(nums), float('inf')\n",
    "                for j in range(len(nums) - 1, i - 1, -1):\n",
    "                    if nums[j] > nums[i - 1] and nums[j] < min_val:\n",
    "                        min_val = nums[j]\n",
    "                        min_idx = j\n",
    "                nums[i - 1], nums[min_idx] = nums[min_idx], nums[i - 1]\n",
    "\n",
    "                # Bubble Sort\n",
    "                while True:\n",
    "                    swapped = False\n",
    "                    for k in range(i, len(nums) - 1):\n",
    "                        if nums[k] > nums[k + 1]:\n",
    "                            swapped = True\n",
    "                            nums[k], nums[k + 1] = nums[k + 1], nums[k]\n",
    "                    if swapped == False: break\n",
    "                    \n",
    "                return"
   ]
  },
  {
   "cell_type": "code",
   "execution_count": 6,
   "metadata": {},
   "outputs": [],
   "source": [
    "Solution2.nextPermutation(Solution2,[1,2,3] )"
   ]
  },
  {
   "cell_type": "markdown",
   "metadata": {},
   "source": [
    "Question 4\n",
    "Given a sorted array of distinct integers and a target value, return the index if the\n",
    "target is found. If not, return the index where it would be if it were inserted in\n",
    "order.\n",
    "\n",
    "You must write an algorithm with O(log n) runtime complexity.\n",
    "\n",
    "Example 1:\n",
    "Input: nums = [1,3,5,6], target = 5\n",
    "Output: 2"
   ]
  },
  {
   "cell_type": "code",
   "execution_count": 7,
   "metadata": {},
   "outputs": [],
   "source": [
    "class Solution3:\n",
    "    def searchInsert(self, nums: List, target: int) -> int:\n",
    "        left,right=0,len(nums)-1\n",
    "        while left<=right:\n",
    "            mid=(left+right)//2\n",
    "            if nums[mid]==target:\n",
    "                return mid\n",
    "            elif nums[mid]<target:\n",
    "                left=mid+1\n",
    "            else:\n",
    "                right=mid-1\n",
    "        return left"
   ]
  },
  {
   "cell_type": "code",
   "execution_count": 8,
   "metadata": {},
   "outputs": [
    {
     "data": {
      "text/plain": [
       "2"
      ]
     },
     "execution_count": 8,
     "metadata": {},
     "output_type": "execute_result"
    }
   ],
   "source": [
    "Solution3.searchInsert(Solution3,[1,3,5,6],5)"
   ]
  },
  {
   "cell_type": "markdown",
   "metadata": {},
   "source": [
    "<aside>\n",
    "💡 **Question 5**\n",
    "You are given a large integer represented as an integer array digits, where each\n",
    "digits[i] is the ith digit of the integer. The digits are ordered from most significant\n",
    "to least significant in left-to-right order. The large integer does not contain any\n",
    "leading 0's.\n",
    "\n",
    "Increment the large integer by one and return the resulting array of digits.\n",
    "\n",
    "**Example 1:**\n",
    "Input: digits = [1,2,3]\n",
    "Output: [1,2,4]\n",
    "\n",
    "**Explanation:** The array represents the integer 123.\n",
    "Incrementing by one gives 123 + 1 = 124.\n",
    "Thus, the result should be [1,2,4].\n",
    "\n",
    "</aside>"
   ]
  },
  {
   "cell_type": "code",
   "execution_count": 9,
   "metadata": {},
   "outputs": [],
   "source": [
    "class Solution4:\n",
    "    def plusOne(self, digits: List) -> List:\n",
    "        digits=digits[::-1]\n",
    "        x=1\n",
    "        ans=[]\n",
    "        for i in range(len(digits)):\n",
    "            ans+=[(digits[i]+x)%10]\n",
    "            x=(digits[i]+x)//10\n",
    "        if x:\n",
    "            ans+=[x]\n",
    "        return ans[::-1]"
   ]
  },
  {
   "cell_type": "code",
   "execution_count": 10,
   "metadata": {},
   "outputs": [
    {
     "data": {
      "text/plain": [
       "[1, 2, 4]"
      ]
     },
     "execution_count": 10,
     "metadata": {},
     "output_type": "execute_result"
    }
   ],
   "source": [
    "Solution4.plusOne(Solution4,[1,2,3])\n",
    "# time = 29ms Beats 95%"
   ]
  },
  {
   "cell_type": "markdown",
   "metadata": {},
   "source": [
    "Question 6\n",
    "Given a non-empty array of integers nums, every element appears twice except\n",
    "for one. Find that single one.\n",
    "\n",
    "You must implement a solution with a linear runtime complexity and use only\n",
    "constant extra space.\n",
    "\n",
    "Example 1:\n",
    "Input: nums = [2,2,1]\n",
    "Output: 1"
   ]
  },
  {
   "cell_type": "code",
   "execution_count": 11,
   "metadata": {},
   "outputs": [],
   "source": [
    "class Solution6(object):\n",
    "    def singleNumber(self, nums):\n",
    "        # Initialize the unique number...\n",
    "        uniqNum = 0;\n",
    "        # TRaverse all elements through the loop...\n",
    "        for idx in nums:\n",
    "            # Concept of XOR...\n",
    "            uniqNum ^= idx;\n",
    "        return uniqNum;  "
   ]
  },
  {
   "cell_type": "code",
   "execution_count": 12,
   "metadata": {},
   "outputs": [
    {
     "data": {
      "text/plain": [
       "1"
      ]
     },
     "execution_count": 12,
     "metadata": {},
     "output_type": "execute_result"
    }
   ],
   "source": [
    "Solution6.singleNumber(Solution6,[2,2,1])\n",
    "# 160ms beats in 22%"
   ]
  },
  {
   "cell_type": "markdown",
   "metadata": {},
   "source": [
    "Question 7\n",
    "You are given an inclusive range [lower, upper] and a sorted unique integer array\n",
    "nums, where all elements are within the inclusive range.\n",
    "\n",
    "A number x is considered missing if x is in the range [lower, upper] and x is not in\n",
    "nums.\n",
    "\n",
    "Return the shortest sorted list of ranges that exactly covers all the missing\n",
    "numbers. That is, no element of nums is included in any of the ranges, and each\n",
    "missing number is covered by one of the ranges.\n",
    "\n",
    "Example 1:\n",
    "Input: nums = [0,1,3,50,75], lower = 0, upper = 99\n",
    "Output: [[2,2],[4,49],[51,74],[76,99]]\n",
    "\n",
    "Explanation: The ranges are:\n",
    "[2,2]\n",
    "[4,49]\n",
    "[51,74]\n",
    "[76,99]"
   ]
  },
  {
   "cell_type": "code",
   "execution_count": 13,
   "metadata": {},
   "outputs": [],
   "source": [
    "list =[]"
   ]
  },
  {
   "cell_type": "code",
   "execution_count": 14,
   "metadata": {},
   "outputs": [
    {
     "ename": "TypeError",
     "evalue": "'list' object is not callable",
     "output_type": "error",
     "traceback": [
      "\u001b[1;31m---------------------------------------------------------------------------\u001b[0m",
      "\u001b[1;31mTypeError\u001b[0m                                 Traceback (most recent call last)",
      "Cell \u001b[1;32mIn[14], line 10\u001b[0m\n\u001b[0;32m      7\u001b[0m     \u001b[39mreturn\u001b[39;00m \u001b[39mzip\u001b[39m(a, b)\n\u001b[0;32m      9\u001b[0m x \u001b[39m=\u001b[39m [\u001b[39m1\u001b[39m, \u001b[39m2\u001b[39m, \u001b[39m3\u001b[39m]\n\u001b[1;32m---> 10\u001b[0m lst \u001b[39m=\u001b[39m \u001b[39mlist\u001b[39;49m(pairwise(x))\n\u001b[0;32m     11\u001b[0m \u001b[39mprint\u001b[39m(lst)\n",
      "\u001b[1;31mTypeError\u001b[0m: 'list' object is not callable"
     ]
    }
   ],
   "source": [
    "from itertools import tee\n",
    "\n",
    "def pairwise(iterable):\n",
    "    # pairwise('ABCDEFG') --> AB BC CD DE EF FG\n",
    "    a, b = tee(iterable)\n",
    "    next(b, None)\n",
    "    return zip(a, b)\n",
    "\n",
    "x = [1, 2, 3]\n",
    "lst = list(pairwise(x))\n",
    "print(lst)"
   ]
  },
  {
   "cell_type": "code",
   "execution_count": null,
   "metadata": {},
   "outputs": [],
   "source": [
    "class Solution7:\n",
    "    def findMissingRanges(self, nums: List, lower: int, upper: int) -> List:\n",
    "        def f(a, b):\n",
    "            return str(a) if a == b else f'{a}->{b}'\n",
    "\n",
    "        n = len(nums)\n",
    "        if n == 0:\n",
    "            return [f(lower, upper)]\n",
    "        ans = []\n",
    "        if nums[0] > lower:\n",
    "            ans.append(f(lower, nums[0] - 1))\n",
    "        for a, b in pairwise(nums):\n",
    "            if b - a > 1:\n",
    "                ans.append(f(a + 1, b - 1))\n",
    "        if nums[-1] < upper:\n",
    "            ans.append(f(nums[-1] + 1, upper))\n",
    "        return ans"
   ]
  },
  {
   "cell_type": "code",
   "execution_count": null,
   "metadata": {},
   "outputs": [
    {
     "data": {
      "text/plain": [
       "['2', '4->49', '51->74', '76->99']"
      ]
     },
     "execution_count": 38,
     "metadata": {},
     "output_type": "execute_result"
    }
   ],
   "source": [
    "Solution7.findMissingRanges(Solution7,[0,1,3,50,75],0,99)\n",
    "\n",
    "# 620ms , it beats by 39%"
   ]
  },
  {
   "cell_type": "markdown",
   "metadata": {},
   "source": [
    "Question 8\n",
    "Given an array of meeting time intervals where intervals[i] = [starti, endi],\n",
    "determine if a person could attend all meetings.\n",
    "\n",
    "Example 1:\n",
    "Input: intervals = [[0,30],[5,10],[15,20]]\n",
    "Output: false"
   ]
  },
  {
   "cell_type": "code",
   "execution_count": null,
   "metadata": {},
   "outputs": [],
   "source": [
    "class Solution8():\n",
    "    def eraseOverlapIntervals(self, intervals: [[int]]) -> int:\n",
    "        # Sort intervals by their end time\n",
    "        intervals.sort(key=lambda x: x[1])\n",
    "        \n",
    "        # Initialize variables\n",
    "        end = intervals[0][1]\n",
    "        count = 1\n",
    "        \n",
    "        # Iterate over the rest of the intervals\n",
    "        for i in range(1, len(intervals)):\n",
    "            # If the start time of the current interval is greater than or equal to the end time of the previous interval, they don't overlap\n",
    "            if intervals[i][0] >= end:\n",
    "                # Update end time to be the end time of the current interval\n",
    "                end = intervals[i][1]\n",
    "                # Increment the count of non-overlapping intervals\n",
    "                count += 1\n",
    "            # If they overlap, discard the current interval\n",
    "            # (we don't need to update end time or count)\n",
    "            # because the previous interval has a smaller end time and a higher priority\n",
    "            else:\n",
    "                continue\n",
    "        \n",
    "        # The number of intervals to remove is the difference between the total number of intervals and the count of non-overlapping intervals\n",
    "        return len(intervals) - count"
   ]
  },
  {
   "cell_type": "code",
   "execution_count": null,
   "metadata": {},
   "outputs": [
    {
     "data": {
      "text/plain": [
       "1"
      ]
     },
     "execution_count": 18,
     "metadata": {},
     "output_type": "execute_result"
    }
   ],
   "source": [
    "Solution8.eraseOverlapIntervals(Solution8,[[0,30],[5,10],[15,20]])"
   ]
  },
  {
   "cell_type": "markdown",
   "metadata": {},
   "source": [
    "Question 8\n",
    "Given an array of meeting time intervals where intervals[i] = [starti, endi],\n",
    "determine if a person could attend all meetings.\n",
    "\n",
    "Example 1:\n",
    "Input: intervals = [[0,30],[5,10],[15,20]]\n",
    "Output: false"
   ]
  },
  {
   "cell_type": "code",
   "execution_count": 16,
   "metadata": {},
   "outputs": [],
   "source": [
    "def canAttendMeetings(self, intervals: [[int]]) -> bool:\n",
    "        new_intervals = sorted(intervals, key=lambda x: x[0])\n",
    "        for i in range(1,len(new_intervals)):\n",
    "            if new_intervals[i-1][1] > new_intervals[i][0]:return False\n",
    "        return True"
   ]
  },
  {
   "cell_type": "code",
   "execution_count": 19,
   "metadata": {},
   "outputs": [
    {
     "data": {
      "text/plain": [
       "False"
      ]
     },
     "execution_count": 19,
     "metadata": {},
     "output_type": "execute_result"
    }
   ],
   "source": [
    "canAttendMeetings(0,[[0,30],[5,10],[15,20]])"
   ]
  }
 ],
 "metadata": {
  "kernelspec": {
   "display_name": "Python 3",
   "language": "python",
   "name": "python3"
  },
  "language_info": {
   "codemirror_mode": {
    "name": "ipython",
    "version": 3
   },
   "file_extension": ".py",
   "mimetype": "text/x-python",
   "name": "python",
   "nbconvert_exporter": "python",
   "pygments_lexer": "ipython3",
   "version": "3.11.1"
  },
  "orig_nbformat": 4
 },
 "nbformat": 4,
 "nbformat_minor": 2
}
